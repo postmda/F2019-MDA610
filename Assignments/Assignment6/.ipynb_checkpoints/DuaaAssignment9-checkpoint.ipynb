{
 "cells": [
  {
   "cell_type": "code",
   "execution_count": null,
   "metadata": {},
   "outputs": [
    {
     "name": "stdout",
     "output_type": "stream",
     "text": [
      "{'mean': 6.2, 'variance': 61.70000000000001, 'deviation': 7.854934754662193}\n"
     ]
    }
   ],
   "source": [
    "# coding: utf-8\n",
    "\n",
    "import math\n",
    "\n",
    "def mean_function(slist): \n",
    "\n",
    "    sum = 0 \n",
    "\n",
    "    for a in slist: \n",
    "\n",
    "         sum += a\n",
    "\n",
    "    mean = sum / len(slist)\n",
    "\n",
    "    nsum = 0 \n",
    "\n",
    "    for b in slist: \n",
    "\n",
    "        nsum += (b - mean) * (b - mean)\n",
    "\n",
    "    var = nsum / (len(slist) - 1) \n",
    "\n",
    "    dev = math.sqrt(var)\n",
    "\n",
    "    result = {\"mean\":mean, \"variance\":var, \"deviation\":dev}\n",
    "\n",
    "    return result\n",
    "\n",
    "    #return var\n",
    "\n",
    "    #return mean\n",
    "\n",
    "This_list = [1, 2, 3, 5, 20]\n",
    "\n",
    "Ans = mean_function(This_list)\n",
    "\n",
    "print(Ans)  \n",
    "\n",
    "def my_function ():\n",
    "\n",
    "    x = 0\n",
    "\n",
    "    slist = []\n",
    "\n",
    "    while True :\n",
    "\n",
    "        x = input(\"Enter any number to compute mean: \")\n",
    "\n",
    "        if x == \"STOP!\":\n",
    "\n",
    "            break\n",
    "\n",
    "        else:\n",
    "\n",
    "            slist.append(int(x)) \n",
    "\n",
    "    sum = 0 \n",
    "\n",
    "    for a in slist: \n",
    "\n",
    "         sum = sum +a\n",
    "    \n",
    "\n",
    "    mean = sum / len(slist)\n",
    "\n",
    "    return mean\n",
    "\n",
    "Ans = my_function()\n",
    "\n",
    "print(Ans)"
   ]
  },
  {
   "cell_type": "code",
   "execution_count": null,
   "metadata": {},
   "outputs": [],
   "source": []
  },
  {
   "cell_type": "code",
   "execution_count": null,
   "metadata": {},
   "outputs": [],
   "source": []
  },
  {
   "cell_type": "code",
   "execution_count": null,
   "metadata": {},
   "outputs": [],
   "source": []
  }
 ],
 "metadata": {
  "kernelspec": {
   "display_name": "Python 3",
   "language": "python",
   "name": "python3"
  },
  "language_info": {
   "codemirror_mode": {
    "name": "ipython",
    "version": 3
   },
   "file_extension": ".py",
   "mimetype": "text/x-python",
   "name": "python",
   "nbconvert_exporter": "python",
   "pygments_lexer": "ipython3",
   "version": "3.6.5"
  }
 },
 "nbformat": 4,
 "nbformat_minor": 2
}
