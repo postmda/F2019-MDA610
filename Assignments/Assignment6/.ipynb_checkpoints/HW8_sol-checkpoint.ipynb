{
 "cells": [
  {
   "cell_type": "markdown",
   "metadata": {},
   "source": [
    "## Assignment 8 Solutions"
   ]
  },
  {
   "cell_type": "code",
   "execution_count": null,
   "metadata": {},
   "outputs": [],
   "source": [
    "# Class Frac\n",
    "\n",
    "import gcd\n",
    "\n",
    "class Frac:\n",
    "    \"\"\" Fractional class. A Frac is a pair of integers num, den\n",
    "        (with den != 0) whose GCD is 1.\n",
    "    \"\"\"\n",
    "    def __init__(self, n, d):\n",
    "        \"\"\" Construct a Frac from integers n and d.\n",
    "            Needs error message if d = 0!\n",
    "        \"\"\"\n",
    "        ########################################################################\n",
    "        # TODO 1:  \t                                                           # \n",
    "        # warn the user and execute the return statement to terminate the      #\n",
    "        # function if argument d is zero.                                      #\n",
    "        #                                                                      #\n",
    "        ########################################################################\n",
    "        pass\n",
    "        if d == 0:\n",
    "            print(\"Error: Denominator d cannot be zero!\")\n",
    "            return\n",
    "        hcf = gcd.gcd(n, d)\n",
    "        self.num, self.den = n/hcf, d/hcf\n",
    "\n",
    "    def __str__(self):\n",
    "        \"\"\" Generate a string representation of a Frac. \"\"\"\n",
    "        ########################################################################\n",
    "        # TODO 2:                                                              # \n",
    "        # rvise the __str__ function so that self.num only is returned if      #\n",
    "        # self.den is 1.                                                       #\n",
    "        #                                                                      #\n",
    "        ########################################################################\n",
    "        pass\n",
    "        if self.den == 1:\n",
    "            return \"%d\" %(self.num)\n",
    "        return \"%d/%d\" %(self.num, self.den)\n",
    "\n",
    "    def __mul__(self, another):\n",
    "        \"\"\" Multiply two Fracs to product a Frac. \"\"\"\n",
    "        return Frac(self.num * another.num, self.den * another.den)\n",
    "\n",
    "    def __add__(self, another):\n",
    "        \"\"\" Add two Fracs to product a Frac. \"\"\"\n",
    "        return Frac(self.num * another.den + self.den * another.num, self.den * another.den)\n",
    "\n",
    "    def to_real(self):\n",
    "        \"\"\" return floating point value of Frac. \"\"\"\n",
    "        return float(self.num)/float(self.den)\n",
    "\n",
    "    def __sub__(self, another):\n",
    "        \"\"\" Subtract one Frac from the other. \"\"\"\n",
    "        ########################################################################\n",
    "        # TODO 3:  \t                                                           # \n",
    "        # fill in the __sub__ function to implement fraction subtraction.      #\n",
    "        #                                                                      #\n",
    "        ########################################################################\n",
    "        pass\n",
    "        return Frac(self.num * another.den - self.den * another.num, \n",
    "                    self.den * another.den)\n",
    "\n",
    "    def __truediv__(self, another):\n",
    "        \"\"\" Divide one Frac from the other. \"\"\"\n",
    "        ########################################################################\n",
    "        # TODO 4:                                                              # \n",
    "        # fill in the __truediv__ function to implement fraction division.     #\n",
    "        #                                                                      #\n",
    "        ########################################################################\n",
    "        pass\n",
    "        return Frac(self.num * another.den, self.den * another.num)"
   ]
  },
  {
   "cell_type": "code",
   "execution_count": null,
   "metadata": {},
   "outputs": [],
   "source": [
    "x = Frac(3, 0)\n",
    "y = Frac(4, 12)\n",
    "print(\"y=\", y)\n",
    "z = Frac(4, 1)\n",
    "print(\"z=\", z)\n",
    "a = Frac(24, 56)\n",
    "b = Frac(3, 8)\n",
    "print(\"sum=\", a + b)\n",
    "print(\"difference=\", a - b)\n",
    "print(\"product=\", a * b)\n",
    "print(\"ratio=\", a / b)"
   ]
  },
  {
   "cell_type": "code",
   "execution_count": null,
   "metadata": {},
   "outputs": [],
   "source": []
  }
 ],
 "metadata": {
  "kernelspec": {
   "display_name": "Python 3",
   "language": "python",
   "name": "python3"
  },
  "language_info": {
   "codemirror_mode": {
    "name": "ipython",
    "version": 3
   },
   "file_extension": ".py",
   "mimetype": "text/x-python",
   "name": "python",
   "nbconvert_exporter": "python",
   "pygments_lexer": "ipython3",
   "version": "3.6.5"
  }
 },
 "nbformat": 4,
 "nbformat_minor": 2
}
