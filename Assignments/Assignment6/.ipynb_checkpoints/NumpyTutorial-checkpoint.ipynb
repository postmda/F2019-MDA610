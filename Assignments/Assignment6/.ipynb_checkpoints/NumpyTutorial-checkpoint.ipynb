{
 "cells": [
  {
   "cell_type": "markdown",
   "metadata": {},
   "source": [
    "# Numpy: A Short Tutorial\n",
    "-  Numpy is an add-on package for scientific computation.\n",
    "-  The basic object in Numpy is *ndarray*, an array of objects of the same type.\n",
    "-  Operations on ndarrays are very efficient.\n"
   ]
  },
  {
   "cell_type": "code",
   "execution_count": null,
   "metadata": {
    "collapsed": true
   },
   "outputs": [],
   "source": [
    "# import the numpy module\n",
    "import numpy as np"
   ]
  },
  {
   "cell_type": "markdown",
   "metadata": {},
   "source": [
    "## One-dimensional Arrays"
   ]
  },
  {
   "cell_type": "markdown",
   "metadata": {},
   "source": [
    "### Constructors\n",
    "-  ```np.linspace``` builds an equally spaced array of floats.\n",
    "-  ```np.arange``` returns an array of integers.\n",
    "-  ```np.array``` converts a container object into an array.\n",
    "-  ```np.zeros```, ```np.ones``` and ```np.empty``` create an array filled with zeros, ones and Nones, respectively. \n",
    "-  Look alike constructors ```np.zeros_like```, ```np.ones_like``` and ```np.empty_lie```set up arrays of the same size and type."
   ]
  },
  {
   "cell_type": "code",
   "execution_count": null,
   "metadata": {},
   "outputs": [],
   "source": [
    "# np.linspace with endpoint = True\n",
    "x = np.linspace(0, 1, 11, endpoint = True)\n",
    "x"
   ]
  },
  {
   "cell_type": "code",
   "execution_count": null,
   "metadata": {},
   "outputs": [],
   "source": [
    "# np.linspace with endpoint = False\n",
    "x = np.linspace(0, 1, 11, endpoint = False)\n",
    "x"
   ]
  },
  {
   "cell_type": "code",
   "execution_count": null,
   "metadata": {},
   "outputs": [],
   "source": [
    "# np.arange\n",
    "y = np.arange(0, 10, 2, dtype=np.int32)\n",
    "y"
   ]
  },
  {
   "cell_type": "code",
   "execution_count": null,
   "metadata": {},
   "outputs": [],
   "source": [
    "# np.array converts a container object to an ndarray\n",
    "z = np.array([1, 2, 3])\n",
    "z"
   ]
  },
  {
   "cell_type": "code",
   "execution_count": null,
   "metadata": {},
   "outputs": [],
   "source": [
    "# np.zeros\n",
    "a1 = np.zeros(5)\n",
    "a1"
   ]
  },
  {
   "cell_type": "code",
   "execution_count": null,
   "metadata": {},
   "outputs": [],
   "source": [
    "# np.ones\n",
    "a2 = np.ones(10)\n",
    "a2"
   ]
  },
  {
   "cell_type": "code",
   "execution_count": null,
   "metadata": {},
   "outputs": [],
   "source": [
    "# np.zeros_like\n",
    "a3 = np.array([1, 2, 3, 4, 5])\n",
    "a4 = np.zeros_like(a3)\n",
    "a4"
   ]
  },
  {
   "cell_type": "code",
   "execution_count": null,
   "metadata": {},
   "outputs": [],
   "source": [
    "# np.ones_like\n",
    "a5 = np.array([1, 3, 5, 7, 9])\n",
    "a6 = np.ones_like(a5)\n",
    "a6"
   ]
  },
  {
   "cell_type": "markdown",
   "metadata": {},
   "source": [
    "### Arithmetical Operations\n",
    "-  Arithmetic operations between arrays of the same size are performed component-wise.\n",
    "-  Arithmetic operations between an array and a scalar are performed component-wise."
   ]
  },
  {
   "cell_type": "code",
   "execution_count": null,
   "metadata": {},
   "outputs": [],
   "source": [
    "# arrays a and b are of the same size\n",
    "a = np.arange(5)\n",
    "b = np.arange(2, 7)\n",
    "print(a)\n",
    "print(b)\n",
    "a + b"
   ]
  },
  {
   "cell_type": "code",
   "execution_count": null,
   "metadata": {},
   "outputs": [],
   "source": [
    "# broadcasting\n",
    "c = np.arange(5)\n",
    "print(c)\n",
    "2 * c"
   ]
  },
  {
   "cell_type": "code",
   "execution_count": null,
   "metadata": {},
   "outputs": [],
   "source": [
    "# slicing an array creates a view of the original array\n",
    "arr1 = np.arange(5)\n",
    "arr2 = arr1[2:]\n",
    "arr2[0] = 10\n",
    "print(arr2)\n",
    "print(arr1)"
   ]
  },
  {
   "cell_type": "markdown",
   "metadata": {},
   "source": [
    "### Universal Functions\n",
    "-  A *ufunc* is a universal function which when applied to an array produces an array of the same size, by operating component-wise.\n",
    "-  *Vectorization* is to implement operations through ufuncs instead of loops.\n",
    "-  Vectorization makes repeated calculations on array elements much more efficient."
   ]
  },
  {
   "cell_type": "code",
   "execution_count": null,
   "metadata": {},
   "outputs": [],
   "source": [
    "# np.exp\n",
    "a = np.arange(5)\n",
    "b = np.exp(a)\n",
    "b"
   ]
  },
  {
   "cell_type": "markdown",
   "metadata": {},
   "source": [
    " ### Logical Operations on Arrays"
   ]
  },
  {
   "cell_type": "code",
   "execution_count": null,
   "metadata": {},
   "outputs": [],
   "source": [
    "# a Boolean array\n",
    "x = np.linspace(-2, 2, 9)\n",
    "y = x < 0\n",
    "y"
   ]
  },
  {
   "cell_type": "code",
   "execution_count": null,
   "metadata": {},
   "outputs": [],
   "source": [
    "# masking\n",
    "z = x.copy()\n",
    "z[y] = -z[y]\n",
    "z"
   ]
  },
  {
   "cell_type": "code",
   "execution_count": null,
   "metadata": {},
   "outputs": [],
   "source": [
    "# masking\n",
    "z = x.copy()\n",
    "z[z < 0] = -z[z < 0]\n",
    "z"
   ]
  },
  {
   "cell_type": "markdown",
   "metadata": {},
   "source": [
    "## Two-dimensional Arrays\n",
    "-  Three attributes: ```ndim```, ```shape```, and ```dtype```."
   ]
  },
  {
   "cell_type": "code",
   "execution_count": null,
   "metadata": {},
   "outputs": [],
   "source": [
    "v = np.array([[0, 1, 2], [3, 4, 5]])\n",
    "print(v.ndim)\n",
    "print(v.shape)\n",
    "print(v.shape[0])\n",
    "print(v.dtype)"
   ]
  },
  {
   "cell_type": "markdown",
   "metadata": {},
   "source": [
    "### Indexing\n",
    "-  Fancy indexing: passing an array of indices to access multiple array elements at once. "
   ]
  },
  {
   "cell_type": "code",
   "execution_count": null,
   "metadata": {},
   "outputs": [],
   "source": [
    "# basic indexing\n",
    "v = np.array([[0, 1, 2], [3, 4, 5]])\n",
    "print(v[1, 2])\n",
    "print(v[0])\n",
    "print(v[:, 1])"
   ]
  },
  {
   "cell_type": "code",
   "execution_count": null,
   "metadata": {},
   "outputs": [],
   "source": [
    "# fancy indexing - one-dimensional\n",
    "# with fancy indexing, the shape of the result reflects the shape of the index arrays. \n",
    "x = np.array([1, 2, 3, 4, 5, 6])\n",
    "ind = np.array([[3, 2], [1, 4]])\n",
    "x[ind]"
   ]
  },
  {
   "cell_type": "code",
   "execution_count": null,
   "metadata": {},
   "outputs": [],
   "source": [
    "# fancy indexing - two-dimensional\n",
    "row = np.array([0, 1, 1])\n",
    "col = np.array([2, 1, 2])\n",
    "v[row, col]   # v[0,2], v[1,1], v[1,2]"
   ]
  },
  {
   "cell_type": "markdown",
   "metadata": {},
   "source": [
    "### Constructors\n",
    "-  For the three functions ```np.zeros```, ```np.ones``` and ```np.empty```, the first argument is replaced with a tuple to define the shape of the array.\n",
    "-  The look alike constructors can be applied.\n",
    "-  ```np.reshape``` recasts the array into another of another shape."
   ]
  },
  {
   "cell_type": "code",
   "execution_count": null,
   "metadata": {},
   "outputs": [],
   "source": [
    "# np.zeros\n",
    "x = np.zeros((3, 4))\n",
    "x"
   ]
  },
  {
   "cell_type": "code",
   "execution_count": null,
   "metadata": {},
   "outputs": [],
   "source": [
    "# np.reshape\n",
    "y = np.arange(12)\n",
    "z = y.reshape((4, 3))\n",
    "print(y)\n",
    "print(z)"
   ]
  },
  {
   "cell_type": "markdown",
   "metadata": {},
   "source": [
    "### Broadcasting\n",
    "-  Broadcasting can be applied when the shapes of array x and array y differ. \n",
    "-  Rule 1: If the arrays do not have the same number of dimensions, then a \"1\" will be repeatedly prepended to the shapes of the smaller arrays until all arrays have the same number of axes.\n",
    "-  Rule 2: The arrays with a size of 1 along a particular dimension or axis act as if they had the size of array with the largest size along that dimension."
   ]
  },
  {
   "cell_type": "code",
   "execution_count": null,
   "metadata": {
    "collapsed": true
   },
   "outputs": [],
   "source": [
    "a = np.arange(12).reshape((3, 4))\n",
    "b = np.array([10, 11, 12, 13])\n",
    "c = np.array([20, 30, 40])\n",
    "d = np.array([[5], [6], [7]])"
   ]
  },
  {
   "cell_type": "code",
   "execution_count": null,
   "metadata": {},
   "outputs": [],
   "source": [
    "print(a + 2)\n",
    "print(a + b)\n",
    "print(a + c[:, np.newaxis])\n",
    "print(a + d)"
   ]
  },
  {
   "cell_type": "markdown",
   "metadata": {},
   "source": [
    "### Aggregation Ufuncs"
   ]
  },
  {
   "cell_type": "code",
   "execution_count": null,
   "metadata": {},
   "outputs": [],
   "source": [
    "# np.max and np.min\n",
    "x = np.arange(6).reshape((3, 2))\n",
    "print(x)\n",
    "print(np.max(x))\n",
    "print(np.max(x, axis = 0))  # column maxima\n",
    "print(np.max(x, axis = 1))  # row maxima"
   ]
  },
  {
   "cell_type": "code",
   "execution_count": null,
   "metadata": {
    "scrolled": true
   },
   "outputs": [],
   "source": [
    "# np.argmax and np.argmin\n",
    "np.argmax(x, axis = 0)   # positions of the column maxima"
   ]
  },
  {
   "cell_type": "code",
   "execution_count": null,
   "metadata": {},
   "outputs": [],
   "source": [
    "# np.sum and np.prod\n",
    "print(np.sum(x, axis = 0))   # column sums\n",
    "print(np.prod(x, axis = 1))   # row products"
   ]
  },
  {
   "cell_type": "code",
   "execution_count": null,
   "metadata": {},
   "outputs": [],
   "source": [
    "# np.average and np.var\n",
    "print(np.average(x, axis = 0))\n",
    "print(np.var(x, axis = 1))"
   ]
  },
  {
   "cell_type": "markdown",
   "metadata": {},
   "source": [
    "### Boolean Arrays"
   ]
  },
  {
   "cell_type": "code",
   "execution_count": null,
   "metadata": {},
   "outputs": [],
   "source": [
    "# masking - the result is a 1-D array\n",
    "x = np.arange(12).reshape((3, 4))\n",
    "y = x[x < 6]\n",
    "y"
   ]
  },
  {
   "cell_type": "code",
   "execution_count": null,
   "metadata": {},
   "outputs": [],
   "source": [
    "# counting entries\n",
    "print(np.sum(x < 6))   # number of values less than 6\n",
    "print(np.sum(x < 6, axis = 0))   # number of values less than 6 in each row"
   ]
  },
  {
   "cell_type": "markdown",
   "metadata": {},
   "source": [
    "## Linear Algebra\n",
    "-  transpose\n",
    "-  ```np.identity```\n",
    "-  ```np.dot```\n",
    "-  ```np.vstack```"
   ]
  },
  {
   "cell_type": "code",
   "execution_count": null,
   "metadata": {},
   "outputs": [],
   "source": [
    "I = np.identity(3)\n",
    "I"
   ]
  },
  {
   "cell_type": "code",
   "execution_count": null,
   "metadata": {},
   "outputs": [],
   "source": [
    "# matrix multiplicaiton\n",
    "x = np.arange(12).reshape((3, 4))\n",
    "w = np.array([1, 2, 3])\n",
    "y = np.dot(w, x)\n",
    "y"
   ]
  },
  {
   "cell_type": "code",
   "execution_count": null,
   "metadata": {},
   "outputs": [],
   "source": [
    "# transpose\n",
    "x = np.arange(12).reshape(3, 4)\n",
    "w = np.array([[1], [2], [3]])\n",
    "y = np.dot(w.T, x)\n",
    "y"
   ]
  },
  {
   "cell_type": "markdown",
   "metadata": {},
   "source": [
    "## Random Numbers"
   ]
  },
  {
   "cell_type": "code",
   "execution_count": null,
   "metadata": {},
   "outputs": [],
   "source": [
    "# np.random.rand\n",
    "np.random.seed(12345)\n",
    "rx = np.random.rand(3, 4)\n",
    "rx"
   ]
  },
  {
   "cell_type": "code",
   "execution_count": null,
   "metadata": {},
   "outputs": [],
   "source": [
    "# np.random.randn\n",
    "ry = 2.5 * np.random.randn(3, 4) + 6   # mean of 6 and stdev of 2.5\n",
    "ry"
   ]
  },
  {
   "cell_type": "markdown",
   "metadata": {},
   "source": [
    "## Vectorization"
   ]
  },
  {
   "cell_type": "code",
   "execution_count": null,
   "metadata": {},
   "outputs": [],
   "source": [
    "def compute_reciprocal(values):\n",
    "    output = np.empty_like(values)\n",
    "    for i in range(values.size):\n",
    "        output[i] = 1.0 / values[i];\n",
    "    return output\n",
    "\n",
    "values = np.random.randn(1000000)\n",
    "%timeit -n 10 compute_reciprocal(values)\n",
    "%timeit -n 10 1.0 / values "
   ]
  }
 ],
 "metadata": {
  "kernelspec": {
   "display_name": "Python 3",
   "language": "python",
   "name": "python3"
  },
  "language_info": {
   "codemirror_mode": {
    "name": "ipython",
    "version": 3
   },
   "file_extension": ".py",
   "mimetype": "text/x-python",
   "name": "python",
   "nbconvert_exporter": "python",
   "pygments_lexer": "ipython3",
   "version": "3.6.5"
  }
 },
 "nbformat": 4,
 "nbformat_minor": 2
}
