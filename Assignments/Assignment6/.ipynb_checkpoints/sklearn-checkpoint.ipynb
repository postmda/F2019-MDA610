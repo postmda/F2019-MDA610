{
 "cells": [
  {
   "cell_type": "code",
   "execution_count": null,
   "metadata": {
    "scrolled": true
   },
   "outputs": [],
   "source": [
    "import matplotlib.pyplot as plt\n",
    "%matplotlib inline\n",
    "%load_ext autoreload\n",
    "%autoreload 2\n",
    "import numpy as np\n",
    "from time import time\n",
    "from sklearn.metrics import accuracy_score\n",
    "from sklearn.metrics import confusion_matrix\n",
    "from sklearn.metrics import classification_report\n",
    "from sklearn.model_selection import GridSearchCV"
   ]
  },
  {
   "cell_type": "markdown",
   "metadata": {},
   "source": [
    "## Load, Analyze and Partition Data"
   ]
  },
  {
   "cell_type": "code",
   "execution_count": null,
   "metadata": {
    "scrolled": true
   },
   "outputs": [],
   "source": [
    "# download the data - Labeled Faces in the Wild\n",
    "from sklearn.datasets import fetch_lfw_people\n",
    "faces = fetch_lfw_people(min_faces_per_person = 70)"
   ]
  },
  {
   "cell_type": "code",
   "execution_count": null,
   "metadata": {},
   "outputs": [],
   "source": [
    "faces.keys()"
   ]
  },
  {
   "cell_type": "code",
   "execution_count": null,
   "metadata": {},
   "outputs": [],
   "source": [
    "# introspect the arrays\n",
    "print(faces.images.shape)\n",
    "print(faces.data.shape)\n",
    "print(faces.target.shape)"
   ]
  },
  {
   "cell_type": "code",
   "execution_count": null,
   "metadata": {
    "scrolled": true
   },
   "outputs": [],
   "source": [
    "# frequency distribution of the samples\n",
    "print(faces.target_names)\n",
    "np.unique(faces.target, return_index = False, return_counts = True)"
   ]
  },
  {
   "cell_type": "code",
   "execution_count": null,
   "metadata": {
    "scrolled": true
   },
   "outputs": [],
   "source": [
    "# plot the first 16 images\n",
    "fig = plt.figure(figsize=(6, 6))\n",
    "fig.subplots_adjust(left = 0, right = 1, bottom = 0, top = 1, hspace = 1.5, wspace = 0.3)\n",
    "for i in range(16):\n",
    "    ax = fig.add_subplot(4, 4, i + 1, xticks = [], yticks = [])\n",
    "    ax.imshow(faces.images[i], cmap = plt.cm.binary, interpolation = 'nearest')\n",
    "    ax.text(0, -1, faces.target_names[[faces.target[i]]])"
   ]
  },
  {
   "cell_type": "code",
   "execution_count": null,
   "metadata": {
    "scrolled": true
   },
   "outputs": [],
   "source": [
    "fig = plt.figure(figsize=(6, 4))\n",
    "ax = fig.add_subplot(1, 1, 1, xticks = [], yticks = [])\n",
    "ax.imshow(faces.images[6], cmap = plt.cm.binary, interpolation = 'nearest')\n",
    "ax.text(0, -1, faces.target_names[[faces.target[6]]])\n",
    "plt.plot()"
   ]
  },
  {
   "cell_type": "code",
   "execution_count": null,
   "metadata": {},
   "outputs": [],
   "source": [
    "print(\"Total dataset size:\")\n",
    "n_samples = faces.data.shape[0]\n",
    "print(\"n_samples: %d\" % n_samples)\n",
    "n_features = faces.data.shape[1]\n",
    "print(\"n_features: %d\" % n_features)\n",
    "n_classes = faces.target_names.shape[0]\n",
    "print(\"n_classes: %d\" % n_classes)"
   ]
  },
  {
   "cell_type": "code",
   "execution_count": null,
   "metadata": {},
   "outputs": [],
   "source": [
    "# data partitioning\n",
    "from sklearn.model_selection import train_test_split\n",
    "X = faces.data\n",
    "y = faces.target\n",
    "X_train, X_test, y_train, y_test = train_test_split(X, y, test_size = 0.25, random_state = 12345)\n",
    "print(\"Training dataset size: %d\" %X_train.shape[0])\n",
    "print(\"Test dataset size: %d\" %X_test.shape[0])"
   ]
  },
  {
   "cell_type": "markdown",
   "metadata": {},
   "source": [
    "## k-Nearest Neighbors"
   ]
  },
  {
   "cell_type": "code",
   "execution_count": null,
   "metadata": {
    "scrolled": true
   },
   "outputs": [],
   "source": [
    "# kNN\n",
    "from sklearn.neighbors import KNeighborsClassifier\n",
    "knn = KNeighborsClassifier(n_neighbors = 12)\n",
    "knn.fit(X_train, y_train)\n",
    "y_pred = knn.predict(X_test)\n",
    "print(classification_report(y_test, y_pred))\n",
    "print(confusion_matrix(y_test, y_pred))\n",
    "print('accuracy: %5.3f' %accuracy_score(y_test, y_pred))"
   ]
  },
  {
   "cell_type": "code",
   "execution_count": null,
   "metadata": {},
   "outputs": [],
   "source": [
    "# kNN hyperparameter tuning\n",
    "param_grid = {'n_neighbors': [1, 5, 10]}\n",
    "t0 = time()\n",
    "clf = GridSearchCV(KNeighborsClassifier(),\n",
    "                   param_grid, cv=5)\n",
    "clf = clf.fit(X_train, y_train)\n",
    "print(\"done in %0.3fs\", time() - t0)\n",
    "print(\"Best estimator found by grid search:\")\n",
    "print(clf.best_estimator_)\n",
    "y_pred = clf.predict(X_test)\n",
    "print(classification_report(y_test, y_pred))\n",
    "print(confusion_matrix(y_test, y_pred))\n",
    "print('accuracy: %5.3f' %accuracy_score(y_test, y_pred))"
   ]
  },
  {
   "cell_type": "markdown",
   "metadata": {},
   "source": [
    "## Support Vector Machine"
   ]
  },
  {
   "cell_type": "code",
   "execution_count": null,
   "metadata": {
    "scrolled": true
   },
   "outputs": [],
   "source": [
    "# SVM\n",
    "from sklearn.svm import SVC\n",
    "svm = SVC(kernel = 'linear', class_weight='balanced', C = 1000, gamma = 0.005)\n",
    "svm.fit(X_train, y_train)\n",
    "y_pred = svm.predict(X_test)\n",
    "print(classification_report(y_test, y_pred))\n",
    "print(confusion_matrix(y_test, y_pred))\n",
    "print('accuracy: %5.3f' %accuracy_score(y_test, y_pred))"
   ]
  },
  {
   "cell_type": "code",
   "execution_count": null,
   "metadata": {},
   "outputs": [],
   "source": [
    "# SVC hyperparameter tuning\n",
    "param_grid = {'C': [1e3, 1e4, 1e5],\n",
    "              'gamma': [1.e-6, 1.e-7, 1.e-8], }\n",
    "t0 = time()\n",
    "clf = GridSearchCV(SVC(kernel='rbf', class_weight='balanced'),\n",
    "                   param_grid, cv=5)\n",
    "clf = clf.fit(X_train, y_train)\n",
    "print(\"done in %0.3fs\", time() - t0)\n",
    "print(\"Best estimator found by grid search:\")\n",
    "print(clf.best_estimator_)\n",
    "y_pred = clf.predict(X_test)\n",
    "print(classification_report(y_test, y_pred))\n",
    "print(confusion_matrix(y_test, y_pred))\n",
    "print('accuracy: %5.3f' %accuracy_score(y_test, y_pred))"
   ]
  },
  {
   "cell_type": "markdown",
   "metadata": {},
   "source": [
    "## Neural Networks"
   ]
  },
  {
   "cell_type": "code",
   "execution_count": null,
   "metadata": {
    "scrolled": true
   },
   "outputs": [],
   "source": [
    "# MLP \n",
    "from sklearn.neural_network import MLPClassifier\n",
    "mlp = MLPClassifier(hidden_layer_sizes=(50, 50), activation='relu', solver='sgd', alpha = 0.05)\n",
    "mlp.fit(X_train, y_train)\n",
    "y_pred = mlp.predict(X_test)\n",
    "y_pred = knn.predict(X_test)\n",
    "print(classification_report(y_test, y_pred))\n",
    "print(confusion_matrix(y_test, y_pred))\n",
    "print('accuracy: %5.3f' %accuracy_score(y_test, y_pred))"
   ]
  },
  {
   "cell_type": "code",
   "execution_count": null,
   "metadata": {},
   "outputs": [],
   "source": [
    "# MLP hyperparameter tuning\n",
    "param_grid = {'hidden_layer_sizes': [(50, 50), (100, 100)],\n",
    "              'activation': ['relu', 'tanh'], 'solver': ['sgd', 'adam'], 'alpha': [0.05, 0.005]\n",
    "            }\n",
    "t0 = time()\n",
    "clf = GridSearchCV(MLPClassifier(),\n",
    "                   param_grid, cv=10)\n",
    "clf = clf.fit(X_train, y_train)\n",
    "print(\"done in %0.3fs\", time() - t0)\n",
    "print(\"Best estimator found by grid search:\")\n",
    "print(clf.best_estimator_)\n",
    "y_pred = clf.predict(X_test)\n",
    "print(classification_report(y_test, y_pred))\n",
    "print(confusion_matrix(y_test, y_pred))\n",
    "print('accuracy: %5.3f' %accuracy_score(y_test, y_pred))"
   ]
  }
 ],
 "metadata": {
  "kernelspec": {
   "display_name": "Python 3",
   "language": "python",
   "name": "python3"
  },
  "language_info": {
   "codemirror_mode": {
    "name": "ipython",
    "version": 3
   },
   "file_extension": ".py",
   "mimetype": "text/x-python",
   "name": "python",
   "nbconvert_exporter": "python",
   "pygments_lexer": "ipython3",
   "version": "3.6.5"
  }
 },
 "nbformat": 4,
 "nbformat_minor": 2
}
