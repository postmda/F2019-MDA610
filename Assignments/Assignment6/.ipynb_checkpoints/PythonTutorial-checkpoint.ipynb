{
 "cells": [
  {
   "cell_type": "markdown",
   "metadata": {},
   "source": [
    "# Python 3 A Short Tutorial"
   ]
  },
  {
   "cell_type": "markdown",
   "metadata": {},
   "source": [
    "# 1. Using the Python Interpreter\n",
    "\n",
    "### IPython User Interfaces\n",
    "-  IPython Shell: type \"ipython\" on the command line\n",
    "-  IPython Console:\n",
    "-  Jupyter Notebook\n",
    "\n",
    "### Magic Commands \n",
    "-  Shell commands with %: %pwd, %ls, %cd\n",
    "-  Magic commands\n",
    "    - %run\n",
    "    - %matplotlib inline\n",
    "\n",
    "### Help and Documentation\n",
    "-  Displaying a docstring with help() function\n",
    "-  Introspection with ? \n",
    "-  Accessing source code with ??\n",
    "-  Tab completion"
   ]
  },
  {
   "cell_type": "code",
   "execution_count": 1,
   "metadata": {
    "collapsed": true
   },
   "outputs": [],
   "source": [
    "# Initializaiton\n",
    "import sys\n",
    "%load_ext autoreload\n",
    "%autoreload 2\n",
    "sys.setrecursionlimit(1500)"
   ]
  },
  {
   "cell_type": "code",
   "execution_count": null,
   "metadata": {
    "collapsed": true
   },
   "outputs": [],
   "source": [
    "# mginc command: running external code\n",
    "%run -t fib"
   ]
  },
  {
   "cell_type": "code",
   "execution_count": null,
   "metadata": {
    "collapsed": true
   },
   "outputs": [],
   "source": [
    "# import a module\n",
    "import fib"
   ]
  },
  {
   "cell_type": "code",
   "execution_count": null,
   "metadata": {
    "collapsed": true
   },
   "outputs": [],
   "source": [
    "#  help and documentation\n",
    "help(fib.fib)"
   ]
  },
  {
   "cell_type": "code",
   "execution_count": null,
   "metadata": {
    "collapsed": true
   },
   "outputs": [],
   "source": [
    "# introspection\n",
    "fib.fib?"
   ]
  },
  {
   "cell_type": "code",
   "execution_count": null,
   "metadata": {
    "collapsed": true
   },
   "outputs": [],
   "source": [
    "# accesing the source code\n",
    "fib.fib??"
   ]
  },
  {
   "cell_type": "code",
   "execution_count": null,
   "metadata": {
    "collapsed": true,
    "scrolled": false
   },
   "outputs": [],
   "source": [
    "# call gcdr()\n",
    "%run -t gcd"
   ]
  },
  {
   "cell_type": "code",
   "execution_count": null,
   "metadata": {
    "collapsed": true
   },
   "outputs": [],
   "source": [
    "%run -p gcd"
   ]
  },
  {
   "cell_type": "code",
   "execution_count": null,
   "metadata": {
    "collapsed": true
   },
   "outputs": [],
   "source": [
    "# call grd()\n",
    "%run -t gcd"
   ]
  },
  {
   "cell_type": "code",
   "execution_count": null,
   "metadata": {
    "collapsed": true
   },
   "outputs": [],
   "source": [
    "%run -p gcd"
   ]
  },
  {
   "cell_type": "markdown",
   "metadata": {},
   "source": [
    "# 2. Basics"
   ]
  },
  {
   "cell_type": "markdown",
   "metadata": {},
   "source": [
    "## Typing Python\n",
    "-  Comments: #\n",
    "-  Several statements on the same line: separated by semicolons\n",
    "-  Continuation symbol: \\\n",
    "-  Indentation, not braces\n",
    "\n",
    "```Python\n",
    "a, b = 0, 1\n",
    "for i in range(10):\n",
    "    a, b = b, a + b\n",
    "return a\n",
    "```"
   ]
  },
  {
   "cell_type": "code",
   "execution_count": null,
   "metadata": {
    "collapsed": true
   },
   "outputs": [],
   "source": [
    "a = 4; b = 5.5; c = 9.0\n",
    "d = 6.0 * a - b ** 2 + \\\n",
    "   c ** (a + b)\n",
    "# no continuation symbol is needed\n",
    "e = 6.0 * a - b **2 + c ** (\n",
    "   a + b)"
   ]
  },
  {
   "cell_type": "markdown",
   "metadata": {},
   "source": [
    "## Objects and Identifiers\n",
    "-  An object is a region of computer memory containg both data and information (type and identity) associated with the data.\n",
    "-  An identifier is a label attached to an object.\n",
    "-  Identifiers are case sensitive."
   ]
  },
  {
   "cell_type": "code",
   "execution_count": null,
   "metadata": {
    "collapsed": true
   },
   "outputs": [],
   "source": [
    "# <identifier> = <object>\n",
    "one = 1   # Assign 1 to variable one\n",
    "two = 2 * one   # Assign twice of variable one to variable two"
   ]
  },
  {
   "cell_type": "code",
   "execution_count": null,
   "metadata": {
    "collapsed": true
   },
   "outputs": [],
   "source": [
    "# find the type of an object\n",
    "type(one)"
   ]
  },
  {
   "cell_type": "code",
   "execution_count": null,
   "metadata": {
    "collapsed": true
   },
   "outputs": [],
   "source": [
    "# find the identity of an object\n",
    "id(one)"
   ]
  },
  {
   "cell_type": "code",
   "execution_count": null,
   "metadata": {
    "collapsed": true
   },
   "outputs": [],
   "source": [
    "# dynamic referencing\n",
    "a = 1\n",
    "print(\"a:\", id(a))\n",
    "print(\"1:\", id(1))\n",
    "a = a + 1\n",
    "print(\"a:\", id(a))\n",
    "print(\"2:\", id(2))\n",
    "b = 1\n",
    "print(\"b:\", id(b))"
   ]
  },
  {
   "cell_type": "markdown",
   "metadata": {},
   "source": [
    "## Scalar Types\n",
    "-  None\n",
    "-  bytes\n",
    "-  float\n",
    "-  bool\n",
    "-  int"
   ]
  },
  {
   "cell_type": "markdown",
   "metadata": {},
   "source": [
    "### Integers\n",
    "-  arithematic operators: ```+ - * /```  \n",
    "-  integer division ```//```  \n",
    "-  exponentiation ```**```  \n",
    "-  modulus ```%```\n",
    "-  assignment operators: ```+=  -=  *=  /=```"
   ]
  },
  {
   "cell_type": "code",
   "execution_count": null,
   "metadata": {
    "collapsed": true
   },
   "outputs": [],
   "source": [
    "# division\n",
    "7 / 5    "
   ]
  },
  {
   "cell_type": "code",
   "execution_count": null,
   "metadata": {
    "collapsed": true
   },
   "outputs": [],
   "source": [
    "# floor division\n",
    "-7 // 5"
   ]
  },
  {
   "cell_type": "code",
   "execution_count": null,
   "metadata": {
    "collapsed": true
   },
   "outputs": [],
   "source": [
    "# reminder\n",
    "7 % 5"
   ]
  },
  {
   "cell_type": "code",
   "execution_count": null,
   "metadata": {
    "collapsed": true
   },
   "outputs": [],
   "source": [
    "# assignment operators\n",
    "x = 8\n",
    "x += 2\n",
    "x"
   ]
  },
  {
   "cell_type": "markdown",
   "metadata": {},
   "source": [
    "### Floats\n",
    "-  arithematic operators: ```+ - * /```  \n",
    "-  exponentiation ```**```\n",
    "-  assignment operators: ``` +=  -=   *=  /= ```\n",
    "-  widening an int: ```float()```\n",
    "-  narrowing a float: ```int()``` truncation towards zero "
   ]
  },
  {
   "cell_type": "code",
   "execution_count": null,
   "metadata": {
    "collapsed": true
   },
   "outputs": [],
   "source": [
    "# same float \n",
    "x = -3.14\n",
    "y = -314e-2"
   ]
  },
  {
   "cell_type": "code",
   "execution_count": null,
   "metadata": {
    "collapsed": true
   },
   "outputs": [],
   "source": [
    "# widening\n",
    "float(4)"
   ]
  },
  {
   "cell_type": "code",
   "execution_count": null,
   "metadata": {
    "collapsed": true
   },
   "outputs": [],
   "source": [
    "# narrowing\n",
    "int(-3.5)"
   ]
  },
  {
   "cell_type": "code",
   "execution_count": null,
   "metadata": {
    "collapsed": true
   },
   "outputs": [],
   "source": [
    "# built-in math functions\n",
    "abs(-5.2)"
   ]
  },
  {
   "cell_type": "code",
   "execution_count": null,
   "metadata": {
    "collapsed": true
   },
   "outputs": [],
   "source": [
    "# import the math module\n",
    "import math\n",
    "dir(math)"
   ]
  },
  {
   "cell_type": "code",
   "execution_count": null,
   "metadata": {
    "collapsed": true
   },
   "outputs": [],
   "source": [
    "math.log(5.2)"
   ]
  },
  {
   "cell_type": "markdown",
   "metadata": {},
   "source": [
    "### Boolean Numbers\n",
    "-  ```True``` and ```False```\n",
    "-  Comparison operators: ```<  >  == !=  <=  >=``` \n",
    "-  Logic operators: ```and  or  not```"
   ]
  },
  {
   "cell_type": "code",
   "execution_count": null,
   "metadata": {
    "collapsed": true
   },
   "outputs": [],
   "source": [
    "2 ** 3 == 8"
   ]
  },
  {
   "cell_type": "code",
   "execution_count": null,
   "metadata": {
    "collapsed": true
   },
   "outputs": [],
   "source": [
    "x = 3\n",
    "y = 2\n",
    "x > 1 and y < 4"
   ]
  },
  {
   "cell_type": "code",
   "execution_count": null,
   "metadata": {
    "collapsed": true
   },
   "outputs": [],
   "source": [
    "not (x > 5)"
   ]
  },
  {
   "cell_type": "code",
   "execution_count": null,
   "metadata": {
    "collapsed": true
   },
   "outputs": [],
   "source": [
    "0 <= 1 > 0.5 < 0.8"
   ]
  },
  {
   "cell_type": "markdown",
   "metadata": {},
   "source": [
    "## Namespaces and Modules\n",
    "-  A **namesapce** is a list of identifiers that have been assigned to objects.\n",
    "-  A **module** is a file with extension .py that contains python definitions and statements. \n",
    "-  Importing a module makes the namespace of the module available. "
   ]
  },
  {
   "cell_type": "code",
   "execution_count": null,
   "metadata": {
    "collapsed": true
   },
   "outputs": [],
   "source": [
    "# Import a module and create a reference to that module in the current namespace. You need to define a complete path gcd.name or gcd.attribute \n",
    "# when referring to an object in the module\n",
    "#\n",
    "import gcd\n",
    "gcd.gcdr(5, 2)"
   ]
  },
  {
   "cell_type": "code",
   "execution_count": null,
   "metadata": {
    "collapsed": true,
    "scrolled": true
   },
   "outputs": [],
   "source": [
    "# Import an object and create a reference to the object from the current namespace. Use the identifer without the module name. \n",
    "from gcd import gcdr\n",
    "gcdr(5, 2)"
   ]
  },
  {
   "cell_type": "code",
   "execution_count": null,
   "metadata": {
    "collapsed": true
   },
   "outputs": [],
   "source": [
    "# a quick and dirty import\n",
    "from gcd import *\n",
    "gcd(5, 2)"
   ]
  },
  {
   "cell_type": "code",
   "execution_count": null,
   "metadata": {
    "collapsed": true
   },
   "outputs": [],
   "source": [
    "# use an alias\n",
    "import numpy as np\n",
    "np.array?"
   ]
  },
  {
   "cell_type": "markdown",
   "metadata": {},
   "source": [
    "## Container Objects\n",
    "-  Lists\n",
    "-  Tuples\n",
    "-  Strings\n",
    "-  Dictionaries"
   ]
  },
  {
   "cell_type": "markdown",
   "metadata": {},
   "source": [
    "### Lists"
   ]
  },
  {
   "cell_type": "code",
   "execution_count": null,
   "metadata": {
    "collapsed": true
   },
   "outputs": [],
   "source": [
    "# elements can be of different types\n",
    "u = []  # an empty list\n",
    "u = [1, 4.0, 'a']\n",
    "u.append('foo')   # add an element to the end\n",
    "print(u)"
   ]
  },
  {
   "cell_type": "code",
   "execution_count": null,
   "metadata": {
    "collapsed": true
   },
   "outputs": [],
   "source": [
    "u.pop()   # remove the last element"
   ]
  },
  {
   "cell_type": "code",
   "execution_count": null,
   "metadata": {
    "collapsed": true
   },
   "outputs": [],
   "source": [
    "# len() returns the number of elements\n",
    "len(u)"
   ]
  },
  {
   "cell_type": "code",
   "execution_count": null,
   "metadata": {
    "collapsed": true
   },
   "outputs": [],
   "source": [
    "# a nested list\n",
    "v = [3, 5, 7]\n",
    "u.append(v)\n",
    "u"
   ]
  },
  {
   "cell_type": "code",
   "execution_count": null,
   "metadata": {
    "collapsed": true
   },
   "outputs": [],
   "source": [
    "# replicate a list\n",
    "u * 2"
   ]
  },
  {
   "cell_type": "markdown",
   "metadata": {},
   "source": [
    "### List Indexing"
   ]
  },
  {
   "cell_type": "code",
   "execution_count": null,
   "metadata": {
    "collapsed": true
   },
   "outputs": [],
   "source": [
    "# indexing starts with 0 and ends with len(u)-1\n",
    "u = [10, 20, 30, 40, 50]\n",
    "print(u[3])   # 40\n",
    "# reverse order\n",
    "print(u[-1])  # 50\n",
    "print(u[-3])  # 30"
   ]
  },
  {
   "cell_type": "code",
   "execution_count": null,
   "metadata": {
    "collapsed": true
   },
   "outputs": [],
   "source": [
    "# remove the item at the specified index\n",
    "del u[2]\n",
    "len(u)"
   ]
  },
  {
   "cell_type": "markdown",
   "metadata": {},
   "source": [
    "### List Slicing\n",
    "- Slicing is to get a subset of the elements in a container object. \n",
    "- A slice is in the form of [start:end:step].\n",
    "- A slice of a list is a new object. "
   ]
  },
  {
   "cell_type": "code",
   "execution_count": null,
   "metadata": {
    "collapsed": true
   },
   "outputs": [],
   "source": [
    "u = [0, 1, 2, 3, 4, 5, 6]\n",
    "print(u[2:4])  # [2, 3]\n",
    "v = u[2:4]\n",
    "v[0] = 12\n",
    "print(u)   # u remains the same\n",
    "u[2:4] = [12, 13]\n",
    "print(u)   # [0, 1, 12, 13, 4, 5, 6]"
   ]
  },
  {
   "cell_type": "code",
   "execution_count": null,
   "metadata": {
    "collapsed": true,
    "scrolled": true
   },
   "outputs": [],
   "source": [
    "print(u[0:6])   # the last element is missing\n",
    "print(u[:])   # all elements are displayed\n",
    "print(u[::2])   # [0, 12, 4, 6]\n",
    "print(u[::-1])  # all elements in reverse order"
   ]
  },
  {
   "cell_type": "markdown",
   "metadata": {},
   "source": [
    "### List Mutability\n",
    "-  Lists and dictionaries are mutable.\n",
    "-  Scalars, strings and tuples are immutable."
   ]
  },
  {
   "cell_type": "code",
   "execution_count": null,
   "metadata": {
    "collapsed": true
   },
   "outputs": [],
   "source": [
    "a = 4\n",
    "b = a\n",
    "b = 'foo'\n",
    "print(a)   # immutable\n",
    "print(b)"
   ]
  },
  {
   "cell_type": "code",
   "execution_count": null,
   "metadata": {
    "collapsed": true
   },
   "outputs": [],
   "source": [
    "u = [0, 2, 4, 6]\n",
    "v = u\n",
    "v[2] = 5\n",
    "print(u)   # mutable"
   ]
  },
  {
   "cell_type": "code",
   "execution_count": null,
   "metadata": {
    "collapsed": true
   },
   "outputs": [],
   "source": [
    "u = [0, 2, 4, 6]\n",
    "v = u.copy()   # deep copy\n",
    "v[2] = 5\n",
    "print(u)   # [0, 2, 4, 6]"
   ]
  },
  {
   "cell_type": "markdown",
   "metadata": {},
   "source": [
    "### Tuples\n",
    "-  () can be dropped.\n",
    "-  Tuples are immutable.\n",
    "-  Indexing and slicing work in the same way as for lists. "
   ]
  },
  {
   "cell_type": "code",
   "execution_count": null,
   "metadata": {
    "collapsed": true
   },
   "outputs": [],
   "source": [
    "(a, b, c, d) = (4, 3.0, 'a', [1, 2, 3])\n",
    "d[2]"
   ]
  },
  {
   "cell_type": "code",
   "execution_count": null,
   "metadata": {
    "collapsed": true
   },
   "outputs": [],
   "source": [
    "# swap two objects\n",
    "x = 3\n",
    "y = 5\n",
    "x, y = y, x\n",
    "print(x, y)"
   ]
  },
  {
   "cell_type": "code",
   "execution_count": null,
   "metadata": {
    "collapsed": true
   },
   "outputs": [],
   "source": [
    "# a tuple with one element\n",
    "atup = (x, )\n",
    "atup[0]"
   ]
  },
  {
   "cell_type": "markdown",
   "metadata": {},
   "source": [
    "### Strings\n",
    "\n",
    "-  Single quotes '...'\n",
    "-  Double quotes \"...\"\n",
    "-  Triple-quotes '''...''' or \"\"\"...\"\"\": a single string spans multiple lines\n",
    "-  Concatenation operator: ```+```\n",
    "-  Repetition operator: ```*```\n",
    "-  Strings are immutable containter objects.\n",
    "-  Indexing and slicing work in the same way as for lists. "
   ]
  },
  {
   "cell_type": "code",
   "execution_count": null,
   "metadata": {
    "collapsed": true
   },
   "outputs": [],
   "source": [
    "'LIU'"
   ]
  },
  {
   "cell_type": "code",
   "execution_count": null,
   "metadata": {
    "collapsed": true
   },
   "outputs": [],
   "source": [
    "'doesn\\'t'   # use \\' to escape the single quote"
   ]
  },
  {
   "cell_type": "code",
   "execution_count": null,
   "metadata": {
    "collapsed": true
   },
   "outputs": [],
   "source": [
    "\"doesn't\""
   ]
  },
  {
   "cell_type": "code",
   "execution_count": null,
   "metadata": {
    "collapsed": true
   },
   "outputs": [],
   "source": [
    "'FirstLine\\nSecondLine'    # \\n means a new line; but without print(), \\n is included in the output"
   ]
  },
  {
   "cell_type": "code",
   "execution_count": null,
   "metadata": {
    "collapsed": true
   },
   "outputs": [],
   "source": [
    "print('FirstLine\\nSecondLine')  # with print(), \\n produces a new line"
   ]
  },
  {
   "cell_type": "code",
   "execution_count": null,
   "metadata": {
    "collapsed": true
   },
   "outputs": [],
   "source": [
    "print('C:\\some\\name')   # \\n means a new line"
   ]
  },
  {
   "cell_type": "code",
   "execution_count": null,
   "metadata": {
    "collapsed": true
   },
   "outputs": [],
   "source": [
    "print(r'C:\\some\\name')  # r before the quote prevents the character prefaced by \\ from being interpreted as a special character\n",
    "print('C:\\\\some\\\\name') # an alternative way"
   ]
  },
  {
   "cell_type": "code",
   "execution_count": null,
   "metadata": {
    "collapsed": true
   },
   "outputs": [],
   "source": [
    "3*'abc'+'de'   # 3 times 'abc', followed by 'de' "
   ]
  },
  {
   "cell_type": "code",
   "execution_count": null,
   "metadata": {
    "collapsed": true
   },
   "outputs": [],
   "source": [
    "print(\"Long Island University\", \"Post Campus\")   # output multiple strings"
   ]
  },
  {
   "cell_type": "markdown",
   "metadata": {},
   "source": [
    "### Dictionaries\n",
    "-  A dictionary object is an unordered collection of key-object pairs.\n",
    "-  Items are fetched via keys rather than positions. "
   ]
  },
  {
   "cell_type": "code",
   "execution_count": null,
   "metadata": {
    "collapsed": true
   },
   "outputs": [],
   "source": [
    "# an empty dictionary\n",
    "adict = {}\n",
    "# define a dictionary\n",
    "bdict = {'a' : 1, 'b' : 2}\n",
    "# add an item\n",
    "bdict['c'] = 3\n",
    "bdict"
   ]
  },
  {
   "cell_type": "markdown",
   "metadata": {},
   "source": [
    "## ```if``` Statement\n",
    "```Python\n",
    "if <Boolean expression1>:\n",
    "    <block1>\n",
    "elif <Boolean expression2>:\n",
    "    <block2>\n",
    "elif <Boolean expression3>:\n",
    "    <block3>\n",
    "else:\n",
    "    <block4>\n",
    "<block5>\n",
    "```"
   ]
  },
  {
   "cell_type": "code",
   "execution_count": null,
   "metadata": {
    "collapsed": true
   },
   "outputs": [],
   "source": [
    "x = 0.47\n",
    "if 0 < x < 1:\n",
    "    print('x lies between 0 and 1.')"
   ]
  },
  {
   "cell_type": "code",
   "execution_count": null,
   "metadata": {
    "collapsed": true
   },
   "outputs": [],
   "source": [
    "x = 5.8\n",
    "if x < 0: \n",
    "    print(\"x is negative.\")\n",
    "elif x == 0:\n",
    "    print(\"x is zero.\")\n",
    "elif 0 < x < 5:\n",
    "    print(\"x is positive but small than 5.\")\n",
    "else:\n",
    "    print(\"x is positive and larger or equal to 5.\")"
   ]
  },
  {
   "cell_type": "markdown",
   "metadata": {},
   "source": [
    "## Loop Constructs"
   ]
  },
  {
   "cell_type": "markdown",
   "metadata": {},
   "source": [
    "### ```for``` Loop\n",
    "\n",
    "```Python\n",
    "for <iterator> in <iterable>:\n",
    "    <block>\n",
    "```\n",
    "-  <iterable> is any container object.\n",
    "-  <iterator> can be used to access the elements of the container object."
   ]
  },
  {
   "cell_type": "code",
   "execution_count": null,
   "metadata": {
    "collapsed": true
   },
   "outputs": [],
   "source": [
    "# a string\n",
    "for c in \"Python\":\n",
    "    print(c, end = \" \")"
   ]
  },
  {
   "cell_type": "code",
   "execution_count": null,
   "metadata": {
    "collapsed": true
   },
   "outputs": [],
   "source": [
    "# enumerate() returns an enumerate object -- a list of tuples in the form of (index, list_element).\n",
    "alist = [1, 2, 3, 4, 5]\n",
    "for index, obj in enumerate(alist):\n",
    "    print(index, obj)"
   ]
  },
  {
   "cell_type": "code",
   "execution_count": null,
   "metadata": {
    "collapsed": true,
    "scrolled": false
   },
   "outputs": [],
   "source": [
    "# dict.items() returns a list of tuples in the form of (key, object).\n",
    "adict = {'one': 1, 'two': 2, 'three': 3}\n",
    "for index, (key, obj) in enumerate(adict.items()):\n",
    "    print(index, key, obj)"
   ]
  },
  {
   "cell_type": "code",
   "execution_count": null,
   "metadata": {
    "collapsed": true
   },
   "outputs": [],
   "source": [
    "# range() generates a sequence of numbers.\n",
    "for i in range(3, 11, 2):\n",
    "    print(i)"
   ]
  },
  {
   "cell_type": "code",
   "execution_count": null,
   "metadata": {
    "collapsed": true
   },
   "outputs": [],
   "source": [
    "# access a list \n",
    "alist = [11, 12, 13, 14, 15]\n",
    "for i in range(len(alist)):\n",
    "    print(alist[i], end = \" \")"
   ]
  },
  {
   "cell_type": "markdown",
   "metadata": {},
   "source": [
    "### ```countinue``` Statement\n",
    "```Python\n",
    "for <iterator> in <iterable>:\n",
    "    <block1>\n",
    "    if <test1>:\n",
    "        continue;\n",
    "    <block2>\n",
    "<block3>\n",
    "```\n",
    "-  If &lt;test1&gt; returns ```True```, the next pass commences."
   ]
  },
  {
   "cell_type": "markdown",
   "metadata": {},
   "source": [
    "### ```break``` Statement\n",
    "```Python\n",
    "for <iterator> in <iterable>:\n",
    "    <block1>\n",
    "    if <test2>:\n",
    "        break;\n",
    "    <block2>\n",
    "<block3>\n",
    "```\n",
    "-  If &lt;test2&gt; returns ```True```, the loop terminates. \n",
    "-  The ```else``` clause is executed when the loop terminates unless it is terminated by a ```break``` statement."
   ]
  },
  {
   "cell_type": "code",
   "execution_count": null,
   "metadata": {
    "collapsed": true
   },
   "outputs": [],
   "source": [
    "# is the input a prime or a composite?\n",
    "y = int(input(\"input an integer: \"))\n",
    "for x in range(y):\n",
    "    if x < 2:\n",
    "        continue;\n",
    "    if y % x == 0:\n",
    "        print(y, \"is composite.\")\n",
    "        break\n",
    "else:\n",
    "    print(y, \"is prime.\")"
   ]
  },
  {
   "cell_type": "markdown",
   "metadata": {},
   "source": [
    "### List Comprehensions\n",
    "- A list comprehension uses a list to construct a second list. "
   ]
  },
  {
   "cell_type": "code",
   "execution_count": null,
   "metadata": {
    "collapsed": true
   },
   "outputs": [],
   "source": [
    "# a list of squares\n",
    "squares = [x ** 2 for x in range(10)]\n",
    "squares"
   ]
  },
  {
   "cell_type": "code",
   "execution_count": null,
   "metadata": {
    "collapsed": true
   },
   "outputs": [],
   "source": [
    "# a list of squares for the odd numbers\n",
    "squares = [x ** 2 for x in range(10) if x % 2]\n",
    "squares"
   ]
  },
  {
   "cell_type": "markdown",
   "metadata": {},
   "source": [
    "### ```while``` Loop\n",
    "```Python\n",
    "while <test>:\n",
    "    <block1>\n",
    "<block2>\n",
    "```\n",
    "-   ```else```, ```continue```, and ```break``` clauses are available. "
   ]
  },
  {
   "cell_type": "code",
   "execution_count": null,
   "metadata": {
    "collapsed": true
   },
   "outputs": [],
   "source": [
    "# be careful of an infinite loop\n",
    "i = 1\n",
    "sum = 0\n",
    "while i <= 10:\n",
    "    sum += i\n",
    "    i += 1\n",
    "print(sum)"
   ]
  },
  {
   "cell_type": "markdown",
   "metadata": {},
   "source": [
    "## Functions"
   ]
  },
  {
   "cell_type": "markdown",
   "metadata": {},
   "source": [
    "### Syntax and Scope\n",
    "```Python\n",
    "def <name>(<arglist>):\n",
    "    <body>\n",
    "```\n",
    "-  The ```return``` statement returns an object or multiple objects.\n",
    "-  A function can access variables in the #global# namespace and the #local# namespace.\n",
    "-  The local namespace is destroyed when the function is finished.  "
   ]
  },
  {
   "cell_type": "code",
   "execution_count": null,
   "metadata": {
    "collapsed": true
   },
   "outputs": [],
   "source": [
    "# define a function that returns a tuple\n",
    "def add_x_and_y(x, y):\n",
    "    \"\"\" add x and y and return them and their sum \"\"\"\n",
    "    z = x + y\n",
    "    return x, y, z"
   ]
  },
  {
   "cell_type": "code",
   "execution_count": null,
   "metadata": {
    "collapsed": true,
    "scrolled": true
   },
   "outputs": [],
   "source": [
    "a, b, c = add_x_and_y(3.5, 4.0)\n",
    "print(a, b, c)   "
   ]
  },
  {
   "cell_type": "code",
   "execution_count": null,
   "metadata": {
    "collapsed": true
   },
   "outputs": [],
   "source": [
    "# mutatable arguments\n",
    "L = [1, 2, 3]\n",
    "def add_with_side_effect(M):\n",
    "    M[0] += 1\n",
    "\n",
    "add_with_side_effect(L)\n",
    "L"
   ]
  },
  {
   "cell_type": "code",
   "execution_count": null,
   "metadata": {
    "collapsed": true
   },
   "outputs": [],
   "source": [
    "# apply slicing\n",
    "L = [1, 2, 3]\n",
    "def add_without_side_effect(M):\n",
    "    MC = M[:]\n",
    "    MC[0] += 1\n",
    "    return MC\n",
    "\n",
    "L = add_without_side_effect(L)\n",
    "L"
   ]
  },
  {
   "cell_type": "markdown",
   "metadata": {},
   "source": [
    "### Positional Arguments"
   ]
  },
  {
   "cell_type": "code",
   "execution_count": null,
   "metadata": {
    "collapsed": true
   },
   "outputs": [],
   "source": [
    "# define a function with three parameters\n",
    "def foo1(a, b, c):\n",
    "    return a + b + c"
   ]
  },
  {
   "cell_type": "code",
   "execution_count": null,
   "metadata": {
    "collapsed": true
   },
   "outputs": [],
   "source": [
    "# pass arguments as positional argument\n",
    "foo1(1, 2, 3)"
   ]
  },
  {
   "cell_type": "markdown",
   "metadata": {},
   "source": [
    "### Keyword Arguments\n",
    "-  When a function is called, keyword arguments should follow positional arguments."
   ]
  },
  {
   "cell_type": "code",
   "execution_count": null,
   "metadata": {
    "collapsed": true
   },
   "outputs": [],
   "source": [
    "# pass arguments as keyword arguments\n",
    "# order does not matter\n",
    "foo1(c = 5, b = 4, a = 3)"
   ]
  },
  {
   "cell_type": "code",
   "execution_count": null,
   "metadata": {
    "collapsed": true
   },
   "outputs": [],
   "source": [
    "# call a function with a mix of positional and keyword arguments\n",
    "# keyword arguments should follow positional arguments\n",
    "foo1(3, 5, c = 7)"
   ]
  },
  {
   "cell_type": "markdown",
   "metadata": {},
   "source": [
    "### Parameters with Default Values\n",
    "-  When a function is called, default arguments can be left out. \n",
    "-  When a function is defined, parameters with default values should follow parameters without default values. "
   ]
  },
  {
   "cell_type": "code",
   "execution_count": null,
   "metadata": {
    "collapsed": true
   },
   "outputs": [],
   "source": [
    "def foo2(d, e = 5, f = 6):\n",
    "    return d * e * f"
   ]
  },
  {
   "cell_type": "code",
   "execution_count": null,
   "metadata": {
    "collapsed": true
   },
   "outputs": [],
   "source": [
    "# call function foo2()\n",
    "# one to three arguments should be passed\n",
    "print(foo2(4))\n",
    "print(foo2(2, 8))\n",
    "print(foo2(3, f = 10))\n",
    "print(foo2(1, 2, 3))"
   ]
  },
  {
   "cell_type": "markdown",
   "metadata": {},
   "source": [
    "### Variable Number of Positional Arguments"
   ]
  },
  {
   "cell_type": "code",
   "execution_count": null,
   "metadata": {
    "collapsed": true
   },
   "outputs": [],
   "source": [
    "# a tuple is used\n",
    "def average(*args):\n",
    "    \"\"\" Return mean of a non-empty tuple of numbers. \"\"\"\n",
    "    print(args)\n",
    "    sum = 0.0\n",
    "    for x in args:\n",
    "        sum += x\n",
    "    return sum / len(args)\n",
    "\n",
    "print(average(1, 2, 3, 4))\n",
    "print(average(1, 2, 3, 4, 5))\n",
    "alist = [2, 4, 6]\n",
    "print(average(*alist))   # *alist unpacks the list for a function call"
   ]
  },
  {
   "cell_type": "markdown",
   "metadata": {},
   "source": [
    "### Variable Number of Keyword Arguments"
   ]
  },
  {
   "cell_type": "code",
   "execution_count": null,
   "metadata": {
    "collapsed": true
   },
   "outputs": [],
   "source": [
    "# a dictionary is used\n",
    "def show(a, b, *args, **kwargs):\n",
    "    print(a, b, args, kwargs)\n",
    "    \n",
    "show(1, 2, 5, 6, 7, alpha = 0.9, beta = 2.1)"
   ]
  },
  {
   "cell_type": "markdown",
   "metadata": {},
   "source": [
    "### Errors and Exception Handling"
   ]
  },
  {
   "cell_type": "code",
   "execution_count": null,
   "metadata": {
    "collapsed": true
   },
   "outputs": [],
   "source": [
    "# the following function casts a string to a floating-point number\n",
    "# an exception is raised if x could be converted to a float\n",
    "def attempt_float(x):\n",
    "    try:\n",
    "        return float(x)\n",
    "    except:\n",
    "        return(x)"
   ]
  },
  {
   "cell_type": "code",
   "execution_count": null,
   "metadata": {
    "collapsed": true
   },
   "outputs": [],
   "source": [
    "attempt_float('123')"
   ]
  },
  {
   "cell_type": "code",
   "execution_count": null,
   "metadata": {
    "collapsed": true
   },
   "outputs": [],
   "source": [
    "attempt_float('something')"
   ]
  },
  {
   "cell_type": "code",
   "execution_count": null,
   "metadata": {
    "collapsed": true
   },
   "outputs": [],
   "source": [
    "attempt_float([123])"
   ]
  },
  {
   "cell_type": "code",
   "execution_count": null,
   "metadata": {
    "collapsed": true
   },
   "outputs": [],
   "source": [
    "# catch the ValueError exception only\n",
    "def attempt_float2(x):\n",
    "    try:\n",
    "        return float(x)\n",
    "    except ValueError:\n",
    "        return(x)"
   ]
  },
  {
   "cell_type": "code",
   "execution_count": null,
   "metadata": {
    "collapsed": true
   },
   "outputs": [],
   "source": [
    "attempt_float2('something')"
   ]
  },
  {
   "cell_type": "code",
   "execution_count": null,
   "metadata": {
    "collapsed": true
   },
   "outputs": [],
   "source": [
    "# TypeError\n",
    "attempt_float2([123])"
   ]
  },
  {
   "cell_type": "markdown",
   "metadata": {},
   "source": [
    "### ```print``` Funciton\n",
    "-  A format placeholder: ```%[flags][width][.precision]type```\n",
    "-  String format method "
   ]
  },
  {
   "cell_type": "code",
   "execution_count": null,
   "metadata": {
    "collapsed": true
   },
   "outputs": [],
   "source": [
    "# the old way to format output\n",
    "print(\"%5d copies at a unit price of $%-7.2f\" % (1000, 35.2))"
   ]
  },
  {
   "cell_type": "code",
   "execution_count": null,
   "metadata": {
    "collapsed": true
   },
   "outputs": [],
   "source": [
    "# the Pythonic way\n",
    "print(\"{0:5d} copies at a unit price of ${1:<7.2f}\".format(1000, 35.2))"
   ]
  },
  {
   "cell_type": "markdown",
   "metadata": {},
   "source": [
    "### Anonymouse Functions\n"
   ]
  },
  {
   "cell_type": "code",
   "execution_count": null,
   "metadata": {
    "collapsed": true
   },
   "outputs": [],
   "source": [
    "# lambda function is passed to the apply_to_list function as an object\n",
    "def apply_to_list(some_list, f):\n",
    "    return [f(x) for x in some_list]\n",
    "\n",
    "apply_to_list([1, 2, 3, 4], lambda x : x * 2)"
   ]
  },
  {
   "cell_type": "markdown",
   "metadata": {},
   "source": [
    "## Introduction to Python Classes\n",
    "-  Classes are the templates of your objects.\n",
    "-  Encapsulation: classes provide a means of bundling data and functionality together.\n",
    "-  An object is a class instance.\n",
    "-  Instance variable: Each instance has its own attributes.\n",
    "-  Class definition\n",
    "```Python\n",
    "class ClassName:\n",
    "    <statements>\n",
    "```\n",
    "-  The statements are usually function definitions.\n",
    "-  Class instantiation: ```x = MyClass(<arglist>)```\n",
    "-  Attribute references： ```obj.attr```\n",
    "-  Method references: ```x.f()```"
   ]
  },
  {
   "cell_type": "code",
   "execution_count": null,
   "metadata": {
    "collapsed": true,
    "scrolled": false
   },
   "outputs": [],
   "source": [
    "%run frac"
   ]
  }
 ],
 "metadata": {
  "kernelspec": {
   "display_name": "Python 3",
   "language": "python",
   "name": "python3"
  },
  "language_info": {
   "codemirror_mode": {
    "name": "ipython",
    "version": 3
   },
   "file_extension": ".py",
   "mimetype": "text/x-python",
   "name": "python",
   "nbconvert_exporter": "python",
   "pygments_lexer": "ipython3",
   "version": "3.6.7"
  }
 },
 "nbformat": 4,
 "nbformat_minor": 2
}
