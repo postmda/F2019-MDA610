{
 "cells": [
  {
   "cell_type": "code",
   "execution_count": 11,
   "metadata": {},
   "outputs": [],
   "source": [
    "# FracNew.ipynb: Class Frac\n",
    "\n",
    "import gcd\n",
    "\n",
    "class Frac:\n",
    "    \"\"\" Fractional class. A Frac is a pair of integers num, den\n",
    "        (with den != 0) whose GCD is 1.\n",
    "    \"\"\"\n",
    "    def __init__(self, n, d):\n",
    "        \"\"\" Construct a Frac from integers n and d.\n",
    "            Needs error message if d = 0!\n",
    "        \"\"\"\n",
    "        ########################################################################\n",
    "        # TODO 1:                                                              # \n",
    "        # warn the user and execute the return statement to terminate the      #\n",
    "        # function if argument d is zero.                                      #\n",
    "        #                                                                      #\n",
    "        ########################################################################\n",
    "        pass\n",
    "        if d==0:\n",
    "            raise ZeroDivisionError(\"Cannot divide by zero.\")\n",
    "            \n",
    "        else:\n",
    "            self.num=n\n",
    "            self.den=d\n",
    "            hcf = gcd.gcd(n,d)\n",
    "            self.num, self.den = n/hcf, d/hcf\n",
    "        \n",
    "    def __str__(self):\n",
    "        \"\"\" Generate a string representation of a Frac. \"\"\"\n",
    "        ########################################################################\n",
    "        # TODO 2:                                                              # \n",
    "        # revise the __str__ function so that self.num is only returned if      #\n",
    "        # self.den is 1.                                                       #\n",
    "        #                                                                      #\n",
    "        ########################################################################\n",
    "        pass\n",
    "        if self.den==1:\n",
    "            return \"%d\" %(self.num)\n",
    "        else:\n",
    "            return \"%d/%d\" %(self.num, self.den)\n",
    "\n",
    "    def __mul__(self, another):\n",
    "        \"\"\" Multiply two Fracs to product a Frac. \"\"\"\n",
    "        return Frac(self.num * another.num, self.den * another.den)\n",
    "\n",
    "    def __add__(self, another):\n",
    "        \"\"\" Add two Fracs to product a Frac. \"\"\"\n",
    "        return Frac(self.num * another.den + self.den * another.num, self.den * another.den)\n",
    "\n",
    "    def to_real(self):\n",
    "        \"\"\" return floating point value of Frac. \"\"\"\n",
    "        return float(self.num)/float(self.den)\n",
    "\n",
    "    def __sub__(self, another):\n",
    "        \"\"\" Subtract one Frac from the other. \"\"\"\n",
    "        ########################################################################\n",
    "        # TODO 3:                                                              # \n",
    "        # fill in the __sub__ function to implement fraction subtraction.      #\n",
    "        #                                                                      #\n",
    "        ########################################################################\n",
    "        pass\n",
    "        return Frac(self.num * another.den - self.den * another.num, self.den * another.den)\n",
    "    \n",
    "    def __truediv__(self, another):\n",
    "        \"\"\" Divide one Frac from the other. \"\"\"\n",
    "        ########################################################################\n",
    "        # TODO 4:                                                              # \n",
    "        # fill in the __truediv__ function to implement fraction division.     #\n",
    "        #                                                                      #\n",
    "        ########################################################################\n",
    "        pass\n",
    "        return Frac(self.num * another.den, self.den * self.num)"
   ]
  },
  {
   "cell_type": "code",
   "execution_count": 6,
   "metadata": {},
   "outputs": [
    {
     "ename": "ZeroDivisionError",
     "evalue": "Cannot divide by zero.",
     "output_type": "error",
     "traceback": [
      "\u001b[0;31m---------------------------------------------------------------------------\u001b[0m",
      "\u001b[0;31mZeroDivisionError\u001b[0m                         Traceback (most recent call last)",
      "\u001b[0;32m<ipython-input-6-314661988ea0>\u001b[0m in \u001b[0;36m<module>\u001b[0;34m\u001b[0m\n\u001b[0;32m----> 1\u001b[0;31m \u001b[0mx\u001b[0m \u001b[0;34m=\u001b[0m \u001b[0mFrac\u001b[0m\u001b[0;34m(\u001b[0m\u001b[0;36m3\u001b[0m\u001b[0;34m,\u001b[0m \u001b[0;36m0\u001b[0m\u001b[0;34m)\u001b[0m\u001b[0;34m\u001b[0m\u001b[0;34m\u001b[0m\u001b[0m\n\u001b[0m\u001b[1;32m      2\u001b[0m \u001b[0my\u001b[0m \u001b[0;34m=\u001b[0m \u001b[0mFrac\u001b[0m\u001b[0;34m(\u001b[0m\u001b[0;36m4\u001b[0m\u001b[0;34m,\u001b[0m \u001b[0;36m12\u001b[0m\u001b[0;34m)\u001b[0m\u001b[0;34m\u001b[0m\u001b[0;34m\u001b[0m\u001b[0m\n\u001b[1;32m      3\u001b[0m \u001b[0mprint\u001b[0m\u001b[0;34m(\u001b[0m\u001b[0;34m\"x=\"\u001b[0m\u001b[0;34m,\u001b[0m \u001b[0mx\u001b[0m\u001b[0;34m)\u001b[0m\u001b[0;34m\u001b[0m\u001b[0;34m\u001b[0m\u001b[0m\n\u001b[1;32m      4\u001b[0m \u001b[0mprint\u001b[0m\u001b[0;34m(\u001b[0m\u001b[0;34m\"y=\"\u001b[0m\u001b[0;34m,\u001b[0m \u001b[0my\u001b[0m\u001b[0;34m)\u001b[0m\u001b[0;34m\u001b[0m\u001b[0;34m\u001b[0m\u001b[0m\n\u001b[1;32m      5\u001b[0m \u001b[0mz\u001b[0m \u001b[0;34m=\u001b[0m \u001b[0mFrac\u001b[0m\u001b[0;34m(\u001b[0m\u001b[0;36m4\u001b[0m\u001b[0;34m,\u001b[0m \u001b[0;36m1\u001b[0m\u001b[0;34m)\u001b[0m\u001b[0;34m\u001b[0m\u001b[0;34m\u001b[0m\u001b[0m\n",
      "\u001b[0;32m<ipython-input-5-04da80a1a83e>\u001b[0m in \u001b[0;36m__init__\u001b[0;34m(self, n, d)\u001b[0m\n\u001b[1;32m     19\u001b[0m         \u001b[0;32mpass\u001b[0m\u001b[0;34m\u001b[0m\u001b[0;34m\u001b[0m\u001b[0m\n\u001b[1;32m     20\u001b[0m         \u001b[0;32mif\u001b[0m \u001b[0md\u001b[0m\u001b[0;34m==\u001b[0m\u001b[0;36m0\u001b[0m\u001b[0;34m:\u001b[0m\u001b[0;34m\u001b[0m\u001b[0;34m\u001b[0m\u001b[0m\n\u001b[0;32m---> 21\u001b[0;31m             \u001b[0;32mraise\u001b[0m \u001b[0mZeroDivisionError\u001b[0m\u001b[0;34m(\u001b[0m\u001b[0;34m\"Cannot divide by zero.\"\u001b[0m\u001b[0;34m)\u001b[0m\u001b[0;34m\u001b[0m\u001b[0;34m\u001b[0m\u001b[0m\n\u001b[0m\u001b[1;32m     22\u001b[0m \u001b[0;34m\u001b[0m\u001b[0m\n\u001b[1;32m     23\u001b[0m         \u001b[0;32melse\u001b[0m\u001b[0;34m:\u001b[0m\u001b[0;34m\u001b[0m\u001b[0;34m\u001b[0m\u001b[0m\n",
      "\u001b[0;31mZeroDivisionError\u001b[0m: Cannot divide by zero."
     ]
    }
   ],
   "source": [
    "#x = Frac(3, 0)\n",
    "y = Frac(4, 12)\n",
    "print(\"x=\", x)\n",
    "print(\"y=\", y)\n",
    "z = Frac(4, 1)\n",
    "print(\"z=\", z)\n",
    "a = Frac(24, 56)\n",
    "b = Frac(3, 8)\n",
    "print(\"sum=\", a + b)\n",
    "print(\"difference=\", a - b)\n",
    "print(\"product=\", a * b)\n",
    "print(\"ratio=\", a / b)"
   ]
  },
  {
   "cell_type": "code",
   "execution_count": null,
   "metadata": {},
   "outputs": [],
   "source": []
  }
 ],
 "metadata": {
  "kernelspec": {
   "display_name": "Python 3",
   "language": "python",
   "name": "python3"
  },
  "language_info": {
   "codemirror_mode": {
    "name": "ipython",
    "version": 3
   },
   "file_extension": ".py",
   "mimetype": "text/x-python",
   "name": "python",
   "nbconvert_exporter": "python",
   "pygments_lexer": "ipython3",
   "version": "3.6.5"
  }
 },
 "nbformat": 4,
 "nbformat_minor": 2
}
