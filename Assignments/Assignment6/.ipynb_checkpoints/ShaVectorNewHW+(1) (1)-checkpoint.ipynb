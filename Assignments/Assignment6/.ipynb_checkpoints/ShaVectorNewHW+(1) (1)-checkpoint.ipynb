{
 "cells": [
  {
   "cell_type": "markdown",
   "metadata": {},
   "source": [
    "## A Simple Vector Class in Python"
   ]
  },
  {
   "cell_type": "code",
   "execution_count": 1,
   "metadata": {},
   "outputs": [],
   "source": [
    "# VectorNew.ipynb: VectorError and Vector Classes\n",
    "import numpy as np\n",
    "class VectorError(Exception):\n",
    "    \"\"\" An exception class for Vector. \"\"\"\n",
    "    pass\n",
    "   \n",
    "    \n",
    "class Vector(object):\n",
    "    \"\"\" A simple Python vector class with\n",
    "    basic operations and operator overloading \"\"\"\n",
    "    \n",
    "    def __init__(self, arg = None):\n",
    "        \"\"\" Construct a vector. The argument arg can be an integer\n",
    "            or a list. If arg is an integer, then a zero vector of size \n",
    "            arg is created. If arg is a list, then the list is \n",
    "            converted to a vector. If arg is None, then an empty \n",
    "            vector is created. An error message is generated otherwise.\n",
    "        \"\"\"\n",
    "        if arg is None:\n",
    "            self.size = 0\n",
    "            self.values = []\n",
    "        elif isinstance(arg, int):\n",
    "            ############################################\n",
    "            # TODO 1:                                  #\n",
    "            #                                          #\n",
    "            # fill in the code below to initialize the #\n",
    "            # 'size' and 'values' properties when arg  #\n",
    "            # is an integer. (Hint: all elements in the#\n",
    "            # vector should be zeros; the 'values'     #\n",
    "            # property is a list to contain all vector #\n",
    "            # elements.)\n",
    "            ############################################\n",
    "            pass\n",
    "            self.size = arg\n",
    "            self.values =[0 for i in range(arg)]\n",
    "    \n",
    "        elif isinstance(arg, list):\n",
    "            ############################################\n",
    "            # TODO 2:                                  #\n",
    "            #                                          #\n",
    "            # fill in the code below to initialize the #\n",
    "            # 'size' and 'values' properties when arg  #\n",
    "            # is a list. (Hint: the list given should  #\n",
    "            # be converted to a vector.)               #\n",
    "            ############################################\n",
    "            pass\n",
    "            self.size = len(arg)\n",
    "            self.values = arg\n",
    "        \n",
    "        else:\n",
    "            print(\"Error: incorrect argument! The vector cannot be initialized.\")\n",
    "    \n",
    "    def __getitem__(self, idx):\n",
    "        return self.values[idx]\n",
    "\n",
    "    def __setitem__(self, idx, item):\n",
    "        self.values[idx] = item\n",
    "        \n",
    "    def __str__(self):\n",
    "        \"\"\" Generate a string representation of a vector. \"\"\"\n",
    "        return 'vector(' + str(self.values) + ')\\n'\n",
    "\n",
    "    def __eq__(self, vec):\n",
    "        \"\"\" Test equality \"\"\"\n",
    "        ############################################\n",
    "        # TODO 3:                                  #\n",
    "        #                                          #\n",
    "        # fill in the code below to test if a      #\n",
    "        # given vector is equal to the current one.#\n",
    "        # (Hint: the function returns a Boolean    #\n",
    "        # value.)                                  #\n",
    "        ############################################\n",
    "        pass\n",
    "        if vec.size == self.size and vec.values == self.values:\n",
    "            return True \n",
    "        else:\n",
    "            return False\n",
    "    \n",
    "    def __add__(self, vec):\n",
    "        \"\"\" Add a vector to this vector and\n",
    "            return a new vector. Doesn't modify\n",
    "            the current vector.\n",
    "        \"\"\"      \n",
    "        try:\n",
    "            if self.size != vec.size:\n",
    "                raise VectorError\n",
    "        except VectorError:\n",
    "            print(\"Error: Trying to manipulate vectors of different sizes!\")\n",
    "            return\n",
    "\n",
    "        ############################################\n",
    "        # TODO 4:                                  #\n",
    "        #                                          #\n",
    "        # fill in the code below to return a new   #\n",
    "        # vector that is the sum of a given vector # \n",
    "        # and the current one. (Note: the current  #\n",
    "        # vector should not be modified.)          #           \n",
    "        ############################################\n",
    "        pass\n",
    "        a = [0 for i in range (len(vec.values))]\n",
    "        for i in range(len(vec.values)):\n",
    "\n",
    "            a[i] = self.values[i] + vec.values[i]\n",
    "        \n",
    "        return a\n",
    "    \n",
    "    def __sub__(self, vec):\n",
    "        \"\"\" Subtract a vector from this vector and\n",
    "            return a new vector. Doesn't modify\n",
    "            the current vector.\n",
    "        \"\"\"      \n",
    "        try:\n",
    "            if self.size != vec.size:\n",
    "                raise VectorError\n",
    "        except VectorError:\n",
    "            print(\"Error: Trying to manipulate vectors of different sizes!\")\n",
    "            return\n",
    "\n",
    "        ############################################\n",
    "        # TODO 5:                                  #\n",
    "        #                                          #\n",
    "        # fill in the code below to return a new   #\n",
    "        # vector that is the difference between    # \n",
    "        # the current vector and a given one.      #\n",
    "        # (Note: the current vector should not be  #\n",
    "        # modified.)                               #           \n",
    "        ############################################\n",
    "        pass\n",
    "        a = [0 for i in range (len(vec.values))]\n",
    "        for i in range(len(vec.values)):\n",
    "\n",
    "            a[i] = self.values[i] - vec.values[i]\n",
    "        \n",
    "        return a    \n",
    "    \n",
    "    \n",
    "    def __mul__(self, vec):\n",
    "        \"\"\" Multiply a vector with this vector and\n",
    "            return a new vector. Doesn't modify\n",
    "            the current vector.\n",
    "        \"\"\"      \n",
    "        try:\n",
    "            if self.size != vec.size:\n",
    "                raise VectorError\n",
    "        except VectorError:\n",
    "            print(\"Error: Trying to manipulate vectors of different sizes!\")\n",
    "            return\n",
    "        \n",
    "        ############################################\n",
    "        # TODO 6:                                  #\n",
    "        #                                          #\n",
    "        # fill in the code below to return a new   #\n",
    "        # vector that is the product of a given    # \n",
    "        # vector and the current one, element-wise.# \n",
    "        # (Note: the current vector should not be  #\n",
    "        # be modified.)                            #           \n",
    "        ############################################\n",
    "        pass\n",
    "        a = [0 for i in range (len(vec.values))]\n",
    "        for i in range(len(vec.values)):\n",
    "\n",
    "            a[i] = self.values[i] * vec.values[i]\n",
    "        \n",
    "        return a    \n",
    "    \n",
    "    def __iadd__(self, vec):\n",
    "        \"\"\" Add a vector to this vector.\n",
    "            This modifies the current vector.\n",
    "        \"\"\"\n",
    "        ############################################\n",
    "        # TODO 7:                                  #\n",
    "        #                                          #\n",
    "        # fill in the code below to add a vector   #\n",
    "        # to the current one. (Hint: call __add__  #\n",
    "        # defined above, revise self.values        #\n",
    "        # and return self.)                        #           \n",
    "        ############################################\n",
    "        pass\n",
    "        x = self + vec \n",
    "        self.values = x\n",
    "        return self\n",
    "        \n",
    "        \n",
    "\n",
    "    def __isub__(self, vec):\n",
    "        \"\"\" subtract a vector from this vector.\n",
    "            This modifies the current vector.\n",
    "        \"\"\"\n",
    "        ############################################\n",
    "        # TODO 8:                                  #\n",
    "        #                                          #\n",
    "        # fill in the code below to subtract a     #\n",
    "        # vector from the current one.             #           \n",
    "        ############################################\n",
    "        pass\n",
    "        \n",
    "        x = self - vec \n",
    "        self.values = x\n",
    "        return self\n",
    "    \n",
    "    def __imul__(self, vec):\n",
    "        \"\"\" Multiply a vector with this vector.\n",
    "            This modifies the current vector.\n",
    "        \"\"\"\n",
    "        ############################################\n",
    "        # TODO 9:                                  #\n",
    "        #                                          #\n",
    "        # fill in the code below to multiply the   #\n",
    "        # current vector by a given vector,        #\n",
    "        # element-wise.                            #            \n",
    "        ############################################\n",
    "        pass\n",
    "        \n",
    "        x = self * vec \n",
    "        self.values = x\n",
    "        return self\n",
    "\n",
    "    def dot(self, vec):\n",
    "        \"\"\" Return the dot product of a vector \n",
    "            with this vector.\n",
    "        \"\"\"\n",
    "        try:\n",
    "            if self.size != vec.size:\n",
    "                raise VectorError\n",
    "        except VectorError:\n",
    "            print(\"Error: Trying to manipulate vectors of different sizes!\")\n",
    "            return\n",
    "        \n",
    "        ############################################\n",
    "        # TODO 10:                                 #\n",
    "        #                                          #\n",
    "        # fill in the code below to return the dot # \n",
    "        # product of two vectors.                  #           \n",
    "        ############################################\n",
    "        pass\n",
    "        x = np.dot(self,vec)\n",
    "        return x "
   ]
  },
  {
   "cell_type": "markdown",
   "metadata": {},
   "source": [
    "## The Vector Class Tests"
   ]
  },
  {
   "cell_type": "markdown",
   "metadata": {},
   "source": [
    "### Constructor"
   ]
  },
  {
   "cell_type": "code",
   "execution_count": 2,
   "metadata": {},
   "outputs": [
    {
     "name": "stdout",
     "output_type": "stream",
     "text": [
      "vector([])\n",
      "\n"
     ]
    }
   ],
   "source": [
    "a = Vector()\n",
    "print(a)"
   ]
  },
  {
   "cell_type": "code",
   "execution_count": 3,
   "metadata": {
    "scrolled": true
   },
   "outputs": [
    {
     "name": "stdout",
     "output_type": "stream",
     "text": [
      "vector([0, 0, 0, 0, 0])\n",
      "\n"
     ]
    }
   ],
   "source": [
    "a = Vector(5)\n",
    "print(a)"
   ]
  },
  {
   "cell_type": "code",
   "execution_count": 4,
   "metadata": {},
   "outputs": [
    {
     "name": "stdout",
     "output_type": "stream",
     "text": [
      "vector([1, 2, 3, 4, 5])\n",
      "\n"
     ]
    }
   ],
   "source": [
    "b = Vector([x for x in range(1, 6)])\n",
    "print(b)"
   ]
  },
  {
   "cell_type": "code",
   "execution_count": 5,
   "metadata": {},
   "outputs": [
    {
     "data": {
      "text/plain": [
       "__main__.Vector"
      ]
     },
     "execution_count": 5,
     "metadata": {},
     "output_type": "execute_result"
    }
   ],
   "source": [
    "type(b)"
   ]
  },
  {
   "cell_type": "code",
   "execution_count": 6,
   "metadata": {},
   "outputs": [
    {
     "data": {
      "text/plain": [
       "4"
      ]
     },
     "execution_count": 6,
     "metadata": {},
     "output_type": "execute_result"
    }
   ],
   "source": [
    "b[3]"
   ]
  },
  {
   "cell_type": "code",
   "execution_count": 7,
   "metadata": {},
   "outputs": [
    {
     "data": {
      "text/plain": [
       "5"
      ]
     },
     "execution_count": 7,
     "metadata": {},
     "output_type": "execute_result"
    }
   ],
   "source": [
    "b.size"
   ]
  },
  {
   "cell_type": "code",
   "execution_count": 8,
   "metadata": {},
   "outputs": [
    {
     "name": "stdout",
     "output_type": "stream",
     "text": [
      "vector([2, 3, 4, 5, 6])\n",
      "\n"
     ]
    }
   ],
   "source": [
    "c = Vector([2, 3, 4, 5, 6])\n",
    "print(c)"
   ]
  },
  {
   "cell_type": "code",
   "execution_count": 9,
   "metadata": {},
   "outputs": [
    {
     "name": "stdout",
     "output_type": "stream",
     "text": [
      "vector([0, 0, 0, 0, 0, 0])\n",
      "\n"
     ]
    }
   ],
   "source": [
    "d = Vector(6)\n",
    "print(d)"
   ]
  },
  {
   "cell_type": "code",
   "execution_count": 10,
   "metadata": {},
   "outputs": [
    {
     "data": {
      "text/plain": [
       "6"
      ]
     },
     "execution_count": 10,
     "metadata": {},
     "output_type": "execute_result"
    }
   ],
   "source": [
    "d.size"
   ]
  },
  {
   "cell_type": "markdown",
   "metadata": {},
   "source": [
    "### Indexing and Slicing"
   ]
  },
  {
   "cell_type": "code",
   "execution_count": 11,
   "metadata": {},
   "outputs": [
    {
     "data": {
      "text/plain": [
       "4"
      ]
     },
     "execution_count": 11,
     "metadata": {},
     "output_type": "execute_result"
    }
   ],
   "source": [
    "b[3]"
   ]
  },
  {
   "cell_type": "code",
   "execution_count": 12,
   "metadata": {},
   "outputs": [
    {
     "data": {
      "text/plain": [
       "[3, 4]"
      ]
     },
     "execution_count": 12,
     "metadata": {},
     "output_type": "execute_result"
    }
   ],
   "source": [
    "b[2:4]"
   ]
  },
  {
   "cell_type": "code",
   "execution_count": 13,
   "metadata": {},
   "outputs": [
    {
     "data": {
      "text/plain": [
       "[5, 4, 3]"
      ]
     },
     "execution_count": 13,
     "metadata": {},
     "output_type": "execute_result"
    }
   ],
   "source": [
    "b[4:1:-1]"
   ]
  },
  {
   "cell_type": "code",
   "execution_count": 14,
   "metadata": {},
   "outputs": [
    {
     "name": "stdout",
     "output_type": "stream",
     "text": [
      "vector([0, 1, 0, 0, 0])\n",
      "\n"
     ]
    }
   ],
   "source": [
    "a[1] = 1\n",
    "print(a)"
   ]
  },
  {
   "cell_type": "markdown",
   "metadata": {},
   "source": [
    "### Operations"
   ]
  },
  {
   "cell_type": "code",
   "execution_count": 15,
   "metadata": {},
   "outputs": [
    {
     "data": {
      "text/plain": [
       "False"
      ]
     },
     "execution_count": 15,
     "metadata": {},
     "output_type": "execute_result"
    }
   ],
   "source": [
    "a == b"
   ]
  },
  {
   "cell_type": "code",
   "execution_count": 16,
   "metadata": {},
   "outputs": [
    {
     "data": {
      "text/plain": [
       "True"
      ]
     },
     "execution_count": 16,
     "metadata": {},
     "output_type": "execute_result"
    }
   ],
   "source": [
    "b == Vector([1, 2, 3, 4, 5])"
   ]
  },
  {
   "cell_type": "code",
   "execution_count": 17,
   "metadata": {},
   "outputs": [
    {
     "name": "stdout",
     "output_type": "stream",
     "text": [
      "[1, 3, 3, 4, 5]\n"
     ]
    }
   ],
   "source": [
    "print(a + b)"
   ]
  },
  {
   "cell_type": "code",
   "execution_count": 18,
   "metadata": {},
   "outputs": [
    {
     "name": "stdout",
     "output_type": "stream",
     "text": [
      "Error: Trying to manipulate vectors of different sizes!\n"
     ]
    }
   ],
   "source": [
    "b + d"
   ]
  },
  {
   "cell_type": "code",
   "execution_count": 19,
   "metadata": {},
   "outputs": [
    {
     "name": "stdout",
     "output_type": "stream",
     "text": [
      "[-1, -1, -3, -4, -5]\n"
     ]
    }
   ],
   "source": [
    "print(a - b)"
   ]
  },
  {
   "cell_type": "code",
   "execution_count": 20,
   "metadata": {},
   "outputs": [
    {
     "name": "stdout",
     "output_type": "stream",
     "text": [
      "Error: Trying to manipulate vectors of different sizes!\n"
     ]
    }
   ],
   "source": [
    "b - d"
   ]
  },
  {
   "cell_type": "code",
   "execution_count": 21,
   "metadata": {
    "scrolled": true
   },
   "outputs": [
    {
     "name": "stdout",
     "output_type": "stream",
     "text": [
      "[0, 2, 0, 0, 0]\n"
     ]
    }
   ],
   "source": [
    "print(a * b)"
   ]
  },
  {
   "cell_type": "code",
   "execution_count": 22,
   "metadata": {
    "scrolled": true
   },
   "outputs": [
    {
     "name": "stdout",
     "output_type": "stream",
     "text": [
      "Error: Trying to manipulate vectors of different sizes!\n"
     ]
    }
   ],
   "source": [
    "b * d"
   ]
  },
  {
   "cell_type": "markdown",
   "metadata": {},
   "source": [
    "### Assignment Operations"
   ]
  },
  {
   "cell_type": "code",
   "execution_count": 23,
   "metadata": {},
   "outputs": [
    {
     "name": "stdout",
     "output_type": "stream",
     "text": [
      "vector([1, 3, 3, 4, 5])\n",
      "\n"
     ]
    }
   ],
   "source": [
    "a += b\n",
    "print(a)"
   ]
  },
  {
   "cell_type": "code",
   "execution_count": 24,
   "metadata": {
    "scrolled": true
   },
   "outputs": [
    {
     "name": "stdout",
     "output_type": "stream",
     "text": [
      "vector([0, 1, 0, 0, 0])\n",
      "\n"
     ]
    }
   ],
   "source": [
    "a -= b\n",
    "print(a)"
   ]
  },
  {
   "cell_type": "code",
   "execution_count": 25,
   "metadata": {},
   "outputs": [
    {
     "name": "stdout",
     "output_type": "stream",
     "text": [
      "vector([0, 2, 0, 0, 0])\n",
      "\n"
     ]
    }
   ],
   "source": [
    "a *= b\n",
    "print(a)"
   ]
  },
  {
   "cell_type": "markdown",
   "metadata": {},
   "source": [
    "### Dot Product"
   ]
  },
  {
   "cell_type": "code",
   "execution_count": 26,
   "metadata": {},
   "outputs": [
    {
     "data": {
      "text/plain": [
       "[2, 6, 12, 20, 30]"
      ]
     },
     "execution_count": 26,
     "metadata": {},
     "output_type": "execute_result"
    }
   ],
   "source": [
    "b.dot(c)"
   ]
  },
  {
   "cell_type": "code",
   "execution_count": 27,
   "metadata": {},
   "outputs": [
    {
     "name": "stdout",
     "output_type": "stream",
     "text": [
      "Error: Trying to manipulate vectors of different sizes!\n"
     ]
    }
   ],
   "source": [
    "b.dot(d)"
   ]
  }
 ],
 "metadata": {
  "kernelspec": {
   "display_name": "Python 3",
   "language": "python",
   "name": "python3"
  },
  "language_info": {
   "codemirror_mode": {
    "name": "ipython",
    "version": 3
   },
   "file_extension": ".py",
   "mimetype": "text/x-python",
   "name": "python",
   "nbconvert_exporter": "python",
   "pygments_lexer": "ipython3",
   "version": "3.6.5"
  }
 },
 "nbformat": 4,
 "nbformat_minor": 2
}
