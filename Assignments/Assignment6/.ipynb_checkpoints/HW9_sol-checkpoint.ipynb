{
 "cells": [
  {
   "cell_type": "markdown",
   "metadata": {},
   "source": [
    "## Assignment 9 Solutions"
   ]
  },
  {
   "cell_type": "markdown",
   "metadata": {},
   "source": [
    "### Problem 1. Write a function to compute the mean, (sample) variance and (sample) standard deviation of a list of floating-point numbers passed to the function. The function returns a dictionary that maps a set of keys to the above descriptive statistic values. Hints: a. use the len function; b. apply the sample variance and sample standard deviation formulas in statistics."
   ]
  },
  {
   "cell_type": "code",
   "execution_count": null,
   "metadata": {},
   "outputs": [],
   "source": [
    "def describe(ilist = None):\n",
    "    \"\"\" The function returns 3 statistics of a list. \"\"\" \n",
    "    ndict = {}\n",
    "    if ilist is None:\n",
    "        return ndict\n",
    "    # mean\n",
    "    xsum = sum(ilist)\n",
    "    mean = xsum/len(ilist)\n",
    "    # var\n",
    "    xsum = sum([(x-mean) ** 2.0 for x in ilist])\n",
    "    var = xsum/(len(ilist)-1)\n",
    "    # stdev\n",
    "    std = var ** 0.5\n",
    "    ndict['mean'] = mean\n",
    "    ndict['var'] = var\n",
    "    ndict['std'] = std\n",
    "    return ndict"
   ]
  },
  {
   "cell_type": "code",
   "execution_count": null,
   "metadata": {},
   "outputs": [],
   "source": [
    "alist = [x * 1.0 for x in range(1, 11)]\n",
    "print(describe(alist))"
   ]
  },
  {
   "cell_type": "code",
   "execution_count": null,
   "metadata": {},
   "outputs": [],
   "source": [
    "print(describe())"
   ]
  },
  {
   "cell_type": "markdown",
   "metadata": {},
   "source": [
    "### Problem 2. Write a function to compute the mean of a series of numbers entered by the user. The user is allowed to input as many numbers as she/he wants. After the user enters \"stop\" instead of a number, the function computes and returns the mean value. Hint: use the append function."
   ]
  },
  {
   "cell_type": "code",
   "execution_count": null,
   "metadata": {},
   "outputs": [],
   "source": [
    "def mean_inputs():\n",
    "    \"\"\" This function stores the inputs in a list\n",
    "        and returns the mean value. \"\"\"\n",
    "    ilist = []\n",
    "    while True:\n",
    "        a = input(\"Input a floating point number, or 'stop' to finish:\")\n",
    "        if a != 'stop':\n",
    "            ilist.append(float(a))\n",
    "            continue\n",
    "        xsum = sum(ilist)\n",
    "        mean = xsum/len(ilist)\n",
    "        return mean            "
   ]
  },
  {
   "cell_type": "code",
   "execution_count": null,
   "metadata": {},
   "outputs": [],
   "source": [
    "avg = mean_inputs()\n",
    "print(avg)"
   ]
  }
 ],
 "metadata": {
  "kernelspec": {
   "display_name": "Python 3",
   "language": "python",
   "name": "python3"
  },
  "language_info": {
   "codemirror_mode": {
    "name": "ipython",
    "version": 3
   },
   "file_extension": ".py",
   "mimetype": "text/x-python",
   "name": "python",
   "nbconvert_exporter": "python",
   "pygments_lexer": "ipython3",
   "version": "3.6.5"
  }
 },
 "nbformat": 4,
 "nbformat_minor": 2
}
