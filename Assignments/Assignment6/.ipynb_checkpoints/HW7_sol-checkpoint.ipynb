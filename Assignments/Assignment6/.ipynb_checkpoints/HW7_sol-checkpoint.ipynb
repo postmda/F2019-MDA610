{
 "cells": [
  {
   "cell_type": "markdown",
   "metadata": {},
   "source": [
    "## Assignment 7 Solutions"
   ]
  },
  {
   "cell_type": "markdown",
   "metadata": {},
   "source": [
    "### Problem 1. Ask the user to input a numeric grade. Then output the corresponding letter grade. The grade scale is as follows: 90 - 100 A; 80 - 89 B; 70 - 79 C; 60 - 69 D; 0 - 59 F."
   ]
  },
  {
   "cell_type": "code",
   "execution_count": null,
   "metadata": {},
   "outputs": [],
   "source": [
    "grade = int(input('Please input a grade:'))\n",
    "print('The letter grade is:', end = ' ')\n",
    "if 90 <= grade <= 100:\n",
    "    print('A')\n",
    "elif 80 <= grade <= 89:\n",
    "    print('B')\n",
    "elif 70 <= grade <= 79:\n",
    "    print('C')\n",
    "elif 60 <= grade <= 69:\n",
    "    print('D')\n",
    "else:\n",
    "    print('F')"
   ]
  },
  {
   "cell_type": "markdown",
   "metadata": {},
   "source": [
    "### Problem 2. For two given lists, construct a new list that contains the elements common to both lists."
   ]
  },
  {
   "cell_type": "code",
   "execution_count": null,
   "metadata": {},
   "outputs": [],
   "source": [
    "alist = [x for x in range(10)]\n",
    "blist = [x for x in range(5, 12, 2)]\n",
    "clist = [x for x in alist if x in blist]\n",
    "clist"
   ]
  },
  {
   "cell_type": "markdown",
   "metadata": {},
   "source": [
    "### Problem 3. A string is parlindrome if reverse of the string is same as the string. For example, 'abba' is parlindrome, while 'abbb' is not. Write a function to check if a string is parlindrome. The string is passed as an argument to the function. The function returns True if the string is parlindrome, or False otherwise."
   ]
  },
  {
   "cell_type": "code",
   "execution_count": null,
   "metadata": {},
   "outputs": [],
   "source": [
    "def isParlindrome(astr):\n",
    "    if astr == astr[::-1]:\n",
    "        return(True)\n",
    "    else:\n",
    "        return(False)\n",
    "\n",
    "print(isParlindrome('abba'))\n",
    "print(isParlindrome('abbb'))"
   ]
  },
  {
   "cell_type": "markdown",
   "metadata": {},
   "source": [
    "### Problem 4. Print the numbers between 100 and 400 (both included) where all three digits of a number are even. The numbers printed out are separated by commas. (Hint: x // 1 % 10, x // 10 % 10, and x // 100 % 10 return, respectively, the units digit, the 10s digit and the 100s digit of a number x.)"
   ]
  },
  {
   "cell_type": "code",
   "execution_count": null,
   "metadata": {},
   "outputs": [],
   "source": [
    "for x in range(100, 401):\n",
    "    if x // 1 % 10 % 2:\n",
    "        continue\n",
    "    if x // 10 % 10 % 2:\n",
    "        continue\n",
    "    if x // 100 % 10 % 2:\n",
    "        continue\n",
    "    print(x, end = ',')    "
   ]
  },
  {
   "cell_type": "markdown",
   "metadata": {},
   "source": [
    "### Problem 5. Write a function to count occurrences of each distinct character in a given string. The string is passed to the function as an argument. The function returns a dictionary with each character being the key of an item, and its frequency being the value of the item."
   ]
  },
  {
   "cell_type": "code",
   "execution_count": null,
   "metadata": {},
   "outputs": [],
   "source": [
    "def charFreq(astr):\n",
    "    adict = {}\n",
    "    for c in astr:\n",
    "        if c in adict:\n",
    "            adict[c] += 1\n",
    "        else:\n",
    "            adict[c] = 1\n",
    "    return adict\n",
    "\n",
    "charFreq('aabbbcdde')"
   ]
  },
  {
   "cell_type": "code",
   "execution_count": null,
   "metadata": {},
   "outputs": [],
   "source": []
  }
 ],
 "metadata": {
  "kernelspec": {
   "display_name": "Python 3",
   "language": "python",
   "name": "python3"
  },
  "language_info": {
   "codemirror_mode": {
    "name": "ipython",
    "version": 3
   },
   "file_extension": ".py",
   "mimetype": "text/x-python",
   "name": "python",
   "nbconvert_exporter": "python",
   "pygments_lexer": "ipython3",
   "version": "3.6.5"
  }
 },
 "nbformat": 4,
 "nbformat_minor": 2
}
