{
 "cells": [
  {
   "cell_type": "markdown",
   "metadata": {},
   "source": [
    "# Numpy: A Short Tutorial\n",
    "-  Numpy is an add-on package for scientific computation.\n",
    "-  The basic object in Numpy is *ndarray*, an array of objects of the same type.\n",
    "-  Operations on ndarrays are fast and space-efficient."
   ]
  },
  {
   "cell_type": "code",
   "execution_count": null,
   "metadata": {},
   "outputs": [],
   "source": [
    "# import the Numpy package\n",
    "import numpy as np"
   ]
  },
  {
   "cell_type": "markdown",
   "metadata": {},
   "source": [
    "## One-dimensional Arrays"
   ]
  },
  {
   "cell_type": "markdown",
   "metadata": {},
   "source": [
    "### Constructors\n",
    "-  ```np.linspace``` builds an equally spaced array of floats.\n",
    "-  ```np.arange``` returns an array of integers.\n",
    "-  ```np.array``` converts a container object into an array.\n",
    "-  ```np.zeros```, ```np.ones``` and ```np.empty``` create an array filled with zeros, ones and Nones, respectively. \n",
    "-  Look alike constructors ```np.zeros_like```, ```np.ones_like``` and ```np.empty_lie```set up arrays of the same size and type."
   ]
  },
  {
   "cell_type": "code",
   "execution_count": null,
   "metadata": {},
   "outputs": [],
   "source": [
    "# np.linspace with endpoint = True\n",
    "x = np.linspace(0, 1, 11, endpoint = True)\n",
    "x"
   ]
  },
  {
   "cell_type": "code",
   "execution_count": null,
   "metadata": {},
   "outputs": [],
   "source": [
    "# np.linspace with endpoint = False\n",
    "x = np.linspace(0, 1, 11, endpoint = False)\n",
    "x"
   ]
  },
  {
   "cell_type": "code",
   "execution_count": null,
   "metadata": {},
   "outputs": [],
   "source": [
    "# np.arange\n",
    "y = np.arange(0, 10, 2, dtype=np.int32)\n",
    "y"
   ]
  },
  {
   "cell_type": "code",
   "execution_count": null,
   "metadata": {},
   "outputs": [],
   "source": [
    "# np.array converts a container object to an ndarray\n",
    "z = np.array([1, 2, 3])\n",
    "z"
   ]
  },
  {
   "cell_type": "code",
   "execution_count": null,
   "metadata": {},
   "outputs": [],
   "source": [
    "# np.zeros\n",
    "a1 = np.zeros(5)\n",
    "a1"
   ]
  },
  {
   "cell_type": "code",
   "execution_count": null,
   "metadata": {},
   "outputs": [],
   "source": [
    "# np.ones\n",
    "a2 = np.ones(10)\n",
    "a2"
   ]
  },
  {
   "cell_type": "code",
   "execution_count": null,
   "metadata": {},
   "outputs": [],
   "source": [
    "# np.zeros_like\n",
    "a3 = np.array([1, 2, 3, 4, 5])\n",
    "a4 = np.zeros_like(a3)\n",
    "a4"
   ]
  },
  {
   "cell_type": "code",
   "execution_count": null,
   "metadata": {},
   "outputs": [],
   "source": [
    "# np.ones_like\n",
    "a5 = np.array([1, 3, 5, 7, 9])\n",
    "a6 = np.ones_like(a5)\n",
    "a6"
   ]
  },
  {
   "cell_type": "markdown",
   "metadata": {},
   "source": [
    "### Arithmetical Operations\n",
    "-  Arithmetic operations between arrays of the same size are performed component-wise.\n",
    "-  Arithmetic operations between an array and a scalar are performed component-wise."
   ]
  },
  {
   "cell_type": "code",
   "execution_count": null,
   "metadata": {},
   "outputs": [],
   "source": [
    "# arrays a and b are of the same size\n",
    "a = np.arange(5)\n",
    "b = np.arange(2, 7)\n",
    "print(a)\n",
    "print(b)\n",
    "a + b"
   ]
  },
  {
   "cell_type": "code",
   "execution_count": null,
   "metadata": {},
   "outputs": [],
   "source": [
    "# broadcasting\n",
    "c = np.arange(5)\n",
    "print(c)\n",
    "2 * c"
   ]
  },
  {
   "cell_type": "code",
   "execution_count": null,
   "metadata": {},
   "outputs": [],
   "source": [
    "# slicing an array creates a view of the original array\n",
    "arr1 = np.arange(5)\n",
    "arr2 = arr1[2:]\n",
    "arr2[0] = 10\n",
    "print(arr2)\n",
    "print(arr1)"
   ]
  },
  {
   "cell_type": "markdown",
   "metadata": {},
   "source": [
    "### Universal Functions\n",
    "-  A *ufunc* is a universal function which when applied to an array produces an array of the same size, by operating component-wise.\n",
    "-  *Vectorization* is to implement operations through ufuncs instead of loops.\n",
    "-  Vectorization makes repeated calculations on array elements much more efficient."
   ]
  },
  {
   "cell_type": "code",
   "execution_count": null,
   "metadata": {},
   "outputs": [],
   "source": [
    "# np.exp\n",
    "a = np.arange(5)\n",
    "b = np.exp(a)\n",
    "b"
   ]
  },
  {
   "cell_type": "markdown",
   "metadata": {},
   "source": [
    " ### Logical Operations on Arrays"
   ]
  },
  {
   "cell_type": "code",
   "execution_count": null,
   "metadata": {},
   "outputs": [],
   "source": [
    "# a Boolean array\n",
    "x = np.linspace(-2, 2, 9)\n",
    "y = x < 0\n",
    "y"
   ]
  },
  {
   "cell_type": "code",
   "execution_count": null,
   "metadata": {},
   "outputs": [],
   "source": [
    "# masking\n",
    "z = x.copy()\n",
    "z[y] = -z[y]\n",
    "z"
   ]
  },
  {
   "cell_type": "code",
   "execution_count": null,
   "metadata": {},
   "outputs": [],
   "source": [
    "# masking\n",
    "z = x.copy()\n",
    "z[z < 0] = -z[z < 0]\n",
    "z"
   ]
  },
  {
   "cell_type": "markdown",
   "metadata": {},
   "source": [
    "## Two-dimensional Arrays\n",
    "-  Three attributes: ```ndim```, ```shape```, and ```dtype```."
   ]
  },
  {
   "cell_type": "code",
   "execution_count": null,
   "metadata": {},
   "outputs": [],
   "source": [
    "v = np.array([[0, 1, 2], [3, 4, 5]])\n",
    "print(v.ndim)\n",
    "print(v.shape)\n",
    "print(v.shape[0])\n",
    "print(v.dtype)"
   ]
  },
  {
   "cell_type": "markdown",
   "metadata": {},
   "source": [
    "### Data types\n",
    "-  int16, int32, int64\n",
    "-  float16, float32, float64"
   ]
  },
  {
   "cell_type": "code",
   "execution_count": null,
   "metadata": {},
   "outputs": [],
   "source": [
    "# convert an array from one type to another\n",
    "arr = np.array([1, 2, 3, 4, 5])\n",
    "print(arr.dtype)\n",
    "float_arr = arr.astype(np.float32)   # a copy is created\n",
    "print(float_arr.dtype)"
   ]
  },
  {
   "cell_type": "markdown",
   "metadata": {},
   "source": [
    "### Indexing\n",
    "-  Basic indexing: similar to list indexing.\n",
    "-  Fancy indexing: passing an array of indices to access multiple array elements at once. "
   ]
  },
  {
   "cell_type": "code",
   "execution_count": null,
   "metadata": {},
   "outputs": [],
   "source": [
    "# basic indexing\n",
    "v = np.array([[0, 1, 2], [3, 4, 5]])\n",
    "print(v[1, 2])\n",
    "print(v[0])\n",
    "print(v[:, 1])"
   ]
  },
  {
   "cell_type": "code",
   "execution_count": null,
   "metadata": {},
   "outputs": [],
   "source": [
    "# fancy indexing - one-dimensional array\n",
    "# with fancy indexing, the shape of the result reflects the shape of the index arrays. \n",
    "x = np.array([1, 2, 3, 4, 5, 6])\n",
    "ind = np.array([[3, 2], [1, 4]])\n",
    "x[ind]"
   ]
  },
  {
   "cell_type": "code",
   "execution_count": null,
   "metadata": {},
   "outputs": [],
   "source": [
    "# fancy indexing - two-dimensional array\n",
    "row = np.array([0, 1, 1])\n",
    "col = np.array([2, 1, 2])\n",
    "v[row, col]   # v[0,2], v[1,1], v[1,2]"
   ]
  },
  {
   "cell_type": "markdown",
   "metadata": {},
   "source": [
    "### Slicing\n",
    "-  Slicing an ndarray creates a view, not a copy. \n",
    "-  Apply `.copy()` can create a deep copy of the array."
   ]
  },
  {
   "cell_type": "code",
   "execution_count": null,
   "metadata": {},
   "outputs": [],
   "source": [
    "x = np.array([0, 1, 2, 3])\n",
    "print(x[1:3])\n",
    "# y is a view\n",
    "y = x[1:3]\n",
    "y[0] = -1\n",
    "x[1:3]"
   ]
  },
  {
   "cell_type": "code",
   "execution_count": null,
   "metadata": {},
   "outputs": [],
   "source": [
    "x = np.array([0, 1, 2, 3])\n",
    "print(x[1:3])\n",
    "# y is a copy\n",
    "y = x[1:3].copy()\n",
    "y[0] = -1\n",
    "x[1:3]"
   ]
  },
  {
   "cell_type": "markdown",
   "metadata": {},
   "source": [
    "### Constructors\n",
    "-  For the three functions ```np.zeros```, ```np.ones``` and ```np.empty```, the first argument is replaced with a tuple to define the shape of the array.\n",
    "-  The look-alike constructors can be applied.\n",
    "-  ```np.reshape``` recasts the array into another shape."
   ]
  },
  {
   "cell_type": "code",
   "execution_count": null,
   "metadata": {},
   "outputs": [],
   "source": [
    "# np.zeros\n",
    "x = np.zeros((3, 4))\n",
    "x"
   ]
  },
  {
   "cell_type": "code",
   "execution_count": null,
   "metadata": {},
   "outputs": [],
   "source": [
    "# np.zeros_like\n",
    "q = np.array([[0, 1, 2], [3, 4, 5]])\n",
    "q0 = np.zeros_like(q)\n",
    "q0"
   ]
  },
  {
   "cell_type": "code",
   "execution_count": null,
   "metadata": {},
   "outputs": [],
   "source": [
    "# np.reshape\n",
    "y = np.arange(12)\n",
    "z = y.reshape((4, 3))\n",
    "print(y)\n",
    "z"
   ]
  },
  {
   "cell_type": "markdown",
   "metadata": {},
   "source": [
    "### Broadcasting\n",
    "-  Broadcasting can be applied when the shapes of array x and array y differ. \n",
    "-  Rule 1: If the arrays do not have the same number of dimensions, then a \"1\" will be repeatedly prepended to the shapes of the smaller arrays until all arrays have the same number of axes.\n",
    "-  Rule 2: The arrays with a size of 1 along a particular dimension or axis act as if they had the size of the array with the largest size along that dimension."
   ]
  },
  {
   "cell_type": "code",
   "execution_count": null,
   "metadata": {},
   "outputs": [],
   "source": [
    "a = np.arange(12).reshape((3, 4))\n",
    "b = np.array([10, 11, 12, 13])\n",
    "print(a)\n",
    "b"
   ]
  },
  {
   "cell_type": "code",
   "execution_count": null,
   "metadata": {},
   "outputs": [],
   "source": [
    "# b is expanded along axis = 0 (columns)\n",
    "a + b"
   ]
  },
  {
   "cell_type": "code",
   "execution_count": null,
   "metadata": {},
   "outputs": [],
   "source": [
    "c = np.array([20, 30, 40])\n",
    "# could not be broadcast\n",
    "try:\n",
    "    a + c\n",
    "except ValueError:\n",
    "    print(\"ValueError: operands could not be broadcast together with shapes (3, 4) (3,)\")"
   ]
  },
  {
   "cell_type": "code",
   "execution_count": null,
   "metadata": {},
   "outputs": [],
   "source": [
    "# c is expanded along axis = 1 (rows)\n",
    "a + c[:, np.newaxis]"
   ]
  },
  {
   "cell_type": "code",
   "execution_count": null,
   "metadata": {},
   "outputs": [],
   "source": [
    "d = np.array([[5], [6], [7]])\n",
    "# d is expanded along axis = 1 (rows)\n",
    "a + d"
   ]
  },
  {
   "cell_type": "code",
   "execution_count": null,
   "metadata": {},
   "outputs": [],
   "source": [
    "# broadcasting two arrays\n",
    "e = np.arange(3).reshape((3,1))\n",
    "f = np.arange(4).reshape((1,4))\n",
    "e + f"
   ]
  },
  {
   "cell_type": "markdown",
   "metadata": {},
   "source": [
    "### Aggregation Ufuncs"
   ]
  },
  {
   "cell_type": "code",
   "execution_count": null,
   "metadata": {},
   "outputs": [],
   "source": [
    "# np.max and np.min\n",
    "x = np.arange(6).reshape((3, 2))\n",
    "print(x)\n",
    "print(np.max(x))\n",
    "print(np.max(x, axis = 0))  # column maxima\n",
    "print(np.max(x, axis = 1))  # row maxima"
   ]
  },
  {
   "cell_type": "code",
   "execution_count": null,
   "metadata": {
    "scrolled": true
   },
   "outputs": [],
   "source": [
    "# np.argmax and np.argmin\n",
    "np.argmax(x, axis = 0)   # positions of the column maxima"
   ]
  },
  {
   "cell_type": "code",
   "execution_count": null,
   "metadata": {},
   "outputs": [],
   "source": [
    "# np.sum and np.prod\n",
    "print(np.sum(x, axis = 0))   # column sums\n",
    "print(np.prod(x, axis = 1))   # row products"
   ]
  },
  {
   "cell_type": "code",
   "execution_count": null,
   "metadata": {
    "scrolled": false
   },
   "outputs": [],
   "source": [
    "# np.average and np.var\n",
    "print(np.average(x, axis = 0))\n",
    "print(np.var(x, axis = 1))"
   ]
  },
  {
   "cell_type": "markdown",
   "metadata": {},
   "source": [
    "### Sorting"
   ]
  },
  {
   "cell_type": "code",
   "execution_count": null,
   "metadata": {},
   "outputs": [],
   "source": [
    "# sorting by row\n",
    "arr = np.array([[1, 2, 2], [4, 3, 1]])\n",
    "print(arr)\n",
    "np.sort(arr)"
   ]
  },
  {
   "cell_type": "code",
   "execution_count": null,
   "metadata": {},
   "outputs": [],
   "source": [
    "# sorting by column\n",
    "np.sort(arr, axis = 0)"
   ]
  },
  {
   "cell_type": "markdown",
   "metadata": {},
   "source": [
    "### Boolean Arrays"
   ]
  },
  {
   "cell_type": "code",
   "execution_count": null,
   "metadata": {},
   "outputs": [],
   "source": [
    "# masking - the result is a 1-D array\n",
    "x = np.arange(12).reshape((3, 4))\n",
    "y = x[x < 6]\n",
    "y"
   ]
  },
  {
   "cell_type": "code",
   "execution_count": null,
   "metadata": {},
   "outputs": [],
   "source": [
    "# counting entries\n",
    "print(np.sum(x < 6))   # number of values less than 6\n",
    "print(np.sum(x < 6, axis = 0))   # number of values less than 6 in each column"
   ]
  },
  {
   "cell_type": "code",
   "execution_count": null,
   "metadata": {},
   "outputs": [],
   "source": [
    "# .any and .all\n",
    "bools = np.array([False, True, False, True])\n",
    "print(bools.any())    # is any value True?\n",
    "bools.all()    # is every value True?"
   ]
  },
  {
   "cell_type": "markdown",
   "metadata": {},
   "source": [
    "## Numpy Text Input and Output"
   ]
  },
  {
   "cell_type": "code",
   "execution_count": null,
   "metadata": {},
   "outputs": [],
   "source": [
    "# output\n",
    "len = 21\n",
    "x = np.linspace(0, 2 * np.pi, len)\n",
    "c = np.cos(x)\n",
    "s = np.sin(x)\n",
    "t = np.tan(x)\n",
    "arr = np.empty((4, len), dtype = float)\n",
    "arr[0, :] = x\n",
    "arr[1, :] = c\n",
    "arr[2, :] = s\n",
    "arr[3, :] = t\n",
    "np.savetxt('x.txt', x, delimiter = ' ', fmt = '%6.3f')   # a 1-d array\n",
    "np.savetxt('xcst.txt', (x, c, s, t), fmt = '%6.3f')   # a tuple\n",
    "np.savetxt('arr.csv', arr, delimiter = ',', fmt = '%6.3f')   # a 2-d array"
   ]
  },
  {
   "cell_type": "code",
   "execution_count": null,
   "metadata": {},
   "outputs": [],
   "source": [
    "# input\n",
    "xv = np.loadtxt('x.txt')\n",
    "print(xv.shape)\n",
    "xv, cv, sv, tv = np.loadtxt('xcst.txt')\n",
    "print(xv.shape)\n",
    "arrv = np.loadtxt('arr.csv', delimiter = ',')\n",
    "print(arrv.shape)"
   ]
  },
  {
   "cell_type": "markdown",
   "metadata": {},
   "source": [
    "## Linear Algebra\n",
    "-  transpose\n",
    "-  ```np.identity()```\n",
    "-  ```np.dot()```\n",
    "-  ```np.linalg``` module"
   ]
  },
  {
   "cell_type": "markdown",
   "metadata": {},
   "source": [
    "### Linear Algebra Review\n",
    "\n",
    "- Vector-Vector Products\n",
    "\n",
    "    Given $ \\mathbf{a} = \\begin{bmatrix} \n",
    "                   a_1 \\\\\n",
    "                   a_2 \\\\\n",
    "                   \\vdots \\\\\n",
    "                   a_m\n",
    "                   \\end{bmatrix} \\in R^m, \n",
    "      \\mathbf{b} = \\begin{bmatrix} \n",
    "                   b_1 \\\\\n",
    "                   b_2 \\\\\n",
    "                   \\vdots\\\\\n",
    "                   b_m\n",
    "                   \\end{bmatrix} \\in R^m$ and $\n",
    "      \\mathbf{c} = \\begin{bmatrix} \n",
    "                   c_1 \\\\\n",
    "                   c_2 \\\\\n",
    "                   \\vdots\\\\\n",
    "                   c_n\n",
    "                   \\end{bmatrix} \\in R^n,$\n",
    " \n",
    "    - inner product $\\text{   }\\mathbf{a} \\bullet \\mathbf{b} = a_1b_1+a_2b_2+\\cdots+a_mb_m \\in R$\n",
    "    \n",
    "    - outer product $\\text{   }\\mathbf{a} \\otimes \\mathbf{c} = \\begin{bmatrix}\n",
    "    a_1 \\\\\n",
    "    a_2 \\\\\n",
    "    \\vdots \\\\\n",
    "    a_m  \n",
    "    \\end{bmatrix}\n",
    "    \\begin{bmatrix}\n",
    "    c_1 & c_2 & \\cdots & c_n\n",
    "    \\end{bmatrix} =\n",
    "    \\begin{bmatrix}\n",
    "    a_1c_1 & a_1c_2 & \\cdots & a_1c_n \\\\\n",
    "    a_2c_1 & a_2c_2 & \\cdots & a_2c_n \\\\\n",
    "    \\vdots & \\vdots & \\vdots & \\vdots \\\\\n",
    "    a_mc_1 & a_mc_2 & \\cdots & a_mc_n\n",
    "    \\end{bmatrix} \\in R^{m \\times n} $\n",
    "    \n",
    "    \n",
    "- Matrix-Vector Products\n",
    "\n",
    "    Given $\\mathbf{W} = \n",
    "                  \\begin{bmatrix}\n",
    "                  w_{11} & w_{12} & \\cdots & w_{1n} \\\\\n",
    "                  w_{21} & w_{22} & \\cdots & w_{2n} \\\\\n",
    "                  \\vdots & \\vdots & \\vdots & \\vdots \\\\\n",
    "                  w_{m1} & w_{m2} & \\cdots & w_{mn}\n",
    "                  \\end{bmatrix} \\in R^{m \\times n} $ and $\n",
    "          \\mathbf{x} = [x_1, x_2, \\cdots, x_n]^t \\in R^n$, \n",
    "    \n",
    "    $\\mathbf{W}\\mathbf{x} = \\begin{bmatrix}\n",
    "    -- & \\mathbf{w}_1^t & -- \\\\\n",
    "    -- & \\mathbf{w}_2^t & -- \\\\\n",
    "    \\vdots & \\vdots & \\vdots \\\\\n",
    "    -- & \\mathbf{w}_m^t & -- \n",
    "    \\end{bmatrix}\n",
    "    \\mathbf{x}\n",
    "    = \\begin{bmatrix}\n",
    "    \\mathbf{w}_1^t \\bullet \\mathbf{x} \\\\\n",
    "    \\mathbf{w}_2^t \\bullet \\mathbf{x} \\\\\n",
    "    \\vdots \\\\\n",
    "    \\mathbf{w}_m^t \\bullet \\mathbf{x} \n",
    "    \\end{bmatrix} \\in R^m$;\n",
    "    \n",
    "    or given $\\mathbf{V} = \n",
    "                  \\begin{bmatrix}\n",
    "                  v_{11} & v_{12} & \\cdots & v_{1n} \\\\\n",
    "                  v_{21} & v_{22} & \\cdots & v_{2n} \\\\\n",
    "                  \\vdots & \\vdots & \\vdots & \\vdots \\\\\n",
    "                  v_{m1} & v_{m2} & \\cdots & v_{mn}\n",
    "                  \\end{bmatrix} \\in R^{m \\times n} $ and $\n",
    "          \\mathbf{x} = [x_1, x_2, \\cdots, x_m]^t \\in R^m$, \n",
    "    \n",
    "     $\\mathbf{x}^t\\mathbf{V} = \\mathbf{x}^t\\begin{bmatrix}\n",
    "    | & | & | & | \\\\\n",
    "    \\mathbf{v}_1 & \\mathbf{v}_2 & \\cdots & \\mathbf{v}_n \\\\\n",
    "    | & | & | & |\n",
    "    \\end{bmatrix}\n",
    "    = \\begin{bmatrix}\n",
    "    \\mathbf{x}^t \\bullet \\mathbf{v}_1 & \\mathbf{x}^t \\bullet \\mathbf{v}_2 & \\cdots &\n",
    "    \\mathbf{x}^t \\bullet \\mathbf{v}_n \n",
    "    \\end{bmatrix} \\in R^n$\n",
    "   \n",
    "    \n",
    "- Matrix-Matrix Products\n",
    "    \n",
    "    Given $\\mathbf{W} = \n",
    "                  \\begin{bmatrix}\n",
    "                  w_{11} & w_{12} & \\cdots & w_{1n} \\\\\n",
    "                  w_{21} & w_{22} & \\cdots & w_{2n} \\\\\n",
    "                  \\vdots & \\vdots & \\vdots & \\vdots \\\\\n",
    "                  w_{m1} & w_{m2} & \\cdots & w_{mn}\n",
    "                  \\end{bmatrix} \\in R^{m \\times n} $ and $\n",
    "          \\mathbf{V} = \n",
    "                  \\begin{bmatrix}\n",
    "                  v_{11} & v_{12} & \\cdots & v_{1k} \\\\\n",
    "                  v_{21} & v_{22} & \\cdots & v_{2k} \\\\\n",
    "                  \\vdots & \\vdots & \\vdots & \\vdots \\\\\n",
    "                  v_{n1} & v_{n2} & \\cdots & v_{nk}\n",
    "                  \\end{bmatrix} \\in R^{n \\times k} $, \n",
    "    \n",
    "    $\\mathbf{W}\\mathbf{V} = \\begin{bmatrix}\n",
    "    -- & \\mathbf{w}_1^t & -- \\\\\n",
    "    -- & \\mathbf{w}_2^t & -- \\\\\n",
    "    \\vdots & \\vdots & \\vdots \\\\\n",
    "    -- & \\mathbf{w}_m^t & -- \n",
    "    \\end{bmatrix}  \\begin{bmatrix}\n",
    "    | & | & | & | \\\\\n",
    "    \\mathbf{v}_1 & \\mathbf{v}_2 & \\cdots & \\mathbf{v}_k \\\\\n",
    "    | & | & | & |\n",
    "    \\end{bmatrix}\n",
    "    = \\begin{bmatrix}\n",
    "    \\mathbf{w}_1^t \\bullet \\mathbf{v}_1 & \\mathbf{w}_1^t \\bullet \\mathbf{v}_2 & \\cdots & \n",
    "       \\mathbf{w}_1^t \\bullet \\mathbf{v}_k \\\\\n",
    "    \\mathbf{w}_2^t \\bullet \\mathbf{v}_1 & \\mathbf{w}_2^t \\bullet \\mathbf{v}_2 & \\cdots & \n",
    "       \\mathbf{w}_2^t \\bullet \\mathbf{v}_k \\\\   \n",
    "    \\vdots & \\vdots & \\vdots & \\vdots \\\\\n",
    "    \\mathbf{w}_m^t \\bullet \\mathbf{v}_1 & \\mathbf{w}_m^t \\bullet \\mathbf{v}_2 & \\cdots & \n",
    "       \\mathbf{w}_m^t \\bullet \\mathbf{v}_k \\\\   \n",
    "    \\end{bmatrix} \\in R^{m \\times k}$\n",
    "    \n",
    "- Definitions\n",
    "    - Identity matrix -- a square matrix with ones on the diagonal and zeros elsewhere.\n",
    "    \n",
    "    $ \\mathbf{I} = \n",
    "                  \\begin{bmatrix}\n",
    "                  1 & 0 & \\cdots & 0 \\\\\n",
    "                  0 & 1 & \\cdots & 0 \\\\\n",
    "                  \\vdots & \\vdots & \\ddots & \\vdots \\\\\n",
    "                  0 & 0 & \\cdots & 1\n",
    "                  \\end{bmatrix} \\in R^{m \\times m} $                  \n",
    "                  \n",
    "    - Diagonal matrix -- a matrix where all non-diagonal elements are zeros.\n",
    "    \n",
    "    $ \\mathbf{D} = diag(d_1, d_2, \\cdots, d_m) = \n",
    "                  \\begin{bmatrix}\n",
    "                  d_1 & 0 & \\cdots & 0 \\\\\n",
    "                  0 & d_2 & \\cdots & 0 \\\\\n",
    "                  \\vdots & \\vdots & \\ddots & \\vdots \\\\\n",
    "                  0 & 0 & \\cdots & d_m\n",
    "                  \\end{bmatrix} \\in R^{m \\times n} $                  \n",
    "     \n",
    "    - Transpose -- a matrix that results from flipping the row and column of another matrix.\n",
    "    \n",
    "       Given $\\mathbf{W} = \n",
    "                  \\begin{bmatrix}\n",
    "                  w_{11} & w_{12} & \\cdots & w_{1n} \\\\\n",
    "                  w_{21} & w_{22} & \\cdots & w_{2n} \\\\\n",
    "                  \\vdots & \\vdots & \\vdots & \\vdots \\\\\n",
    "                  w_{m1} & w_{m2} & \\cdots & w_{mn}\n",
    "                  \\end{bmatrix} \\in R^{m \\times n} $, \n",
    "                  \n",
    "       $ \\mathbf{W}^t = \n",
    "                  \\begin{bmatrix}\n",
    "                  w_{11} & w_{21} & \\cdots & w_{m1} \\\\\n",
    "                  w_{12} & w_{22} & \\cdots & w_{m2} \\\\\n",
    "                  \\vdots & \\vdots & \\vdots & \\vdots \\\\\n",
    "                  w_{1n} & w_{2n} & \\cdots & w_{mn}\n",
    "                 \\end{bmatrix} \\in R^{n \\times m} $\n",
    "                            \n",
    "    - Inverse -- the inverse of a square matrix $\\mathbf{W}$, denoted by $\\mathbf{W}^{-1}$, is such that $\\mathbf{W}\\mathbf{W}^{-1}=\\mathbf{I}$.\n",
    "    \n",
    "    - Orghogonal matrix -- a square matrix of real numbers whose transpose and inverse are identical. \n",
    "    \n",
    "- SVD (Singular Value Decomposition)\n",
    "\n",
    "    It is a factorization of a matrix. \n",
    "\n",
    "    $\\mathbf{W}$ = $\\mathbf{U}\\mathbf{\\Sigma}\\mathbf{V}^t$, \n",
    "\n",
    "    where $\\mathbf{W} \\in R^{m \\times n}$, both the left singular-value vectors $\\mathbf{U} \\in R^{m \\times m}$ and the right singular-value vectors $\\mathbf{V} \\in R^{n \\times n}$ are orthogonal matrices, while $\\mathbf{\\Sigma} \\in R^{m \\times n}$ is a diagonal matrix with non-negative elements on the diagonal.          "
   ]
  },
  {
   "cell_type": "code",
   "execution_count": null,
   "metadata": {
    "scrolled": true
   },
   "outputs": [],
   "source": [
    "# identity matrix\n",
    "I = np.identity(3)\n",
    "I"
   ]
  },
  {
   "cell_type": "code",
   "execution_count": null,
   "metadata": {},
   "outputs": [],
   "source": [
    "# vector inner product\n",
    "a = np.arange(1, 4)\n",
    "b = np.arange(4, 7)\n",
    "print(a)\n",
    "print(b)\n",
    "np.dot(a, b)"
   ]
  },
  {
   "cell_type": "code",
   "execution_count": null,
   "metadata": {},
   "outputs": [],
   "source": [
    "# vector outer product\n",
    "np.outer(a, b)"
   ]
  },
  {
   "cell_type": "code",
   "execution_count": null,
   "metadata": {},
   "outputs": [],
   "source": [
    "# matrix-vector product; right multiply\n",
    "w = np.arange(12).reshape((3, 4))\n",
    "x = np.array([1, 2, 3, 4])\n",
    "np.dot(w, x)"
   ]
  },
  {
   "cell_type": "code",
   "execution_count": null,
   "metadata": {},
   "outputs": [],
   "source": [
    "# matrix-vector product; left multiply\n",
    "z = np.array([1, 2, 3])\n",
    "np.dot(z, w)"
   ]
  },
  {
   "cell_type": "code",
   "execution_count": null,
   "metadata": {},
   "outputs": [],
   "source": [
    "# matrix-matrix product\n",
    "v = np.arange(8).reshape((4, 2))\n",
    "np.dot(w, v)"
   ]
  },
  {
   "cell_type": "code",
   "execution_count": null,
   "metadata": {},
   "outputs": [],
   "source": [
    "# transpose\n",
    "w = np.arange(12).reshape(3, 4)\n",
    "x = np.array([[4], [2], [3]])\n",
    "np.dot(x.T, w)"
   ]
  },
  {
   "cell_type": "code",
   "execution_count": null,
   "metadata": {},
   "outputs": [],
   "source": [
    "# a square matrix's inverse\n",
    "from numpy.linalg import inv\n",
    "X = np.array([[1, 2], [4, 5]])\n",
    "print(X)\n",
    "inv(X)"
   ]
  },
  {
   "cell_type": "code",
   "execution_count": null,
   "metadata": {
    "scrolled": true
   },
   "outputs": [],
   "source": [
    "# SVD (singular value decomposition)\n",
    "from numpy.linalg import svd\n",
    "Z = np.array([[3, 2, 2], [2, 3, -2]])\n",
    "Y = svd(Z)    \n",
    "Y   # a tuple of arrays for U, diagonal elements in Sigma and V.T"
   ]
  },
  {
   "cell_type": "code",
   "execution_count": null,
   "metadata": {},
   "outputs": [],
   "source": [
    "# SVD verification\n",
    "U, D, Vt = Y\n",
    "print('Is U orthogonal?')\n",
    "print(U.T - inv(U))\n",
    "print('Is Vt orthogonal?')\n",
    "print(Vt.T - inv(Vt))\n",
    "print('Are left singular-value vectors orthonormal?')\n",
    "from numpy.linalg import norm\n",
    "print(norm(U, axis = 0))\n",
    "print('Are right singular-value vectors orthonormal?')\n",
    "print(norm(Vt, axis = 0))\n",
    "print('SVD?')\n",
    "Sigma = np.hstack((np.diagflat(D), np.zeros((2, 1))))\n",
    "print(Z - np.dot(np.dot(U,Sigma), Vt))"
   ]
  },
  {
   "cell_type": "markdown",
   "metadata": {},
   "source": [
    "## Random Numbers"
   ]
  },
  {
   "cell_type": "code",
   "execution_count": null,
   "metadata": {},
   "outputs": [],
   "source": [
    "# np.random.rand\n",
    "np.random.seed(12345)\n",
    "rx = np.random.rand(3, 4)   # uniform between 0 and 1\n",
    "rx"
   ]
  },
  {
   "cell_type": "code",
   "execution_count": null,
   "metadata": {},
   "outputs": [],
   "source": [
    "# np.random.randn\n",
    "ry = 2.5 * np.random.randn(3, 4) + 6   # normal with mean of 6 and stdev of 2.5\n",
    "ry"
   ]
  },
  {
   "cell_type": "markdown",
   "metadata": {},
   "source": [
    "## Vectorization"
   ]
  },
  {
   "cell_type": "code",
   "execution_count": null,
   "metadata": {},
   "outputs": [],
   "source": [
    "def compute_reciprocal(values):\n",
    "    output = np.empty_like(values)\n",
    "    for i in range(values.size):\n",
    "        output[i] = 1.0 / values[i];\n",
    "    return output\n",
    "\n",
    "values = np.random.randn(1000000)\n",
    "%timeit -n 10 compute_reciprocal(values)\n",
    "%timeit -n 10 1.0 / values "
   ]
  }
 ],
 "metadata": {
  "kernelspec": {
   "display_name": "Python 3",
   "language": "python",
   "name": "python3"
  },
  "language_info": {
   "codemirror_mode": {
    "name": "ipython",
    "version": 3
   },
   "file_extension": ".py",
   "mimetype": "text/x-python",
   "name": "python",
   "nbconvert_exporter": "python",
   "pygments_lexer": "ipython3",
   "version": "3.6.5"
  }
 },
 "nbformat": 4,
 "nbformat_minor": 2
}
