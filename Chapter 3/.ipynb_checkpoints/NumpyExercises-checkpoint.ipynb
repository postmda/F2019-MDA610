{
 "cells": [
  {
   "cell_type": "markdown",
   "metadata": {
    "collapsed": true
   },
   "source": [
    "### Numpy Exercises"
   ]
  },
  {
   "cell_type": "code",
   "execution_count": null,
   "metadata": {},
   "outputs": [],
   "source": [
    "import numpy as np"
   ]
  },
  {
   "cell_type": "code",
   "execution_count": null,
   "metadata": {},
   "outputs": [],
   "source": [
    "# 1-d or 2-d?\n",
    "x = np.array([1, 2, 3])\n",
    "print(x.ndim, x.shape)\n",
    "y = np.array([[1], [2], [3]])\n",
    "print(y.ndim, y.shape)"
   ]
  },
  {
   "cell_type": "code",
   "execution_count": null,
   "metadata": {},
   "outputs": [],
   "source": [
    "# reshape\n",
    "arr2d = np.arange(1, 7).reshape(2, 3)"
   ]
  },
  {
   "cell_type": "code",
   "execution_count": null,
   "metadata": {},
   "outputs": [],
   "source": [
    "# an arithmetic operation\n",
    "arr2d * arr2d"
   ]
  },
  {
   "cell_type": "code",
   "execution_count": null,
   "metadata": {},
   "outputs": [],
   "source": [
    "# basic indexing and slicing\n",
    "print(arr2d[1, 2])\n",
    "print(arr2d[1])\n",
    "print(arr2d[:, 1])\n",
    "print(arr2d[:1, 1:])"
   ]
  },
  {
   "cell_type": "code",
   "execution_count": null,
   "metadata": {},
   "outputs": [],
   "source": [
    "# a view or a copy?\n",
    "arr = np.arange(10)\n",
    "arr_slice = arr[5:8]\n",
    "arr_slice[:] = 12\n",
    "arr"
   ]
  },
  {
   "cell_type": "code",
   "execution_count": null,
   "metadata": {},
   "outputs": [],
   "source": [
    "# Boolean indexing\n",
    "arr2d = np.arange(12).reshape((3, 4))\n",
    "names = np.array(['Bob', 'Joe', 'Tom'])\n",
    "arr2d[names != 'Joe']"
   ]
  },
  {
   "cell_type": "code",
   "execution_count": null,
   "metadata": {},
   "outputs": [],
   "source": [
    "# fancy indexing\n",
    "print(arr2d[[2, 1, 0, 1]])\n",
    "row = np.arange(arr2d.shape[0])\n",
    "col = np.array([1, 2, 0])\n",
    "print(arr2d[row, col])"
   ]
  },
  {
   "cell_type": "code",
   "execution_count": null,
   "metadata": {},
   "outputs": [],
   "source": [
    "# ufuncs\n",
    "arr = np.arange(1, 11)\n",
    "(arr - np.mean(arr)) / np.std(arr)"
   ]
  },
  {
   "cell_type": "code",
   "execution_count": null,
   "metadata": {},
   "outputs": [],
   "source": [
    "# aggregation\n",
    "arr2d = np.arange(1, 7).reshape((2, 3))\n",
    "np.sum(arr2d, axis = 1)"
   ]
  },
  {
   "cell_type": "code",
   "execution_count": null,
   "metadata": {},
   "outputs": [],
   "source": [
    "# high dimensional\n",
    "arr3d = np.arange(24).reshape((2, 3, 4))\n",
    "np.sum(arr3d, axis = 1)"
   ]
  },
  {
   "cell_type": "code",
   "execution_count": null,
   "metadata": {},
   "outputs": [],
   "source": []
  }
 ],
 "metadata": {
  "kernelspec": {
   "display_name": "Python 3",
   "language": "python",
   "name": "python3"
  },
  "language_info": {
   "codemirror_mode": {
    "name": "ipython",
    "version": 3
   },
   "file_extension": ".py",
   "mimetype": "text/x-python",
   "name": "python",
   "nbconvert_exporter": "python",
   "pygments_lexer": "ipython3",
   "version": "3.6.5"
  }
 },
 "nbformat": 4,
 "nbformat_minor": 2
}
