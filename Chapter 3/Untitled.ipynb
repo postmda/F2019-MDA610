{
 "cells": [
  {
   "cell_type": "code",
   "execution_count": 1,
   "metadata": {},
   "outputs": [],
   "source": [
    "import numpy as np"
   ]
  },
  {
   "cell_type": "code",
   "execution_count": 2,
   "metadata": {},
   "outputs": [],
   "source": [
    "a = np.arange(5)\n",
    "b = np.arange(2, 7)"
   ]
  },
  {
   "cell_type": "code",
   "execution_count": 11,
   "metadata": {},
   "outputs": [
    {
     "ename": "TypeError",
     "evalue": "'ascending' is an invalid keyword argument for this function",
     "output_type": "error",
     "traceback": [
      "\u001b[1;31m---------------------------------------------------------------------------\u001b[0m",
      "\u001b[1;31mTypeError\u001b[0m                                 Traceback (most recent call last)",
      "\u001b[1;32m<ipython-input-11-b9732765e789>\u001b[0m in \u001b[0;36m<module>\u001b[1;34m()\u001b[0m\n\u001b[1;32m----> 1\u001b[1;33m \u001b[0ma\u001b[0m\u001b[1;33m.\u001b[0m\u001b[0msort\u001b[0m\u001b[1;33m(\u001b[0m\u001b[0mascending\u001b[0m \u001b[1;33m=\u001b[0m \u001b[1;32mFalse\u001b[0m\u001b[1;33m)\u001b[0m\u001b[1;33m\u001b[0m\u001b[0m\n\u001b[0m",
      "\u001b[1;31mTypeError\u001b[0m: 'ascending' is an invalid keyword argument for this function"
     ]
    }
   ],
   "source": [
    "a.sort(ascending = False)"
   ]
  },
  {
   "cell_type": "code",
   "execution_count": 7,
   "metadata": {},
   "outputs": [
    {
     "data": {
      "text/plain": [
       "array([ 2,  4,  6,  8, 10])"
      ]
     },
     "execution_count": 7,
     "metadata": {},
     "output_type": "execute_result"
    }
   ],
   "source": [
    "np.add(a, b)"
   ]
  },
  {
   "cell_type": "code",
   "execution_count": 10,
   "metadata": {},
   "outputs": [],
   "source": [
    "a = np.add(a, b)"
   ]
  },
  {
   "cell_type": "code",
   "execution_count": 12,
   "metadata": {},
   "outputs": [
    {
     "data": {
      "text/plain": [
       "230"
      ]
     },
     "execution_count": 12,
     "metadata": {},
     "output_type": "execute_result"
    }
   ],
   "source": [
    "a.dot(b)"
   ]
  },
  {
   "cell_type": "code",
   "execution_count": 13,
   "metadata": {},
   "outputs": [
    {
     "data": {
      "text/plain": [
       "array([ 4,  7, 10, 13, 16])"
      ]
     },
     "execution_count": 13,
     "metadata": {},
     "output_type": "execute_result"
    }
   ],
   "source": [
    "a\n"
   ]
  },
  {
   "cell_type": "code",
   "execution_count": 16,
   "metadata": {},
   "outputs": [
    {
     "data": {
      "text/plain": [
       "(array([[-0.70710678, -0.70710678],\n",
       "        [-0.70710678,  0.70710678]]),\n",
       " array([5., 3.]),\n",
       " array([[-7.07106781e-01, -7.07106781e-01, -5.55111512e-17],\n",
       "        [-2.35702260e-01,  2.35702260e-01, -9.42809042e-01],\n",
       "        [-6.66666667e-01,  6.66666667e-01,  3.33333333e-01]]))"
      ]
     },
     "execution_count": 16,
     "metadata": {},
     "output_type": "execute_result"
    }
   ],
   "source": [
    "# SVD (singular value decomposition)\n",
    "from numpy.linalg import svd\n",
    "from numpy.linalg import inv\n",
    "Z = np.array([[3, 2, 2], [2, 3, -2]])\n",
    "Y = svd(Z)    \n",
    "Y   # a tuple of arrays for U, diagonal elements in Sigma and V.T"
   ]
  },
  {
   "cell_type": "code",
   "execution_count": 17,
   "metadata": {},
   "outputs": [
    {
     "name": "stdout",
     "output_type": "stream",
     "text": [
      "Is U orthogonal?\n",
      "[[-5.55111512e-16 -1.11022302e-16]\n",
      " [-3.33066907e-16 -1.11022302e-16]]\n",
      "Is Vt orthogonal?\n",
      "[[-3.33066907e-16 -1.38777878e-16  0.00000000e+00]\n",
      " [-3.33066907e-16  2.77555756e-17  0.00000000e+00]\n",
      " [-5.55111512e-17 -2.22044605e-16 -5.55111512e-17]]\n",
      "Are left singular-value vectors orthonormal?\n",
      "[1. 1.]\n",
      "Are right singular-value vectors orthonormal?\n",
      "[1. 1. 1.]\n",
      "SVD?\n",
      "[[-8.88178420e-16 -8.88178420e-16 -4.44089210e-16]\n",
      " [-4.44089210e-16  0.00000000e+00 -6.66133815e-16]]\n"
     ]
    }
   ],
   "source": [
    "# SVD verification\n",
    "U, D, Vt = Y\n",
    "print('Is U orthogonal?')\n",
    "print(U.T - inv(U))\n",
    "print('Is Vt orthogonal?')\n",
    "print(Vt.T - inv(Vt))\n",
    "print('Are left singular-value vectors orthonormal?')\n",
    "from numpy.linalg import norm\n",
    "print(norm(U, axis = 0))\n",
    "print('Are right singular-value vectors orthonormal?')\n",
    "print(norm(Vt, axis = 0))\n",
    "print('SVD?')\n",
    "Sigma = np.hstack((np.diagflat(D), np.zeros((2, 1))))\n",
    "print(Z - np.dot(np.dot(U,Sigma), Vt))"
   ]
  },
  {
   "cell_type": "code",
   "execution_count": null,
   "metadata": {},
   "outputs": [],
   "source": []
  }
 ],
 "metadata": {
  "kernelspec": {
   "display_name": "Python 3",
   "language": "python",
   "name": "python3"
  },
  "language_info": {
   "codemirror_mode": {
    "name": "ipython",
    "version": 3
   },
   "file_extension": ".py",
   "mimetype": "text/x-python",
   "name": "python",
   "nbconvert_exporter": "python",
   "pygments_lexer": "ipython3",
   "version": "3.6.5"
  }
 },
 "nbformat": 4,
 "nbformat_minor": 2
}
