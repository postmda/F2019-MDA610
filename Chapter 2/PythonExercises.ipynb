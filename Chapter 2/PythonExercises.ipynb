{
 "cells": [
  {
   "cell_type": "code",
   "execution_count": null,
   "metadata": {},
   "outputs": [],
   "source": [
    "# division and floor division\n",
    "print(5/2)\n",
    "print(5//2)\n",
    "print(-5//2)"
   ]
  },
  {
   "cell_type": "code",
   "execution_count": null,
   "metadata": {},
   "outputs": [],
   "source": [
    "# // and %\n",
    "123 // 10 % 10"
   ]
  },
  {
   "cell_type": "code",
   "execution_count": 1,
   "metadata": {},
   "outputs": [
    {
     "name": "stdout",
     "output_type": "stream",
     "text": [
      "math.pi: Name \"math\" not found.\n",
      "pi: 3.141592653589793\n"
     ]
    }
   ],
   "source": [
    "# namespace\n",
    "from math import pi\n",
    "\n",
    "try:\n",
    "    print(\"math.pi:\", end = \" \")\n",
    "    print(math.pi)\n",
    "except NameError:\n",
    "    print('Name \"math\" not found.')\n",
    "\n",
    "try:\n",
    "    print(\"pi:\", end = \" \")\n",
    "    print(pi)\n",
    "except NameError:\n",
    "    print('Name \"pi\" not found.')"
   ]
  },
  {
   "cell_type": "code",
   "execution_count": null,
   "metadata": {},
   "outputs": [],
   "source": [
    "newvar = None\n",
    "newvar is None"
   ]
  },
  {
   "cell_type": "code",
   "execution_count": null,
   "metadata": {},
   "outputs": [],
   "source": [
    "# the \"in\" operator\n",
    "1 in [1, 2, 3]"
   ]
  },
  {
   "cell_type": "code",
   "execution_count": null,
   "metadata": {},
   "outputs": [],
   "source": [
    "# list slicing\n",
    "x = [1, 2, 3, 4, 5]\n",
    "print(x[:3])\n",
    "print(x[-2])\n",
    "print(x[-3:])\n",
    "print(x[1:-1])\n",
    "print(x[::2])"
   ]
  },
  {
   "cell_type": "code",
   "execution_count": null,
   "metadata": {},
   "outputs": [],
   "source": [
    "# dictionary\n",
    "grades = {'Joel': 80, 'Tim': 95}\n",
    "'Joel' in grades"
   ]
  },
  {
   "cell_type": "code",
   "execution_count": null,
   "metadata": {},
   "outputs": [],
   "source": [
    "# a ternary if-then-else\n",
    "x = 35\n",
    "parity = \"even\" if not x % 2 else \"odd\"  \n",
    "parity"
   ]
  },
  {
   "cell_type": "code",
   "execution_count": null,
   "metadata": {},
   "outputs": [],
   "source": [
    "# indentation: for Loop 1\n",
    "for x in range(10):\n",
    "    if x == 3:\n",
    "        continue\n",
    "    if x == 5:\n",
    "        break\n",
    "    print(x)"
   ]
  },
  {
   "cell_type": "code",
   "execution_count": null,
   "metadata": {},
   "outputs": [],
   "source": [
    "# indentation: for Loop 2\n",
    "for x in range(10):\n",
    "    if x == 3:\n",
    "        continue\n",
    "    if x == 5:\n",
    "        break\n",
    "print(x)"
   ]
  },
  {
   "cell_type": "code",
   "execution_count": null,
   "metadata": {},
   "outputs": [],
   "source": [
    "# comprehension\n",
    "pairs = [(x, y) for x in range(10) for y in range(5)]\n",
    "pairs"
   ]
  },
  {
   "cell_type": "code",
   "execution_count": null,
   "metadata": {},
   "outputs": [],
   "source": [
    "# a function is an object\n",
    "def doubler(f, x):\n",
    "    return 2 * f(x)\n",
    "\n",
    "def f1(x):\n",
    "    return(x + 1)\n",
    "\n",
    "doubler(f1, 5)"
   ]
  },
  {
   "cell_type": "code",
   "execution_count": null,
   "metadata": {},
   "outputs": [],
   "source": [
    "# *args and **kwargs\n",
    "def other_way_magic(x, y, z):\n",
    "    return x + y + z\n",
    "\n",
    "alist = [2, 4]\n",
    "adict = {\"z\": 6}\n",
    "other_way_magic(*alist, **adict)"
   ]
  }
 ],
 "metadata": {
  "kernelspec": {
   "display_name": "Python 3",
   "language": "python",
   "name": "python3"
  },
  "language_info": {
   "codemirror_mode": {
    "name": "ipython",
    "version": 3
   },
   "file_extension": ".py",
   "mimetype": "text/x-python",
   "name": "python",
   "nbconvert_exporter": "python",
   "pygments_lexer": "ipython3",
   "version": "3.6.5"
  }
 },
 "nbformat": 4,
 "nbformat_minor": 2
}
