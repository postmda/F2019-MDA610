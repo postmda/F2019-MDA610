{
 "cells": [
  {
   "cell_type": "markdown",
   "metadata": {},
   "source": [
    "# pandas: A Short Tutorial\n",
    "-  pandas contains data structures and data manupulation tools for fast and easy data cleaning and analysis. \n",
    "-  pandas is often used in tandem with Numpy, scikit-learn and matplotlib. \n",
    "-  pandas is designed for working with tabular or heterogeneous data, while Numpy is best suited for working with homegeneous numerical array data."
   ]
  },
  {
   "cell_type": "code",
   "execution_count": null,
   "metadata": {},
   "outputs": [],
   "source": [
    "# import pandas\n",
    "import pandas as pd\n",
    "from pandas import Series, DataFrame\n",
    "# import Numpy\n",
    "import numpy as np"
   ]
  },
  {
   "cell_type": "markdown",
   "metadata": {},
   "source": [
    "## pandas Data Structures"
   ]
  },
  {
   "cell_type": "markdown",
   "metadata": {},
   "source": [
    "### Series\n",
    "-  A Series is a one-dimensional array-like object containing a sequence of values and data labels (index).\n",
    "-  Attributes\n",
    "    - .index returns an *Index* object\n",
    "    - .values returns an ndarray"
   ]
  },
  {
   "cell_type": "code",
   "execution_count": null,
   "metadata": {},
   "outputs": [],
   "source": [
    "# a simple Series; a default index 0 to 3\n",
    "obj = Series([1, -2, 3, -4])\n",
    "obj"
   ]
  },
  {
   "cell_type": "code",
   "execution_count": null,
   "metadata": {
    "scrolled": true
   },
   "outputs": [],
   "source": [
    "# creating a Series with an index\n",
    "aobj = Series([1, -2, 3, -4], index = ['a', 'c', 'b', 'd'])\n",
    "aobj"
   ]
  },
  {
   "cell_type": "code",
   "execution_count": null,
   "metadata": {},
   "outputs": [],
   "source": [
    "# Index objects are immutable\n",
    "print(aobj.index)\n",
    "aobj.index[1:]"
   ]
  },
  {
   "cell_type": "code",
   "execution_count": null,
   "metadata": {},
   "outputs": [],
   "source": [
    "# similar to a dictionary\n",
    "'a' in aobj"
   ]
  },
  {
   "cell_type": "code",
   "execution_count": null,
   "metadata": {},
   "outputs": [],
   "source": [
    "# insert an object\n",
    "aobj['e'] = 5\n",
    "aobj"
   ]
  },
  {
   "cell_type": "code",
   "execution_count": null,
   "metadata": {},
   "outputs": [],
   "source": [
    "# delete an object\n",
    "del aobj['e']\n",
    "aobj"
   ]
  },
  {
   "cell_type": "code",
   "execution_count": null,
   "metadata": {
    "scrolled": true
   },
   "outputs": [],
   "source": [
    "# data retrieval by label\n",
    "print(aobj['c'])\n",
    "aobj[['a', 'b', 'c']]   # a list of indices"
   ]
  },
  {
   "cell_type": "code",
   "execution_count": null,
   "metadata": {},
   "outputs": [],
   "source": [
    "# slicing by label\n",
    "aobj['a':'b']     # the last label is inclusive!"
   ]
  },
  {
   "cell_type": "code",
   "execution_count": null,
   "metadata": {},
   "outputs": [],
   "source": [
    "# data retrieval by integer position\n",
    "print(aobj[1])\n",
    "# slicing\n",
    "aobj[:2]   # the last integer position is exclusive!"
   ]
  },
  {
   "cell_type": "code",
   "execution_count": null,
   "metadata": {},
   "outputs": [],
   "source": [
    "# revising index\n",
    "aobj.index = ['e', 'g', 'h', 'f']\n",
    "aobj"
   ]
  },
  {
   "cell_type": "code",
   "execution_count": null,
   "metadata": {},
   "outputs": [],
   "source": [
    "# .values attribute\n",
    "aobj.values    # a numpy 1-d array "
   ]
  },
  {
   "cell_type": "code",
   "execution_count": null,
   "metadata": {},
   "outputs": [],
   "source": [
    "# filtering\n",
    "aobj[aobj > 0]"
   ]
  },
  {
   "cell_type": "code",
   "execution_count": null,
   "metadata": {},
   "outputs": [],
   "source": [
    "# vectorization\n",
    "aobj * 2"
   ]
  },
  {
   "cell_type": "code",
   "execution_count": null,
   "metadata": {},
   "outputs": [],
   "source": [
    "# numpy universal function\n",
    "np.abs(aobj)"
   ]
  },
  {
   "cell_type": "code",
   "execution_count": null,
   "metadata": {},
   "outputs": [],
   "source": [
    "# converting a dictionary to a Serie\n",
    "sdict = {'Mike': 3.4, 'Mary': 3.8, 'David': 3.0, 'Jack': 2.75}\n",
    "sobj = Series(sdict)\n",
    "sobj"
   ]
  },
  {
   "cell_type": "code",
   "execution_count": null,
   "metadata": {},
   "outputs": [],
   "source": [
    "# NaN = missing values\n",
    "sobj2 = pd.Series(sdict, index = ['Alex', 'David', 'Jack', 'Mary'] )\n",
    "sobj2"
   ]
  },
  {
   "cell_type": "code",
   "execution_count": null,
   "metadata": {},
   "outputs": [],
   "source": [
    "# isnull() and notnull() detect missing values\n",
    "print(pd.isnull(sobj2))\n",
    "print(pd.notnull(sobj2))\n",
    "sobj2.isnull()"
   ]
  },
  {
   "cell_type": "code",
   "execution_count": null,
   "metadata": {},
   "outputs": [],
   "source": [
    "# data alignment \n",
    "(sobj + sobj2)/2"
   ]
  },
  {
   "cell_type": "code",
   "execution_count": null,
   "metadata": {},
   "outputs": [],
   "source": [
    "# .name property\n",
    "sobj.name = 'GPA'\n",
    "sobj.index.name = 'Student'\n",
    "sobj"
   ]
  },
  {
   "cell_type": "markdown",
   "metadata": {},
   "source": [
    "### DataFrame\n",
    "-  A DataFrame represents a (two-dimensional) table of data.\n",
    "-  The DataFrame has both a row and a column index.\n",
    "-  Attributes\n",
    "    - .index returns the row index\n",
    "    - .columns returns the column index\n",
    "    - .values returns the data as an ndarray"
   ]
  },
  {
   "cell_type": "code",
   "execution_count": null,
   "metadata": {},
   "outputs": [],
   "source": [
    "# creating a DataFrame from a dictionary\n",
    "adict = {'name': ['Mary', 'Betty', 'Jack', 'Scott', 'David', 'Lily'], 'gender': ['F',\n",
    "          'F', 'M', 'M', 'M', 'F'], 'gpa': [3.5, 3.1, 2.75, 3.8, 2.9, 2.5]}\n",
    "adf = DataFrame(adict)\n",
    "adf"
   ]
  },
  {
   "cell_type": "code",
   "execution_count": null,
   "metadata": {},
   "outputs": [],
   "source": [
    "# head and tail methods\n",
    "print(adf.head())\n",
    "adf.tail()"
   ]
  },
  {
   "cell_type": "code",
   "execution_count": null,
   "metadata": {},
   "outputs": [],
   "source": [
    "# NaN = missing values\n",
    "adf2 = DataFrame(adict, columns = ['name', 'gender', 'gpa', 'major'], \n",
    "                    index = ['S1', 'S2', 'S3', 'S4', 'S5', 'S6'])\n",
    "adf2"
   ]
  },
  {
   "cell_type": "code",
   "execution_count": null,
   "metadata": {
    "scrolled": true
   },
   "outputs": [],
   "source": [
    "# .columns and .index\n",
    "print(adf2.columns)\n",
    "adf2.index"
   ]
  },
  {
   "cell_type": "code",
   "execution_count": null,
   "metadata": {
    "scrolled": true
   },
   "outputs": [],
   "source": [
    "# a column retrieved as a Series\n",
    "print(adf2['gpa'])   # by dict-like notation\n",
    "adf2.gpa    # by attribute"
   ]
  },
  {
   "cell_type": "code",
   "execution_count": null,
   "metadata": {
    "scrolled": false
   },
   "outputs": [],
   "source": [
    "# multiple columns\n",
    "print(adf2[['name', 'gpa']])\n",
    "adf2[adf2.columns[1:3]]"
   ]
  },
  {
   "cell_type": "code",
   "execution_count": null,
   "metadata": {},
   "outputs": [],
   "source": [
    "# a row retrieved as Series by the loc attribute\n",
    "adf2.loc['S3']"
   ]
  },
  {
   "cell_type": "code",
   "execution_count": null,
   "metadata": {
    "scrolled": true
   },
   "outputs": [],
   "source": [
    "# multiple rows\n",
    "print(adf2.loc[['S1', 'S3']])\n",
    "print(adf2[1:3])\n",
    "(adf2['S1':'S3'])   # the last label is inclusive!"
   ]
  },
  {
   "cell_type": "code",
   "execution_count": null,
   "metadata": {
    "scrolled": true
   },
   "outputs": [],
   "source": [
    "# adding a column by assignment\n",
    "adf2['honor'] = adf2.gpa >= 3.5\n",
    "adf2"
   ]
  },
  {
   "cell_type": "code",
   "execution_count": null,
   "metadata": {
    "scrolled": true
   },
   "outputs": [],
   "source": [
    "# revising a column\n",
    "major = Series(['MGT', 'MGT', 'ACC', 'FIN', 'FIN', 'ACC'], \n",
    "                 index = ['S1', 'S3', 'S4', 'S6', 'S2', 'S5'])\n",
    "adf2['major'] = major\n",
    "adf2"
   ]
  },
  {
   "cell_type": "code",
   "execution_count": null,
   "metadata": {},
   "outputs": [],
   "source": [
    "# deleting columns\n",
    "del adf2['honor']\n",
    "adf2"
   ]
  },
  {
   "cell_type": "code",
   "execution_count": null,
   "metadata": {},
   "outputs": [],
   "source": [
    "# .values attribute returns data as a two-dimensional ndarray\n",
    "adf2.values"
   ]
  },
  {
   "cell_type": "markdown",
   "metadata": {},
   "source": [
    "## Interacting with Data"
   ]
  },
  {
   "cell_type": "markdown",
   "metadata": {},
   "source": [
    "### Indexing, Selection and Filtering\n",
    "- Indexing options\n",
    "    - df[val]  \n",
    "        - column label or labels: a single column or subset of columns; \n",
    "        - boolean array: selected rows;\n",
    "        - slicing: slicing rows\n",
    "    - df.loc[val] or df.iloc[where] \n",
    "        - a single row or subset of rows\n",
    "    - df.loc[:, val] or df.iloc[:, where] \n",
    "        - a single column or subset of columns\n",
    "    - df.loc[val_i, val_j] or df.iloc[where_i, where_j]  \n",
    "        - both rows and columns\n",
    "   \n",
    "   \n",
    " - .loc for labels and .iloc for integer positions"
   ]
  },
  {
   "cell_type": "code",
   "execution_count": null,
   "metadata": {
    "scrolled": true
   },
   "outputs": [],
   "source": [
    "# Series indexing similar to Numpy array indexing\n",
    "bobj = Series({val: key for key, val in enumerate('abcde')})\n",
    "print(bobj)\n",
    "bobj[1:3]"
   ]
  },
  {
   "cell_type": "code",
   "execution_count": null,
   "metadata": {},
   "outputs": [],
   "source": [
    "# Series indexing with index values\n",
    "bobj[['b', 'c', 'e']]"
   ]
  },
  {
   "cell_type": "code",
   "execution_count": null,
   "metadata": {
    "scrolled": false
   },
   "outputs": [],
   "source": [
    "# DataFrame indexing by column\n",
    "bdf = DataFrame({val: [key * m for m in range(4)] for key, val in enumerate('abcde')})\n",
    "print(bdf)\n",
    "bdf[['a', 'd']]"
   ]
  },
  {
   "cell_type": "code",
   "execution_count": null,
   "metadata": {
    "scrolled": true
   },
   "outputs": [],
   "source": [
    "# DataFrame indexing by row\n",
    "bdf[1:3]"
   ]
  },
  {
   "cell_type": "code",
   "execution_count": null,
   "metadata": {
    "scrolled": true
   },
   "outputs": [],
   "source": [
    "# DataFrame masking\n",
    "bdf[bdf < 5] = 5\n",
    "bdf"
   ]
  },
  {
   "cell_type": "code",
   "execution_count": null,
   "metadata": {},
   "outputs": [],
   "source": [
    "# selection both rows and columns with .loc\n",
    "bdf.loc[[1, 3], ['a', 'e']]"
   ]
  },
  {
   "cell_type": "code",
   "execution_count": null,
   "metadata": {
    "scrolled": true
   },
   "outputs": [],
   "source": [
    "# selection by integer position with .iloc\n",
    "bdf.iloc[[1,3], [2,4]]"
   ]
  },
  {
   "cell_type": "code",
   "execution_count": null,
   "metadata": {
    "scrolled": false
   },
   "outputs": [],
   "source": [
    "# slicing\n",
    "print(bdf.loc[:3, :'d'])    # the last label is inclusive\n",
    "bdf.iloc[:, :3][bdf.d < 6]    # the last integer position is exclusive"
   ]
  },
  {
   "cell_type": "code",
   "execution_count": null,
   "metadata": {
    "scrolled": false
   },
   "outputs": [],
   "source": [
    "# a single column or subset of columns\n",
    "print(bdf.loc[:, ['a', 'b']])\n",
    "bdf.iloc[:, 0:2]"
   ]
  },
  {
   "cell_type": "markdown",
   "metadata": {},
   "source": [
    "### Arithmetic Operations and Data Alignment\n",
    "- Arithmetics between objects with different indexes\n",
    "    - Index in the result will be the union of the index pairs.\n",
    "    - Missing values are introduced in the label locations that don't overlap.\n",
    "- Operations between DataFrame and Series are defined."
   ]
  },
  {
   "cell_type": "code",
   "execution_count": null,
   "metadata": {},
   "outputs": [],
   "source": [
    "# objects with different indexes\n",
    "df1 = DataFrame({'A': [1, 2], 'B': [3, 4]})\n",
    "df2 = DataFrame({'A': [5, 6]})\n",
    "print(df1)\n",
    "print(df2)\n",
    "df1 + df2    # NA values would be introduced"
   ]
  },
  {
   "cell_type": "code",
   "execution_count": null,
   "metadata": {
    "scrolled": true
   },
   "outputs": [],
   "source": [
    "# a filled value when an axis label is missing in an object\n",
    "df1.add(df2, fill_value = 0)"
   ]
  },
  {
   "cell_type": "markdown",
   "metadata": {},
   "source": [
    "### Function Applications\n",
    "- Numpy ufuncs also work with pandas objects.\n",
    "- apply()"
   ]
  },
  {
   "cell_type": "code",
   "execution_count": null,
   "metadata": {},
   "outputs": [],
   "source": [
    "cdf = DataFrame(np.random.randn(3, 4), columns = list('abcd'), \n",
    "                   index = list('ABC'))\n",
    "print(cdf)\n",
    "np.abs(cdf)"
   ]
  },
  {
   "cell_type": "code",
   "execution_count": null,
   "metadata": {},
   "outputs": [],
   "source": [
    "# apply() runs on each column be default\n",
    "print(cdf.apply(lambda x: x.max() - x.min()))\n",
    "# apply() runs on each row\n",
    "cdf.apply(lambda x: x.max() - x.min(), axis = 1)"
   ]
  },
  {
   "cell_type": "markdown",
   "metadata": {},
   "source": [
    "### Sorting and Ranking\n",
    "- sort_index()\n",
    "- sort_values()\n",
    "- rank()"
   ]
  },
  {
   "cell_type": "code",
   "execution_count": null,
   "metadata": {},
   "outputs": [],
   "source": [
    "# sorting by row index\n",
    "ddf = DataFrame(np.arange(12).reshape((3, 4)), columns = list('bdac'), \n",
    "                   index = list('BCA'))\n",
    "print(ddf)\n",
    "ddf.sort_index()"
   ]
  },
  {
   "cell_type": "code",
   "execution_count": null,
   "metadata": {},
   "outputs": [],
   "source": [
    "# sorting by column index\n",
    "ddf.sort_index(axis = 1)"
   ]
  },
  {
   "cell_type": "code",
   "execution_count": null,
   "metadata": {
    "scrolled": true
   },
   "outputs": [],
   "source": [
    "# sorting in descending order\n",
    "ddf.sort_index(ascending = False)"
   ]
  },
  {
   "cell_type": "code",
   "execution_count": null,
   "metadata": {},
   "outputs": [],
   "source": [
    "# sorting by a column\n",
    "ddf.sort_values(by = 'a')\n",
    "ddf"
   ]
  },
  {
   "cell_type": "code",
   "execution_count": null,
   "metadata": {},
   "outputs": [],
   "source": [
    "# sorting by multiple columns\n",
    "edf = ddf.copy()\n",
    "edf['d'] = 5\n",
    "print(edf)\n",
    "edf.sort_values(['d', 'b'], ascending = False)"
   ]
  },
  {
   "cell_type": "code",
   "execution_count": null,
   "metadata": {},
   "outputs": [],
   "source": [
    "# ranks assigned\n",
    "print(edf)\n",
    "edf.rank()    # from smallest to largest"
   ]
  },
  {
   "cell_type": "code",
   "execution_count": null,
   "metadata": {},
   "outputs": [],
   "source": [
    "edf.rank(method = 'max', ascending = False)   # tie-breaking method: highest rank"
   ]
  },
  {
   "cell_type": "markdown",
   "metadata": {},
   "source": [
    "## Descriptive Statistics"
   ]
  },
  {
   "cell_type": "code",
   "execution_count": null,
   "metadata": {},
   "outputs": [],
   "source": [
    "# summary statistics by column\n",
    "np.random.seed(12345)\n",
    "fdf = DataFrame(np.random.randn(4, 3), columns = list('abc'), \n",
    "                   index = list('ABCD'))\n",
    "print(fdf)\n",
    "print(fdf.sum())\n",
    "print(fdf.mean())\n",
    "print(fdf.max())\n",
    "print(fdf.idxmax())   # index"
   ]
  },
  {
   "cell_type": "code",
   "execution_count": null,
   "metadata": {},
   "outputs": [],
   "source": [
    "# summary statistics by row\n",
    "fdf.sum(axis = 1)"
   ]
  },
  {
   "cell_type": "code",
   "execution_count": null,
   "metadata": {
    "scrolled": true
   },
   "outputs": [],
   "source": [
    "# multiple summary statistics\n",
    "fdf.describe()"
   ]
  },
  {
   "cell_type": "code",
   "execution_count": null,
   "metadata": {},
   "outputs": [],
   "source": [
    "fdf.loc['A', 'c'] = 'NaN'\n",
    "print(fdf)\n",
    "fdf.sum()    # exclusing missing values"
   ]
  },
  {
   "cell_type": "code",
   "execution_count": null,
   "metadata": {},
   "outputs": [],
   "source": [
    "# correlation\n",
    "fdf.a.corr(fdf.b)"
   ]
  },
  {
   "cell_type": "code",
   "execution_count": null,
   "metadata": {},
   "outputs": [],
   "source": [
    "# unique values and value counts\n",
    "ser3 = Series(['a', 'b', 'a', 'c', 'b', 'a'])\n",
    "print(ser3.unique())\n",
    "ser3.value_counts()"
   ]
  },
  {
   "cell_type": "code",
   "execution_count": null,
   "metadata": {},
   "outputs": [],
   "source": [
    "# membership\n",
    "print(ser3.isin(['b', 'c']))\n",
    "ser3[ser3.isin(['b', 'c'])]"
   ]
  },
  {
   "cell_type": "code",
   "execution_count": null,
   "metadata": {},
   "outputs": [],
   "source": [
    "# frequency distribution by column\n",
    "gdf = DataFrame({'q1': [1, 3, 4, 5, 3], 'q2': [2, 2, 3, 5, 1], \n",
    "                    'q3': [3, 1, 2, 4, 1]})\n",
    "print(gdf)\n",
    "freq = gdf.apply(pd.value_counts).fillna(0)\n",
    "freq"
   ]
  },
  {
   "cell_type": "code",
   "execution_count": null,
   "metadata": {},
   "outputs": [],
   "source": [
    "# groupby\n",
    "gdf['q4'] = Series(list('abadb'))\n",
    "print(gdf)\n",
    "gdf.groupby('q4').max()"
   ]
  }
 ],
 "metadata": {
  "kernelspec": {
   "display_name": "Python 3",
   "language": "python",
   "name": "python3"
  },
  "language_info": {
   "codemirror_mode": {
    "name": "ipython",
    "version": 3
   },
   "file_extension": ".py",
   "mimetype": "text/x-python",
   "name": "python",
   "nbconvert_exporter": "python",
   "pygments_lexer": "ipython3",
   "version": "3.6.5"
  }
 },
 "nbformat": 4,
 "nbformat_minor": 2
}
