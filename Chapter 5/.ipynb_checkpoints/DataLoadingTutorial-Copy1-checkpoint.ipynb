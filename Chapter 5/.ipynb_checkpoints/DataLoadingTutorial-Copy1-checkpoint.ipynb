{
 "cells": [
  {
   "cell_type": "markdown",
   "metadata": {},
   "source": [
    "# Data Loading and Storage: A Tutorial"
   ]
  },
  {
   "cell_type": "code",
   "execution_count": null,
   "metadata": {},
   "outputs": [],
   "source": [
    "# import pandas\n",
    "import pandas as pd\n",
    "from pandas import Series, DataFrame"
   ]
  },
  {
   "cell_type": "markdown",
   "metadata": {},
   "source": [
    "## Reading and Writing Data\n",
    "\n",
    "- pandas features a number of functions for reading tabular data as a DataFrame object.\n",
    "    - read_csv\n",
    "    - read_excel\n",
    "    - read_json\n",
    "    - read_sql\n",
    "\n",
    "- DataFrame has methods to write data to a file.\n",
    "    - to_csv\n",
    "    - to_json"
   ]
  },
  {
   "cell_type": "markdown",
   "metadata": {},
   "source": [
    "### Reading Data in Text Format"
   ]
  },
  {
   "cell_type": "code",
   "execution_count": 2,
   "metadata": {},
   "outputs": [
    {
     "name": "stdout",
     "output_type": "stream",
     "text": [
      "Fname,Gender,Major,GPA\n",
      "Mike,M,FIN,3.4\n",
      "Mary,F,MGT,3.7\n",
      "Lily,F,MKT,3.2\n",
      "Steven,M,FIN,2.9\n",
      "Brian,M,MGT,3.1\n",
      "Abby,F,MKT,2.7\n",
      "Dylan,M,MGT,3.9\n"
     ]
    }
   ],
   "source": [
    "# a csv file\n",
    "!cat students.csv"
   ]
  },
  {
   "cell_type": "code",
   "execution_count": 3,
   "metadata": {},
   "outputs": [
    {
     "data": {
      "text/html": [
       "<div>\n",
       "<style scoped>\n",
       "    .dataframe tbody tr th:only-of-type {\n",
       "        vertical-align: middle;\n",
       "    }\n",
       "\n",
       "    .dataframe tbody tr th {\n",
       "        vertical-align: top;\n",
       "    }\n",
       "\n",
       "    .dataframe thead th {\n",
       "        text-align: right;\n",
       "    }\n",
       "</style>\n",
       "<table border=\"1\" class=\"dataframe\">\n",
       "  <thead>\n",
       "    <tr style=\"text-align: right;\">\n",
       "      <th></th>\n",
       "      <th>Fname</th>\n",
       "      <th>Gender</th>\n",
       "      <th>Major</th>\n",
       "      <th>GPA</th>\n",
       "    </tr>\n",
       "  </thead>\n",
       "  <tbody>\n",
       "    <tr>\n",
       "      <th>0</th>\n",
       "      <td>Mike</td>\n",
       "      <td>M</td>\n",
       "      <td>FIN</td>\n",
       "      <td>3.4</td>\n",
       "    </tr>\n",
       "    <tr>\n",
       "      <th>1</th>\n",
       "      <td>Mary</td>\n",
       "      <td>F</td>\n",
       "      <td>MGT</td>\n",
       "      <td>3.7</td>\n",
       "    </tr>\n",
       "    <tr>\n",
       "      <th>2</th>\n",
       "      <td>Lily</td>\n",
       "      <td>F</td>\n",
       "      <td>MKT</td>\n",
       "      <td>3.2</td>\n",
       "    </tr>\n",
       "    <tr>\n",
       "      <th>3</th>\n",
       "      <td>Steven</td>\n",
       "      <td>M</td>\n",
       "      <td>FIN</td>\n",
       "      <td>2.9</td>\n",
       "    </tr>\n",
       "    <tr>\n",
       "      <th>4</th>\n",
       "      <td>Brian</td>\n",
       "      <td>M</td>\n",
       "      <td>MGT</td>\n",
       "      <td>3.1</td>\n",
       "    </tr>\n",
       "    <tr>\n",
       "      <th>5</th>\n",
       "      <td>Abby</td>\n",
       "      <td>F</td>\n",
       "      <td>MKT</td>\n",
       "      <td>2.7</td>\n",
       "    </tr>\n",
       "    <tr>\n",
       "      <th>6</th>\n",
       "      <td>Dylan</td>\n",
       "      <td>M</td>\n",
       "      <td>MGT</td>\n",
       "      <td>3.9</td>\n",
       "    </tr>\n",
       "  </tbody>\n",
       "</table>\n",
       "</div>"
      ],
      "text/plain": [
       "    Fname Gender Major  GPA\n",
       "0    Mike      M   FIN  3.4\n",
       "1    Mary      F   MGT  3.7\n",
       "2    Lily      F   MKT  3.2\n",
       "3  Steven      M   FIN  2.9\n",
       "4   Brian      M   MGT  3.1\n",
       "5    Abby      F   MKT  2.7\n",
       "6   Dylan      M   MGT  3.9"
      ]
     },
     "execution_count": 3,
     "metadata": {},
     "output_type": "execute_result"
    }
   ],
   "source": [
    "# read a csv file\n",
    "df = pd.read_csv('students.csv')\n",
    "df"
   ]
  },
  {
   "cell_type": "code",
   "execution_count": 4,
   "metadata": {},
   "outputs": [
    {
     "data": {
      "text/html": [
       "<div>\n",
       "<style scoped>\n",
       "    .dataframe tbody tr th:only-of-type {\n",
       "        vertical-align: middle;\n",
       "    }\n",
       "\n",
       "    .dataframe tbody tr th {\n",
       "        vertical-align: top;\n",
       "    }\n",
       "\n",
       "    .dataframe thead th {\n",
       "        text-align: right;\n",
       "    }\n",
       "</style>\n",
       "<table border=\"1\" class=\"dataframe\">\n",
       "  <thead>\n",
       "    <tr style=\"text-align: right;\">\n",
       "      <th></th>\n",
       "      <th>Gender</th>\n",
       "      <th>Major</th>\n",
       "      <th>GPA</th>\n",
       "    </tr>\n",
       "    <tr>\n",
       "      <th>Fname</th>\n",
       "      <th></th>\n",
       "      <th></th>\n",
       "      <th></th>\n",
       "    </tr>\n",
       "  </thead>\n",
       "  <tbody>\n",
       "    <tr>\n",
       "      <th>Mike</th>\n",
       "      <td>M</td>\n",
       "      <td>FIN</td>\n",
       "      <td>3.4</td>\n",
       "    </tr>\n",
       "    <tr>\n",
       "      <th>Mary</th>\n",
       "      <td>F</td>\n",
       "      <td>MGT</td>\n",
       "      <td>3.7</td>\n",
       "    </tr>\n",
       "    <tr>\n",
       "      <th>Lily</th>\n",
       "      <td>F</td>\n",
       "      <td>MKT</td>\n",
       "      <td>3.2</td>\n",
       "    </tr>\n",
       "    <tr>\n",
       "      <th>Steven</th>\n",
       "      <td>M</td>\n",
       "      <td>FIN</td>\n",
       "      <td>2.9</td>\n",
       "    </tr>\n",
       "    <tr>\n",
       "      <th>Brian</th>\n",
       "      <td>M</td>\n",
       "      <td>MGT</td>\n",
       "      <td>3.1</td>\n",
       "    </tr>\n",
       "    <tr>\n",
       "      <th>Abby</th>\n",
       "      <td>F</td>\n",
       "      <td>MKT</td>\n",
       "      <td>2.7</td>\n",
       "    </tr>\n",
       "    <tr>\n",
       "      <th>Dylan</th>\n",
       "      <td>M</td>\n",
       "      <td>MGT</td>\n",
       "      <td>3.9</td>\n",
       "    </tr>\n",
       "  </tbody>\n",
       "</table>\n",
       "</div>"
      ],
      "text/plain": [
       "       Gender Major  GPA\n",
       "Fname                   \n",
       "Mike        M   FIN  3.4\n",
       "Mary        F   MGT  3.7\n",
       "Lily        F   MKT  3.2\n",
       "Steven      M   FIN  2.9\n",
       "Brian       M   MGT  3.1\n",
       "Abby        F   MKT  2.7\n",
       "Dylan       M   MGT  3.9"
      ]
     },
     "execution_count": 4,
     "metadata": {},
     "output_type": "execute_result"
    }
   ],
   "source": [
    "# specify the index\n",
    "df2 = pd.read_csv('students.csv', index_col = 'Fname')\n",
    "df2"
   ]
  },
  {
   "cell_type": "code",
   "execution_count": 5,
   "metadata": {
    "scrolled": true
   },
   "outputs": [
    {
     "name": "stdout",
     "output_type": "stream",
     "text": [
      "Mike,M,FIN,3.4\n",
      "Mary,F,MGT,3.7\n",
      "Lily,F,MKT,3.2\n",
      "Steven,M,FIN,2.9\n",
      "Brian,M,MGT,3.1\n",
      "Abby,F,MKT,2.7\n",
      "Dylan,M,MGT,3.9\n"
     ]
    }
   ],
   "source": [
    "# a csv file without a header row\n",
    "!cat students2.csv"
   ]
  },
  {
   "cell_type": "code",
   "execution_count": 6,
   "metadata": {
    "scrolled": true
   },
   "outputs": [
    {
     "data": {
      "text/html": [
       "<div>\n",
       "<style scoped>\n",
       "    .dataframe tbody tr th:only-of-type {\n",
       "        vertical-align: middle;\n",
       "    }\n",
       "\n",
       "    .dataframe tbody tr th {\n",
       "        vertical-align: top;\n",
       "    }\n",
       "\n",
       "    .dataframe thead th {\n",
       "        text-align: right;\n",
       "    }\n",
       "</style>\n",
       "<table border=\"1\" class=\"dataframe\">\n",
       "  <thead>\n",
       "    <tr style=\"text-align: right;\">\n",
       "      <th></th>\n",
       "      <th>0</th>\n",
       "      <th>1</th>\n",
       "      <th>2</th>\n",
       "      <th>3</th>\n",
       "    </tr>\n",
       "  </thead>\n",
       "  <tbody>\n",
       "    <tr>\n",
       "      <th>0</th>\n",
       "      <td>Mike</td>\n",
       "      <td>M</td>\n",
       "      <td>FIN</td>\n",
       "      <td>3.4</td>\n",
       "    </tr>\n",
       "    <tr>\n",
       "      <th>1</th>\n",
       "      <td>Mary</td>\n",
       "      <td>F</td>\n",
       "      <td>MGT</td>\n",
       "      <td>3.7</td>\n",
       "    </tr>\n",
       "    <tr>\n",
       "      <th>2</th>\n",
       "      <td>Lily</td>\n",
       "      <td>F</td>\n",
       "      <td>MKT</td>\n",
       "      <td>3.2</td>\n",
       "    </tr>\n",
       "    <tr>\n",
       "      <th>3</th>\n",
       "      <td>Steven</td>\n",
       "      <td>M</td>\n",
       "      <td>FIN</td>\n",
       "      <td>2.9</td>\n",
       "    </tr>\n",
       "    <tr>\n",
       "      <th>4</th>\n",
       "      <td>Brian</td>\n",
       "      <td>M</td>\n",
       "      <td>MGT</td>\n",
       "      <td>3.1</td>\n",
       "    </tr>\n",
       "    <tr>\n",
       "      <th>5</th>\n",
       "      <td>Abby</td>\n",
       "      <td>F</td>\n",
       "      <td>MKT</td>\n",
       "      <td>2.7</td>\n",
       "    </tr>\n",
       "    <tr>\n",
       "      <th>6</th>\n",
       "      <td>Dylan</td>\n",
       "      <td>M</td>\n",
       "      <td>MGT</td>\n",
       "      <td>3.9</td>\n",
       "    </tr>\n",
       "  </tbody>\n",
       "</table>\n",
       "</div>"
      ],
      "text/plain": [
       "        0  1    2    3\n",
       "0    Mike  M  FIN  3.4\n",
       "1    Mary  F  MGT  3.7\n",
       "2    Lily  F  MKT  3.2\n",
       "3  Steven  M  FIN  2.9\n",
       "4   Brian  M  MGT  3.1\n",
       "5    Abby  F  MKT  2.7\n",
       "6   Dylan  M  MGT  3.9"
      ]
     },
     "execution_count": 6,
     "metadata": {},
     "output_type": "execute_result"
    }
   ],
   "source": [
    "# pandas assigns default column names\n",
    "df3 = pd.read_csv('students2.csv', header = None)\n",
    "df3"
   ]
  },
  {
   "cell_type": "code",
   "execution_count": 7,
   "metadata": {
    "scrolled": true
   },
   "outputs": [
    {
     "data": {
      "text/html": [
       "<div>\n",
       "<style scoped>\n",
       "    .dataframe tbody tr th:only-of-type {\n",
       "        vertical-align: middle;\n",
       "    }\n",
       "\n",
       "    .dataframe tbody tr th {\n",
       "        vertical-align: top;\n",
       "    }\n",
       "\n",
       "    .dataframe thead th {\n",
       "        text-align: right;\n",
       "    }\n",
       "</style>\n",
       "<table border=\"1\" class=\"dataframe\">\n",
       "  <thead>\n",
       "    <tr style=\"text-align: right;\">\n",
       "      <th></th>\n",
       "      <th>Fname</th>\n",
       "      <th>Gender</th>\n",
       "      <th>Major</th>\n",
       "      <th>GPA</th>\n",
       "    </tr>\n",
       "  </thead>\n",
       "  <tbody>\n",
       "    <tr>\n",
       "      <th>0</th>\n",
       "      <td>Mike</td>\n",
       "      <td>M</td>\n",
       "      <td>FIN</td>\n",
       "      <td>3.4</td>\n",
       "    </tr>\n",
       "    <tr>\n",
       "      <th>1</th>\n",
       "      <td>Mary</td>\n",
       "      <td>F</td>\n",
       "      <td>MGT</td>\n",
       "      <td>3.7</td>\n",
       "    </tr>\n",
       "    <tr>\n",
       "      <th>2</th>\n",
       "      <td>Lily</td>\n",
       "      <td>F</td>\n",
       "      <td>MKT</td>\n",
       "      <td>3.2</td>\n",
       "    </tr>\n",
       "    <tr>\n",
       "      <th>3</th>\n",
       "      <td>Steven</td>\n",
       "      <td>M</td>\n",
       "      <td>FIN</td>\n",
       "      <td>2.9</td>\n",
       "    </tr>\n",
       "    <tr>\n",
       "      <th>4</th>\n",
       "      <td>Brian</td>\n",
       "      <td>M</td>\n",
       "      <td>MGT</td>\n",
       "      <td>3.1</td>\n",
       "    </tr>\n",
       "    <tr>\n",
       "      <th>5</th>\n",
       "      <td>Abby</td>\n",
       "      <td>F</td>\n",
       "      <td>MKT</td>\n",
       "      <td>2.7</td>\n",
       "    </tr>\n",
       "    <tr>\n",
       "      <th>6</th>\n",
       "      <td>Dylan</td>\n",
       "      <td>M</td>\n",
       "      <td>MGT</td>\n",
       "      <td>3.9</td>\n",
       "    </tr>\n",
       "  </tbody>\n",
       "</table>\n",
       "</div>"
      ],
      "text/plain": [
       "    Fname Gender Major  GPA\n",
       "0    Mike      M   FIN  3.4\n",
       "1    Mary      F   MGT  3.7\n",
       "2    Lily      F   MKT  3.2\n",
       "3  Steven      M   FIN  2.9\n",
       "4   Brian      M   MGT  3.1\n",
       "5    Abby      F   MKT  2.7\n",
       "6   Dylan      M   MGT  3.9"
      ]
     },
     "execution_count": 7,
     "metadata": {},
     "output_type": "execute_result"
    }
   ],
   "source": [
    "# specify column names\n",
    "df4 = pd.read_csv('students2.csv', names = ['Fname', 'Gender', 'Major', 'GPA'])\n",
    "df4"
   ]
  },
  {
   "cell_type": "code",
   "execution_count": 8,
   "metadata": {},
   "outputs": [
    {
     "name": "stdout",
     "output_type": "stream",
     "text": [
      "Fname Gender Major  GPA\n",
      "Mike M FIN  3.4\n",
      "Mary F MGT   3.7\n",
      "Lily F MKT  3.2\n",
      "Steven M FIN  2.9\n",
      "Brian M MGT  3.1\n",
      "Abby F MKT  2.7\n",
      "Dylan M MGT  3.9\n"
     ]
    }
   ],
   "source": [
    "# a text file where fields are separated by a variable amount of whitespace\n",
    "!cat students3.txt"
   ]
  },
  {
   "cell_type": "code",
   "execution_count": 9,
   "metadata": {},
   "outputs": [
    {
     "data": {
      "text/html": [
       "<div>\n",
       "<style scoped>\n",
       "    .dataframe tbody tr th:only-of-type {\n",
       "        vertical-align: middle;\n",
       "    }\n",
       "\n",
       "    .dataframe tbody tr th {\n",
       "        vertical-align: top;\n",
       "    }\n",
       "\n",
       "    .dataframe thead th {\n",
       "        text-align: right;\n",
       "    }\n",
       "</style>\n",
       "<table border=\"1\" class=\"dataframe\">\n",
       "  <thead>\n",
       "    <tr style=\"text-align: right;\">\n",
       "      <th></th>\n",
       "      <th>Fname</th>\n",
       "      <th>Gender</th>\n",
       "      <th>Major</th>\n",
       "      <th>GPA</th>\n",
       "    </tr>\n",
       "  </thead>\n",
       "  <tbody>\n",
       "    <tr>\n",
       "      <th>0</th>\n",
       "      <td>Mike</td>\n",
       "      <td>M</td>\n",
       "      <td>FIN</td>\n",
       "      <td>3.4</td>\n",
       "    </tr>\n",
       "    <tr>\n",
       "      <th>1</th>\n",
       "      <td>Mary</td>\n",
       "      <td>F</td>\n",
       "      <td>MGT</td>\n",
       "      <td>3.7</td>\n",
       "    </tr>\n",
       "    <tr>\n",
       "      <th>2</th>\n",
       "      <td>Lily</td>\n",
       "      <td>F</td>\n",
       "      <td>MKT</td>\n",
       "      <td>3.2</td>\n",
       "    </tr>\n",
       "    <tr>\n",
       "      <th>3</th>\n",
       "      <td>Steven</td>\n",
       "      <td>M</td>\n",
       "      <td>FIN</td>\n",
       "      <td>2.9</td>\n",
       "    </tr>\n",
       "    <tr>\n",
       "      <th>4</th>\n",
       "      <td>Brian</td>\n",
       "      <td>M</td>\n",
       "      <td>MGT</td>\n",
       "      <td>3.1</td>\n",
       "    </tr>\n",
       "    <tr>\n",
       "      <th>5</th>\n",
       "      <td>Abby</td>\n",
       "      <td>F</td>\n",
       "      <td>MKT</td>\n",
       "      <td>2.7</td>\n",
       "    </tr>\n",
       "    <tr>\n",
       "      <th>6</th>\n",
       "      <td>Dylan</td>\n",
       "      <td>M</td>\n",
       "      <td>MGT</td>\n",
       "      <td>3.9</td>\n",
       "    </tr>\n",
       "  </tbody>\n",
       "</table>\n",
       "</div>"
      ],
      "text/plain": [
       "    Fname Gender Major  GPA\n",
       "0    Mike      M   FIN  3.4\n",
       "1    Mary      F   MGT  3.7\n",
       "2    Lily      F   MKT  3.2\n",
       "3  Steven      M   FIN  2.9\n",
       "4   Brian      M   MGT  3.1\n",
       "5    Abby      F   MKT  2.7\n",
       "6   Dylan      M   MGT  3.9"
      ]
     },
     "execution_count": 9,
     "metadata": {},
     "output_type": "execute_result"
    }
   ],
   "source": [
    "# read the text file using a regular expression as a delimiter\n",
    "df5 = pd.read_csv('students3.txt', sep = '\\s+')\n",
    "df5"
   ]
  },
  {
   "cell_type": "code",
   "execution_count": 10,
   "metadata": {},
   "outputs": [
    {
     "name": "stdout",
     "output_type": "stream",
     "text": [
      "Fname,Gender,Major,GPA\n",
      "Mike,M,FIN,3.4\n",
      "Mary,F,,3.7\n",
      "Lily,F,MKT,NULL\n",
      "Steven,M,FIN,2.9\n",
      "Brian,M,MGT,3.1\n",
      "Abby,F,NA,2.7\n",
      "Dylan,M,MGT,3.9\n"
     ]
    }
   ],
   "source": [
    "# a csv file with missing values\n",
    "!cat students4.csv"
   ]
  },
  {
   "cell_type": "code",
   "execution_count": 11,
   "metadata": {
    "scrolled": true
   },
   "outputs": [
    {
     "data": {
      "text/html": [
       "<div>\n",
       "<style scoped>\n",
       "    .dataframe tbody tr th:only-of-type {\n",
       "        vertical-align: middle;\n",
       "    }\n",
       "\n",
       "    .dataframe tbody tr th {\n",
       "        vertical-align: top;\n",
       "    }\n",
       "\n",
       "    .dataframe thead th {\n",
       "        text-align: right;\n",
       "    }\n",
       "</style>\n",
       "<table border=\"1\" class=\"dataframe\">\n",
       "  <thead>\n",
       "    <tr style=\"text-align: right;\">\n",
       "      <th></th>\n",
       "      <th>Fname</th>\n",
       "      <th>Gender</th>\n",
       "      <th>Major</th>\n",
       "      <th>GPA</th>\n",
       "    </tr>\n",
       "  </thead>\n",
       "  <tbody>\n",
       "    <tr>\n",
       "      <th>0</th>\n",
       "      <td>Mike</td>\n",
       "      <td>M</td>\n",
       "      <td>FIN</td>\n",
       "      <td>3.4</td>\n",
       "    </tr>\n",
       "    <tr>\n",
       "      <th>1</th>\n",
       "      <td>Mary</td>\n",
       "      <td>F</td>\n",
       "      <td>NaN</td>\n",
       "      <td>3.7</td>\n",
       "    </tr>\n",
       "    <tr>\n",
       "      <th>2</th>\n",
       "      <td>Lily</td>\n",
       "      <td>F</td>\n",
       "      <td>MKT</td>\n",
       "      <td>NaN</td>\n",
       "    </tr>\n",
       "    <tr>\n",
       "      <th>3</th>\n",
       "      <td>Steven</td>\n",
       "      <td>M</td>\n",
       "      <td>FIN</td>\n",
       "      <td>2.9</td>\n",
       "    </tr>\n",
       "    <tr>\n",
       "      <th>4</th>\n",
       "      <td>Brian</td>\n",
       "      <td>M</td>\n",
       "      <td>MGT</td>\n",
       "      <td>3.1</td>\n",
       "    </tr>\n",
       "    <tr>\n",
       "      <th>5</th>\n",
       "      <td>Abby</td>\n",
       "      <td>F</td>\n",
       "      <td>NaN</td>\n",
       "      <td>2.7</td>\n",
       "    </tr>\n",
       "    <tr>\n",
       "      <th>6</th>\n",
       "      <td>Dylan</td>\n",
       "      <td>M</td>\n",
       "      <td>MGT</td>\n",
       "      <td>3.9</td>\n",
       "    </tr>\n",
       "  </tbody>\n",
       "</table>\n",
       "</div>"
      ],
      "text/plain": [
       "    Fname Gender Major  GPA\n",
       "0    Mike      M   FIN  3.4\n",
       "1    Mary      F   NaN  3.7\n",
       "2    Lily      F   MKT  NaN\n",
       "3  Steven      M   FIN  2.9\n",
       "4   Brian      M   MGT  3.1\n",
       "5    Abby      F   NaN  2.7\n",
       "6   Dylan      M   MGT  3.9"
      ]
     },
     "execution_count": 11,
     "metadata": {},
     "output_type": "execute_result"
    }
   ],
   "source": [
    "# read a file missing missing values\n",
    "df6 = pd.read_csv('students4.csv')\n",
    "df6"
   ]
  },
  {
   "cell_type": "markdown",
   "metadata": {},
   "source": [
    "### Writing Data to Text Format"
   ]
  },
  {
   "cell_type": "code",
   "execution_count": 12,
   "metadata": {},
   "outputs": [
    {
     "name": "stdout",
     "output_type": "stream",
     "text": [
      "Mike,M,FIN,3.4\n",
      "Mary,F,MGT,3.7\n",
      "Lily,F,MKT,3.2\n",
      "Steven,M,FIN,2.9\n",
      "Brian,M,MGT,3.1\n",
      "Abby,F,MKT,2.7\n",
      "Dylan,M,MGT,3.9\n"
     ]
    }
   ],
   "source": [
    "# write the data out to a csv file\n",
    "df7 = pd.read_csv('students.csv')\n",
    "# to_csv is a DataFrame's method\n",
    "df7.to_csv('out.csv', index = False, header = False)\n",
    "!cat out.csv"
   ]
  },
  {
   "cell_type": "code",
   "execution_count": 13,
   "metadata": {},
   "outputs": [
    {
     "name": "stdout",
     "output_type": "stream",
     "text": [
      "Fname,GPA\n",
      "Mike,3.4\n",
      "Mary,3.7\n",
      "Lily,3.2\n",
      "Steven,2.9\n",
      "Brian,3.1\n",
      "Abby,2.7\n",
      "Dylan,3.9\n"
     ]
    }
   ],
   "source": [
    "# write a subset of the columns\n",
    "df7.to_csv('out2.csv', index = False, columns = ['Fname', 'GPA'])\n",
    "!cat out2.csv"
   ]
  },
  {
   "cell_type": "markdown",
   "metadata": {},
   "source": [
    "### JSON Data\n",
    "\n",
    "- JSON has become one of the standard formats for sending data by HTTP request between web browsers and other applications.\n",
    "- JSON is close to valid Python code. \n",
    "- Basic types: objects (dicts), arrays (lists), strings, numbers, booleans, and nulls.\n",
    "- All of the keys in an JSON object must be strings. "
   ]
  },
  {
   "cell_type": "code",
   "execution_count": 14,
   "metadata": {},
   "outputs": [],
   "source": [
    "# a JSON string\n",
    "obj = \"\"\"\n",
    "[\n",
    "    {\n",
    "        \"Name\": \"Mike\",\n",
    "        \"Gender\": \"M\", \n",
    "        \"Major\": \"FIN\",\n",
    "        \"GPA\": 3.4\n",
    "    },\n",
    "    {\n",
    "        \"Name\": \"Mary\",\n",
    "        \"Gender\": \"F\", \n",
    "        \"Major\": \"MGT\",\n",
    "        \"GPA\": 3.7\n",
    "    },\n",
    "    {\n",
    "        \"Name\": \"Lily\",\n",
    "        \"Gender\": \"F\", \n",
    "        \"Major\": null,\n",
    "        \"GPA\": 3.2\n",
    "    }\n",
    "]\n",
    "\"\"\""
   ]
  },
  {
   "cell_type": "code",
   "execution_count": 15,
   "metadata": {},
   "outputs": [],
   "source": [
    "import json"
   ]
  },
  {
   "cell_type": "code",
   "execution_count": 16,
   "metadata": {},
   "outputs": [
    {
     "data": {
      "text/plain": [
       "[{'Name': 'Mike', 'Gender': 'M', 'Major': 'FIN', 'GPA': 3.4},\n",
       " {'Name': 'Mary', 'Gender': 'F', 'Major': 'MGT', 'GPA': 3.7},\n",
       " {'Name': 'Lily', 'Gender': 'F', 'Major': None, 'GPA': 3.2}]"
      ]
     },
     "execution_count": 16,
     "metadata": {},
     "output_type": "execute_result"
    }
   ],
   "source": [
    "# convert a JSON string to a Pyathon form\n",
    "lst = json.loads(obj)\n",
    "lst"
   ]
  },
  {
   "cell_type": "code",
   "execution_count": 17,
   "metadata": {},
   "outputs": [
    {
     "data": {
      "text/html": [
       "<div>\n",
       "<style scoped>\n",
       "    .dataframe tbody tr th:only-of-type {\n",
       "        vertical-align: middle;\n",
       "    }\n",
       "\n",
       "    .dataframe tbody tr th {\n",
       "        vertical-align: top;\n",
       "    }\n",
       "\n",
       "    .dataframe thead th {\n",
       "        text-align: right;\n",
       "    }\n",
       "</style>\n",
       "<table border=\"1\" class=\"dataframe\">\n",
       "  <thead>\n",
       "    <tr style=\"text-align: right;\">\n",
       "      <th></th>\n",
       "      <th>Name</th>\n",
       "      <th>Major</th>\n",
       "    </tr>\n",
       "  </thead>\n",
       "  <tbody>\n",
       "    <tr>\n",
       "      <th>0</th>\n",
       "      <td>Mike</td>\n",
       "      <td>FIN</td>\n",
       "    </tr>\n",
       "    <tr>\n",
       "      <th>1</th>\n",
       "      <td>Mary</td>\n",
       "      <td>MGT</td>\n",
       "    </tr>\n",
       "    <tr>\n",
       "      <th>2</th>\n",
       "      <td>Lily</td>\n",
       "      <td>None</td>\n",
       "    </tr>\n",
       "  </tbody>\n",
       "</table>\n",
       "</div>"
      ],
      "text/plain": [
       "   Name Major\n",
       "0  Mike   FIN\n",
       "1  Mary   MGT\n",
       "2  Lily  None"
      ]
     },
     "execution_count": 17,
     "metadata": {},
     "output_type": "execute_result"
    }
   ],
   "source": [
    "# convert a JSON object to a DataFrame\n",
    "df8 = pd.DataFrame(lst, columns = ['Name', 'Major'])\n",
    "df8"
   ]
  },
  {
   "cell_type": "code",
   "execution_count": 18,
   "metadata": {},
   "outputs": [
    {
     "name": "stdout",
     "output_type": "stream",
     "text": [
      "[{\"GPA\":3.4,\"Gender\":\"M\",\"Major\":\"FIN\",\"Name\":\"Mike\"},{\"GPA\":3.7,\"Gender\":\"F\",\"Major\":\"MGT\",\"Name\":\"Mary\"},{\"GPA\":3.2,\"Gender\":\"F\",\"Major\":null,\"Name\":\"Lily\"}]\n"
     ]
    }
   ],
   "source": [
    "# a JSON file\n",
    "!cat students5.json"
   ]
  },
  {
   "cell_type": "code",
   "execution_count": 19,
   "metadata": {},
   "outputs": [
    {
     "data": {
      "text/html": [
       "<div>\n",
       "<style scoped>\n",
       "    .dataframe tbody tr th:only-of-type {\n",
       "        vertical-align: middle;\n",
       "    }\n",
       "\n",
       "    .dataframe tbody tr th {\n",
       "        vertical-align: top;\n",
       "    }\n",
       "\n",
       "    .dataframe thead th {\n",
       "        text-align: right;\n",
       "    }\n",
       "</style>\n",
       "<table border=\"1\" class=\"dataframe\">\n",
       "  <thead>\n",
       "    <tr style=\"text-align: right;\">\n",
       "      <th></th>\n",
       "      <th>GPA</th>\n",
       "      <th>Gender</th>\n",
       "      <th>Major</th>\n",
       "      <th>Name</th>\n",
       "    </tr>\n",
       "  </thead>\n",
       "  <tbody>\n",
       "    <tr>\n",
       "      <th>0</th>\n",
       "      <td>3.4</td>\n",
       "      <td>M</td>\n",
       "      <td>FIN</td>\n",
       "      <td>Mike</td>\n",
       "    </tr>\n",
       "    <tr>\n",
       "      <th>1</th>\n",
       "      <td>3.7</td>\n",
       "      <td>F</td>\n",
       "      <td>MGT</td>\n",
       "      <td>Mary</td>\n",
       "    </tr>\n",
       "    <tr>\n",
       "      <th>2</th>\n",
       "      <td>3.2</td>\n",
       "      <td>F</td>\n",
       "      <td>None</td>\n",
       "      <td>Lily</td>\n",
       "    </tr>\n",
       "  </tbody>\n",
       "</table>\n",
       "</div>"
      ],
      "text/plain": [
       "   GPA Gender Major  Name\n",
       "0  3.4      M   FIN  Mike\n",
       "1  3.7      F   MGT  Mary\n",
       "2  3.2      F  None  Lily"
      ]
     },
     "execution_count": 19,
     "metadata": {},
     "output_type": "execute_result"
    }
   ],
   "source": [
    "# read a JSON file\n",
    "df9 = pd.read_json('students5.json')\n",
    "df9"
   ]
  },
  {
   "cell_type": "code",
   "execution_count": 20,
   "metadata": {},
   "outputs": [
    {
     "name": "stdout",
     "output_type": "stream",
     "text": [
      "[{\"GPA\":3.4,\"Gender\":\"M\",\"Major\":\"FIN\",\"Name\":\"Mike\"},{\"GPA\":3.7,\"Gender\":\"F\",\"Major\":\"MGT\",\"Name\":\"Mary\"},{\"GPA\":3.2,\"Gender\":\"F\",\"Major\":null,\"Name\":\"Lily\"}]\n"
     ]
    }
   ],
   "source": [
    "# write data to a JSON file\n",
    "df9.to_json('students6.json', orient = 'records')\n",
    "!cat students6.json"
   ]
  },
  {
   "cell_type": "code",
   "execution_count": 21,
   "metadata": {},
   "outputs": [
    {
     "data": {
      "text/plain": [
       "'[{\"GPA\": 3.4, \"Gender\": \"M\", \"Major\": \"FIN\", \"Name\": \"Mike\"}, {\"GPA\": 3.7, \"Gender\": \"F\", \"Major\": \"MGT\", \"Name\": \"Mary\"}, {\"GPA\": 3.2, \"Gender\": \"F\", \"Major\": null, \"Name\": \"Lily\"}]'"
      ]
     },
     "execution_count": 21,
     "metadata": {},
     "output_type": "execute_result"
    }
   ],
   "source": [
    "# convert a Python object back to JSON\n",
    "lst2 = df9.to_dict(orient = 'records')\n",
    "asjson = json.dumps(lst2)\n",
    "asjson"
   ]
  },
  {
   "cell_type": "markdown",
   "metadata": {},
   "source": [
    "## Web Scraping\n",
    "\n",
    "- Web scraping is the practice of automated gathering data from the internet.\n",
    "- This is accomplished by writing an antomated program that queries a web server, requests data, and then parses the data to extract needed information.\n",
    "- Web scraping process flow\n",
    "    - Retrieving HTML data -- **requests** library\n",
    "    - Parsing the data -- **BeautifulSoup** library and **re** module"
   ]
  },
  {
   "cell_type": "markdown",
   "metadata": {},
   "source": [
    "### Connecting to Retrieve Data"
   ]
  },
  {
   "cell_type": "code",
   "execution_count": 22,
   "metadata": {},
   "outputs": [],
   "source": [
    "import requests"
   ]
  },
  {
   "cell_type": "code",
   "execution_count": 45,
   "metadata": {
    "scrolled": false
   },
   "outputs": [
    {
     "name": "stdout",
     "output_type": "stream",
     "text": [
      "200\n"
     ]
    }
   ],
   "source": [
    "html = requests.get('http://postmda.github.io/MDA610/Pages/HTMLIntro.html')\n",
    "# a status code of 200 indicates that the page was downloaded successfully\n",
    "print(html.status_code)"
   ]
  },
  {
   "cell_type": "code",
   "execution_count": 24,
   "metadata": {},
   "outputs": [
    {
     "name": "stdout",
     "output_type": "stream",
     "text": [
      "b\"<!DOCTYPE html>\\n<html>\\n<head>\\n\\t<title>A Simple Page</title>\\n\\t<style>\\n\\t\\tbody {\\n\\t\\t\\tbackground-color: linen;\\n\\t\\t}\\n\\t\\th1 {\\n\\t\\t\\tcolor: blue;\\n\\t\\t\\ttext-align: center;\\n\\t\\t}\\n\\t\\th2 {\\n\\t\\t\\tcolor: green;\\n\\t\\t}\\n\\t\\t#first {\\n\\t\\t\\tcolor: brown;\\n\\t\\t}\\n\\t\\t.tag {\\n\\t\\t\\tcolor: red;\\n\\t\\t\\tbackground-color: yellow;\\n\\t\\t}\\n\\t\\t.attr {\\n\\t\\t\\tcolor: purple;\\n\\t\\t\\tbackground-color: grey;\\n\\t\\t}\\n\\t</style>\\n</head>\\n<body>\\n\\t<h1>HTML Introduction</h1>\\n\\t\\t<h2>HTML Documents</h2>\\n\\t\\t\\t<p>\\n\\t\\t\\t\\tAll HTML documents start with a document type declaration &lt;!DOCTYPE html&gt;. An HTML document is enclosed by &lt;html&gt; and &lt;/html&gt;. The head element, denoted by &lt;head&gt; and &lt;/head&gt;, contains the metadata, which may include the title for the document. The visible part of an HTML document is between &lt;body&gt; and &lt;/body&gt;. \\n\\t\\t\\t</p>\\n\\t\\t<h2>Basic Elements of an HTML Page</h2>\\n\\t\\t\\t<div>\\n\\t\\t\\t\\t<p id='first' class='text first'>\\n\\t\\t\\t\\t\\tAn HTML element is a component of an HTML document. Most HTML elements are written within an opening tag and a closing tag with content in between. <img src='tag.png' alt='a tag demo'>\\n\\t\\t\\t\\t</p>\\n\\t\\t\\t\\t<p id='second' class='text second'>\\n\\t\\t\\t\\t\\tThe basic elements include:\\n\\t\\t\\t\\t</p>\\n\\t\\t\\t\\t<ul>\\n\\t\\t\\t\\t\\t<li>\\n\\t\\t\\t\\t\\t\\tText headers, denoted by tags <span class=tag>h1</span>, <span class=tag>h2</span>, \\n\\t\\t\\t\\t\\t\\t<span class=tag>h3</span>, <span class=tag>h4</span>, \\n\\t\\t\\t\\t\\t\\t<span class=tag>h5</span>, and <span class=tag>h6</span>\\n\\t\\t\\t\\t\\t</li>\\n\\t\\t\\t\\t\\t<li>\\n\\t\\t\\t\\t\\t\\tParagraphs, denoted by the <span id='p_tag' class=tag>p</span> tag\\n\\t\\t\\t\\t\\t</li>\\n\\t\\t\\t\\t\\t<li>\\n\\t\\t\\t\\t\\t\\tLinks, denoted by the <span id='a_tag' class=tag>a</span> tag\\n\\t\\t\\t\\t\\t</li>\\n\\t\\t\\t\\t\\t<li>\\n\\t\\t\\t\\t\\t\\tImages, denoted by the <span id='img_tag' class=tag>img</span> tag\\n\\t\\t\\t\\t\\t</li>\\n\\t\\t\\t\\t\\t<li>\\n\\t\\t\\t\\t\\t\\tDividers, denoted by the <span id='div_tag' class=tag>div</span> tag\\n\\t\\t\\t\\t\\t</li>\\n\\t\\t\\t\\t\\t<li>\\n\\t\\t\\t\\t\\t\\tText spans, denoted by the <span id='span_tag' class=tag>span</span> tag\\n\\t\\t\\t\\t\\t</li>\\n\\t\\t\\t\\t</ul>\\n\\t\\t\\t</div>\\n\\t\\t\\t<div>\\n\\t\\t\\t\\t<p id='third' class='text third'>\\n\\t\\t\\t\\t\\tElements can also contain attributes that define additional properties. The most common attributes are:\\n\\t\\t\\t\\t</p>\\n\\t\\t\\t\\t<ul>\\n\\t\\t\\t\\t\\t<li>\\n\\t\\t\\t\\t\\t\\t<span class=attr>id</span> - the unique id of an element in a page\\n\\t\\t\\t\\t\\t</li>\\n\\t\\t\\t\\t\\t<li>\\n\\t\\t\\t\\t\\t\\t<span class=attr>class</span> - the CSS class of an element\\n\\t\\t\\t\\t\\t</li>\\n\\t\\t\\t\\t</ul>\\n\\t\\t\\t</div>\\n\\t\\t<h2>Internal CSS</h2>\\n\\t\\t\\t<p>\\n\\t\\t\\t\\tInternal CSS styles are defined within the &lt;style&gt; element inside the &lt;head&gt; section. A CSS-rule set consists of a selector and a declaration block. <img src='cssrule.png' alt='a css rule set demo'>\\n\\t\\t\\t</p>\\n\\t\\t\\t<p>\\n\\t\\t\\t\\tA selector finds the HTML elements you would like to style. The <b>element</b> selector selects HTML elements by name, such as <span class=tag>p</span>, <span class=tag>h1</span>, or <span class=tag>li</span>. The <b>id</b> selector and the <b>class</b> selector use, respectively, the <span class=attr>id</span> atrribute and the <span class=attr>class</span> attribute to select an element. An <b>id</b> selector precedes an id of the element with a hash (#) character. To select elements of a specific class, write a period (.) character, followed by the class name. \\n\\t\\t\\t</p>\\n</body>\\n</html>\\n\\n\\n\\n\"\n"
     ]
    }
   ],
   "source": [
    "# print out the content of the page\n",
    "print(html.content)"
   ]
  },
  {
   "cell_type": "markdown",
   "metadata": {},
   "source": [
    "### Parsing HTML Data\n",
    "\n",
    "- BeautifulSoup objects\n",
    "- Tag objects\n",
    "    - bs.*tagName* returns the first instance of the tag.\n",
    "    - bs.*find(tagName, tagAttributes)* returns the first instance of the tag with specified attribute values.\n",
    "    - bs.*find_all(tagName, tagAttributes)* returns a list of the tags.\n",
    "- NavigableString objects\n",
    "    - tag.*get_text()* returns the text within the tag."
   ]
  },
  {
   "cell_type": "code",
   "execution_count": 25,
   "metadata": {},
   "outputs": [],
   "source": [
    "from bs4 import BeautifulSoup"
   ]
  },
  {
   "cell_type": "code",
   "execution_count": 26,
   "metadata": {},
   "outputs": [],
   "source": [
    "# transform HTML into a BeautifulSoup object\n",
    "bs = BeautifulSoup(html.content, 'html.parser')"
   ]
  },
  {
   "cell_type": "code",
   "execution_count": 27,
   "metadata": {},
   "outputs": [
    {
     "name": "stdout",
     "output_type": "stream",
     "text": [
      "<!DOCTYPE html>\n",
      "<html>\n",
      " <head>\n",
      "  <title>\n",
      "   A Simple Page\n",
      "  </title>\n",
      "  <style>\n",
      "   body {\n",
      "\t\t\tbackground-color: linen;\n",
      "\t\t}\n",
      "\t\th1 {\n",
      "\t\t\tcolor: blue;\n",
      "\t\t\ttext-align: center;\n",
      "\t\t}\n",
      "\t\th2 {\n",
      "\t\t\tcolor: green;\n",
      "\t\t}\n",
      "\t\t#first {\n",
      "\t\t\tcolor: brown;\n",
      "\t\t}\n",
      "\t\t.tag {\n",
      "\t\t\tcolor: red;\n",
      "\t\t\tbackground-color: yellow;\n",
      "\t\t}\n",
      "\t\t.attr {\n",
      "\t\t\tcolor: purple;\n",
      "\t\t\tbackground-color: grey;\n",
      "\t\t}\n",
      "  </style>\n",
      " </head>\n",
      " <body>\n",
      "  <h1>\n",
      "   HTML Introduction\n",
      "  </h1>\n",
      "  <h2>\n",
      "   HTML Documents\n",
      "  </h2>\n",
      "  <p>\n",
      "   All HTML documents start with a document type declaration &lt;!DOCTYPE html&gt;. An HTML document is enclosed by &lt;html&gt; and &lt;/html&gt;. The head element, denoted by &lt;head&gt; and &lt;/head&gt;, contains the metadata, which may include the title for the document. The visible part of an HTML document is between &lt;body&gt; and &lt;/body&gt;.\n",
      "  </p>\n",
      "  <h2>\n",
      "   Basic Elements of an HTML Page\n",
      "  </h2>\n",
      "  <div>\n",
      "   <p class=\"text first\" id=\"first\">\n",
      "    An HTML element is a component of an HTML document. Most HTML elements are written within an opening tag and a closing tag with content in between.\n",
      "    <img alt=\"a tag demo\" src=\"tag.png\"/>\n",
      "   </p>\n",
      "   <p class=\"text second\" id=\"second\">\n",
      "    The basic elements include:\n",
      "   </p>\n",
      "   <ul>\n",
      "    <li>\n",
      "     Text headers, denoted by tags\n",
      "     <span class=\"tag\">\n",
      "      h1\n",
      "     </span>\n",
      "     ,\n",
      "     <span class=\"tag\">\n",
      "      h2\n",
      "     </span>\n",
      "     ,\n",
      "     <span class=\"tag\">\n",
      "      h3\n",
      "     </span>\n",
      "     ,\n",
      "     <span class=\"tag\">\n",
      "      h4\n",
      "     </span>\n",
      "     ,\n",
      "     <span class=\"tag\">\n",
      "      h5\n",
      "     </span>\n",
      "     , and\n",
      "     <span class=\"tag\">\n",
      "      h6\n",
      "     </span>\n",
      "    </li>\n",
      "    <li>\n",
      "     Paragraphs, denoted by the\n",
      "     <span class=\"tag\" id=\"p_tag\">\n",
      "      p\n",
      "     </span>\n",
      "     tag\n",
      "    </li>\n",
      "    <li>\n",
      "     Links, denoted by the\n",
      "     <span class=\"tag\" id=\"a_tag\">\n",
      "      a\n",
      "     </span>\n",
      "     tag\n",
      "    </li>\n",
      "    <li>\n",
      "     Images, denoted by the\n",
      "     <span class=\"tag\" id=\"img_tag\">\n",
      "      img\n",
      "     </span>\n",
      "     tag\n",
      "    </li>\n",
      "    <li>\n",
      "     Dividers, denoted by the\n",
      "     <span class=\"tag\" id=\"div_tag\">\n",
      "      div\n",
      "     </span>\n",
      "     tag\n",
      "    </li>\n",
      "    <li>\n",
      "     Text spans, denoted by the\n",
      "     <span class=\"tag\" id=\"span_tag\">\n",
      "      span\n",
      "     </span>\n",
      "     tag\n",
      "    </li>\n",
      "   </ul>\n",
      "  </div>\n",
      "  <div>\n",
      "   <p class=\"text third\" id=\"third\">\n",
      "    Elements can also contain attributes that define additional properties. The most common attributes are:\n",
      "   </p>\n",
      "   <ul>\n",
      "    <li>\n",
      "     <span class=\"attr\">\n",
      "      id\n",
      "     </span>\n",
      "     - the unique id of an element in a page\n",
      "    </li>\n",
      "    <li>\n",
      "     <span class=\"attr\">\n",
      "      class\n",
      "     </span>\n",
      "     - the CSS class of an element\n",
      "    </li>\n",
      "   </ul>\n",
      "  </div>\n",
      "  <h2>\n",
      "   Internal CSS\n",
      "  </h2>\n",
      "  <p>\n",
      "   Internal CSS styles are defined within the &lt;style&gt; element inside the &lt;head&gt; section. A CSS-rule set consists of a selector and a declaration block.\n",
      "   <img alt=\"a css rule set demo\" src=\"cssrule.png\"/>\n",
      "  </p>\n",
      "  <p>\n",
      "   A selector finds the HTML elements you would like to style. The\n",
      "   <b>\n",
      "    element\n",
      "   </b>\n",
      "   selector selects HTML elements by name, such as\n",
      "   <span class=\"tag\">\n",
      "    p\n",
      "   </span>\n",
      "   ,\n",
      "   <span class=\"tag\">\n",
      "    h1\n",
      "   </span>\n",
      "   , or\n",
      "   <span class=\"tag\">\n",
      "    li\n",
      "   </span>\n",
      "   . The\n",
      "   <b>\n",
      "    id\n",
      "   </b>\n",
      "   selector and the\n",
      "   <b>\n",
      "    class\n",
      "   </b>\n",
      "   selector use, respectively, the\n",
      "   <span class=\"attr\">\n",
      "    id\n",
      "   </span>\n",
      "   atrribute and the\n",
      "   <span class=\"attr\">\n",
      "    class\n",
      "   </span>\n",
      "   attribute to select an element. An\n",
      "   <b>\n",
      "    id\n",
      "   </b>\n",
      "   selector precedes an id of the element with a hash (#) character. To select elements of a specific class, write a period (.) character, followed by the class name.\n",
      "  </p>\n",
      " </body>\n",
      "</html>\n",
      "\n"
     ]
    }
   ],
   "source": [
    "# print out the content of the page with a nice format\n",
    "print(bs.prettify())"
   ]
  },
  {
   "cell_type": "code",
   "execution_count": 28,
   "metadata": {},
   "outputs": [
    {
     "name": "stdout",
     "output_type": "stream",
     "text": [
      "<title>A Simple Page</title>\n"
     ]
    }
   ],
   "source": [
    "# print out the title element\n",
    "print(bs.title)"
   ]
  },
  {
   "cell_type": "code",
   "execution_count": 29,
   "metadata": {},
   "outputs": [
    {
     "name": "stdout",
     "output_type": "stream",
     "text": [
      "\n",
      "\t\t\t\tAll HTML documents start with a document type declaration <!DOCTYPE html>. An HTML document is enclosed by <html> and </html>. The head element, denoted by <head> and </head>, contains the metadata, which may include the title for the document. The visible part of an HTML document is between <body> and </body>. \n",
      "\t\t\t\n"
     ]
    }
   ],
   "source": [
    "# print out the first paragraph\n",
    "print(bs.p.get_text())"
   ]
  },
  {
   "cell_type": "code",
   "execution_count": 30,
   "metadata": {},
   "outputs": [
    {
     "name": "stdout",
     "output_type": "stream",
     "text": [
      "<span class=\"attr\">id</span>\n"
     ]
    }
   ],
   "source": [
    "# print out the first span element with class=attr\n",
    "print(bs.find('span', {'class': 'attr'}))"
   ]
  },
  {
   "cell_type": "code",
   "execution_count": 31,
   "metadata": {},
   "outputs": [
    {
     "name": "stdout",
     "output_type": "stream",
     "text": [
      "[<span class=\"attr\">id</span>, <span class=\"attr\">class</span>, <span class=\"attr\">id</span>, <span class=\"attr\">class</span>]\n",
      "id\n",
      "class\n",
      "id\n",
      "class\n"
     ]
    }
   ],
   "source": [
    "# find all instances of the 'span' tag with class=attr\n",
    "stag = bs.find_all('span', {'class': 'attr'})\n",
    "print(stag)\n",
    "for sp in stag:\n",
    "    print(sp.get_text())"
   ]
  },
  {
   "cell_type": "code",
   "execution_count": 32,
   "metadata": {},
   "outputs": [
    {
     "name": "stdout",
     "output_type": "stream",
     "text": [
      "\n",
      "\t\t\t\t\tAn HTML element is a component of an HTML document. Most HTML elements are written within an opening tag and a closing tag with content in between. \n",
      "\n",
      "\n",
      "\t\t\t\t\tThe basic elements include:\n",
      "\t\t\t\t\n",
      "\n",
      "\t\t\t\t\tElements can also contain attributes that define additional properties. The most common attributes are:\n",
      "\t\t\t\t\n"
     ]
    }
   ],
   "source": [
    "# find all instances with the class attribute containing 'text'\n",
    "pars = bs.find_all(class_='text')\n",
    "for element in pars:\n",
    "    print(element.get_text())"
   ]
  },
  {
   "cell_type": "code",
   "execution_count": 53,
   "metadata": {},
   "outputs": [
    {
     "data": {
      "text/plain": [
       "'\\n\\t\\t\\t\\t\\tAn HTML element is a component of an HTML document. Most HTML elements are written within an opening tag and a closing tag with content in between. \\n'"
      ]
     },
     "execution_count": 53,
     "metadata": {},
     "output_type": "execute_result"
    }
   ],
   "source": [
    "# find an element by id\n",
    "bs.find(id = 'first').get_text()"
   ]
  },
  {
   "cell_type": "markdown",
   "metadata": {},
   "source": [
    "### Navigating Trees\n",
    "\n",
    "- Tree navigation finds a tag based on its location in a document. \n",
    "- BeautifulSoup functions always deal with the descendants of the current tag selected.\n",
    "- tag.*children* returns the elements one level below a parent. \n",
    "- *next_sibling, *next_siblings*, *previous_sibling*, and *previous_siblings* can be applied to access the elements at the same level. "
   ]
  },
  {
   "cell_type": "code",
   "execution_count": 44,
   "metadata": {},
   "outputs": [
    {
     "data": {
      "text/plain": [
       "[<span class=\"tag\">h1</span>,\n",
       " <span class=\"tag\">h2</span>,\n",
       " <span class=\"tag\">h3</span>,\n",
       " <span class=\"tag\">h4</span>,\n",
       " <span class=\"tag\">h5</span>,\n",
       " <span class=\"tag\">h6</span>,\n",
       " <span class=\"tag\" id=\"p_tag\">p</span>,\n",
       " <span class=\"tag\" id=\"a_tag\">a</span>,\n",
       " <span class=\"tag\" id=\"img_tag\">img</span>,\n",
       " <span class=\"tag\" id=\"div_tag\">div</span>,\n",
       " <span class=\"tag\" id=\"span_tag\">span</span>,\n",
       " <span class=\"attr\">id</span>,\n",
       " <span class=\"attr\">class</span>,\n",
       " <span class=\"tag\">p</span>,\n",
       " <span class=\"tag\">h1</span>,\n",
       " <span class=\"tag\">li</span>,\n",
       " <span class=\"attr\">id</span>,\n",
       " <span class=\"attr\">class</span>]"
      ]
     },
     "execution_count": 44,
     "metadata": {},
     "output_type": "execute_result"
    }
   ],
   "source": [
    "# descendants at different levels\n",
    "bs.body.find_all('span')"
   ]
  },
  {
   "cell_type": "code",
   "execution_count": 46,
   "metadata": {
    "scrolled": true
   },
   "outputs": [
    {
     "name": "stdout",
     "output_type": "stream",
     "text": [
      "['html', '\\n', <html>\n",
      "<head>\n",
      "<title>A Simple Page</title>\n",
      "<style>\n",
      "\t\tbody {\n",
      "\t\t\tbackground-color: linen;\n",
      "\t\t}\n",
      "\t\th1 {\n",
      "\t\t\tcolor: blue;\n",
      "\t\t\ttext-align: center;\n",
      "\t\t}\n",
      "\t\th2 {\n",
      "\t\t\tcolor: green;\n",
      "\t\t}\n",
      "\t\t#first {\n",
      "\t\t\tcolor: brown;\n",
      "\t\t}\n",
      "\t\t.tag {\n",
      "\t\t\tcolor: red;\n",
      "\t\t\tbackground-color: yellow;\n",
      "\t\t}\n",
      "\t\t.attr {\n",
      "\t\t\tcolor: purple;\n",
      "\t\t\tbackground-color: grey;\n",
      "\t\t}\n",
      "\t</style>\n",
      "</head>\n",
      "<body>\n",
      "<h1>HTML Introduction</h1>\n",
      "<h2>HTML Documents</h2>\n",
      "<p>\n",
      "\t\t\t\tAll HTML documents start with a document type declaration &lt;!DOCTYPE html&gt;. An HTML document is enclosed by &lt;html&gt; and &lt;/html&gt;. The head element, denoted by &lt;head&gt; and &lt;/head&gt;, contains the metadata, which may include the title for the document. The visible part of an HTML document is between &lt;body&gt; and &lt;/body&gt;. \n",
      "\t\t\t</p>\n",
      "<h2>Basic Elements of an HTML Page</h2>\n",
      "<div>\n",
      "<p class=\"text first\" id=\"first\">\n",
      "\t\t\t\t\tAn HTML element is a component of an HTML document. Most HTML elements are written within an opening tag and a closing tag with content in between. <img alt=\"a tag demo\" src=\"tag.png\"/>\n",
      "</p>\n",
      "<p class=\"text second\" id=\"second\">\n",
      "\t\t\t\t\tThe basic elements include:\n",
      "\t\t\t\t</p>\n",
      "<ul>\n",
      "<li>\n",
      "\t\t\t\t\t\tText headers, denoted by tags <span class=\"tag\">h1</span>, <span class=\"tag\">h2</span>, \n",
      "\t\t\t\t\t\t<span class=\"tag\">h3</span>, <span class=\"tag\">h4</span>, \n",
      "\t\t\t\t\t\t<span class=\"tag\">h5</span>, and <span class=\"tag\">h6</span>\n",
      "</li>\n",
      "<li>\n",
      "\t\t\t\t\t\tParagraphs, denoted by the <span class=\"tag\" id=\"p_tag\">p</span> tag\n",
      "\t\t\t\t\t</li>\n",
      "<li>\n",
      "\t\t\t\t\t\tLinks, denoted by the <span class=\"tag\" id=\"a_tag\">a</span> tag\n",
      "\t\t\t\t\t</li>\n",
      "<li>\n",
      "\t\t\t\t\t\tImages, denoted by the <span class=\"tag\" id=\"img_tag\">img</span> tag\n",
      "\t\t\t\t\t</li>\n",
      "<li>\n",
      "\t\t\t\t\t\tDividers, denoted by the <span class=\"tag\" id=\"div_tag\">div</span> tag\n",
      "\t\t\t\t\t</li>\n",
      "<li>\n",
      "\t\t\t\t\t\tText spans, denoted by the <span class=\"tag\" id=\"span_tag\">span</span> tag\n",
      "\t\t\t\t\t</li>\n",
      "</ul>\n",
      "</div>\n",
      "<div>\n",
      "<p class=\"text third\" id=\"third\">\n",
      "\t\t\t\t\tElements can also contain attributes that define additional properties. The most common attributes are:\n",
      "\t\t\t\t</p>\n",
      "<ul>\n",
      "<li>\n",
      "<span class=\"attr\">id</span> - the unique id of an element in a page\n",
      "\t\t\t\t\t</li>\n",
      "<li>\n",
      "<span class=\"attr\">class</span> - the CSS class of an element\n",
      "\t\t\t\t\t</li>\n",
      "</ul>\n",
      "</div>\n",
      "<h2>Internal CSS</h2>\n",
      "<p>\n",
      "\t\t\t\tInternal CSS styles are defined within the &lt;style&gt; element inside the &lt;head&gt; section. A CSS-rule set consists of a selector and a declaration block. <img alt=\"a css rule set demo\" src=\"cssrule.png\"/>\n",
      "</p>\n",
      "<p>\n",
      "\t\t\t\tA selector finds the HTML elements you would like to style. The <b>element</b> selector selects HTML elements by name, such as <span class=\"tag\">p</span>, <span class=\"tag\">h1</span>, or <span class=\"tag\">li</span>. The <b>id</b> selector and the <b>class</b> selector use, respectively, the <span class=\"attr\">id</span> atrribute and the <span class=\"attr\">class</span> attribute to select an element. An <b>id</b> selector precedes an id of the element with a hash (#) character. To select elements of a specific class, write a period (.) character, followed by the class name. \n",
      "\t\t\t</p>\n",
      "</body>\n",
      "</html>, '\\n']\n"
     ]
    },
    {
     "data": {
      "text/plain": [
       "'html'"
      ]
     },
     "execution_count": 46,
     "metadata": {},
     "output_type": "execute_result"
    }
   ],
   "source": [
    "# a list of the elements at the top level\n",
    "lst1 = list(bs.children)\n",
    "print(lst1)\n",
    "lst1[0]"
   ]
  },
  {
   "cell_type": "code",
   "execution_count": 34,
   "metadata": {},
   "outputs": [
    {
     "data": {
      "text/plain": [
       "[bs4.element.Doctype,\n",
       " bs4.element.NavigableString,\n",
       " bs4.element.Tag,\n",
       " bs4.element.NavigableString]"
      ]
     },
     "execution_count": 34,
     "metadata": {},
     "output_type": "execute_result"
    }
   ],
   "source": [
    "# type of an item\n",
    "[type(item) for item in lst1]"
   ]
  },
  {
   "cell_type": "code",
   "execution_count": 35,
   "metadata": {},
   "outputs": [
    {
     "data": {
      "text/plain": [
       "['\\n', <head>\n",
       " <title>A Simple Page</title>\n",
       " <style>\n",
       " \t\tbody {\n",
       " \t\t\tbackground-color: linen;\n",
       " \t\t}\n",
       " \t\th1 {\n",
       " \t\t\tcolor: blue;\n",
       " \t\t\ttext-align: center;\n",
       " \t\t}\n",
       " \t\th2 {\n",
       " \t\t\tcolor: green;\n",
       " \t\t}\n",
       " \t\t#first {\n",
       " \t\t\tcolor: brown;\n",
       " \t\t}\n",
       " \t\t.tag {\n",
       " \t\t\tcolor: red;\n",
       " \t\t\tbackground-color: yellow;\n",
       " \t\t}\n",
       " \t\t.attr {\n",
       " \t\t\tcolor: purple;\n",
       " \t\t\tbackground-color: grey;\n",
       " \t\t}\n",
       " \t</style>\n",
       " </head>, '\\n', <body>\n",
       " <h1>HTML Introduction</h1>\n",
       " <h2>HTML Documents</h2>\n",
       " <p>\n",
       " \t\t\t\tAll HTML documents start with a document type declaration &lt;!DOCTYPE html&gt;. An HTML document is enclosed by &lt;html&gt; and &lt;/html&gt;. The head element, denoted by &lt;head&gt; and &lt;/head&gt;, contains the metadata, which may include the title for the document. The visible part of an HTML document is between &lt;body&gt; and &lt;/body&gt;. \n",
       " \t\t\t</p>\n",
       " <h2>Basic Elements of an HTML Page</h2>\n",
       " <div>\n",
       " <p class=\"text first\" id=\"first\">\n",
       " \t\t\t\t\tAn HTML element is a component of an HTML document. Most HTML elements are written within an opening tag and a closing tag with content in between. <img alt=\"a tag demo\" src=\"tag.png\"/>\n",
       " </p>\n",
       " <p class=\"text second\" id=\"second\">\n",
       " \t\t\t\t\tThe basic elements include:\n",
       " \t\t\t\t</p>\n",
       " <ul>\n",
       " <li>\n",
       " \t\t\t\t\t\tText headers, denoted by tags <span class=\"tag\">h1</span>, <span class=\"tag\">h2</span>, \n",
       " \t\t\t\t\t\t<span class=\"tag\">h3</span>, <span class=\"tag\">h4</span>, \n",
       " \t\t\t\t\t\t<span class=\"tag\">h5</span>, and <span class=\"tag\">h6</span>\n",
       " </li>\n",
       " <li>\n",
       " \t\t\t\t\t\tParagraphs, denoted by the <span class=\"tag\" id=\"p_tag\">p</span> tag\n",
       " \t\t\t\t\t</li>\n",
       " <li>\n",
       " \t\t\t\t\t\tLinks, denoted by the <span class=\"tag\" id=\"a_tag\">a</span> tag\n",
       " \t\t\t\t\t</li>\n",
       " <li>\n",
       " \t\t\t\t\t\tImages, denoted by the <span class=\"tag\" id=\"img_tag\">img</span> tag\n",
       " \t\t\t\t\t</li>\n",
       " <li>\n",
       " \t\t\t\t\t\tDividers, denoted by the <span class=\"tag\" id=\"div_tag\">div</span> tag\n",
       " \t\t\t\t\t</li>\n",
       " <li>\n",
       " \t\t\t\t\t\tText spans, denoted by the <span class=\"tag\" id=\"span_tag\">span</span> tag\n",
       " \t\t\t\t\t</li>\n",
       " </ul>\n",
       " </div>\n",
       " <div>\n",
       " <p class=\"text third\" id=\"third\">\n",
       " \t\t\t\t\tElements can also contain attributes that define additional properties. The most common attributes are:\n",
       " \t\t\t\t</p>\n",
       " <ul>\n",
       " <li>\n",
       " <span class=\"attr\">id</span> - the unique id of an element in a page\n",
       " \t\t\t\t\t</li>\n",
       " <li>\n",
       " <span class=\"attr\">class</span> - the CSS class of an element\n",
       " \t\t\t\t\t</li>\n",
       " </ul>\n",
       " </div>\n",
       " <h2>Internal CSS</h2>\n",
       " <p>\n",
       " \t\t\t\tInternal CSS styles are defined within the &lt;style&gt; element inside the &lt;head&gt; section. A CSS-rule set consists of a selector and a declaration block. <img alt=\"a css rule set demo\" src=\"cssrule.png\"/>\n",
       " </p>\n",
       " <p>\n",
       " \t\t\t\tA selector finds the HTML elements you would like to style. The <b>element</b> selector selects HTML elements by name, such as <span class=\"tag\">p</span>, <span class=\"tag\">h1</span>, or <span class=\"tag\">li</span>. The <b>id</b> selector and the <b>class</b> selector use, respectively, the <span class=\"attr\">id</span> atrribute and the <span class=\"attr\">class</span> attribute to select an element. An <b>id</b> selector precedes an id of the element with a hash (#) character. To select elements of a specific class, write a period (.) character, followed by the class name. \n",
       " \t\t\t</p>\n",
       " </body>, '\\n']"
      ]
     },
     "execution_count": 35,
     "metadata": {},
     "output_type": "execute_result"
    }
   ],
   "source": [
    "# all elements inside the html tag\n",
    "lst2 = list(lst1[2].children)\n",
    "lst2"
   ]
  },
  {
   "cell_type": "code",
   "execution_count": 36,
   "metadata": {},
   "outputs": [
    {
     "data": {
      "text/plain": [
       "['\\n', <h1>HTML Introduction</h1>, '\\n', <h2>HTML Documents</h2>, '\\n', <p>\n",
       " \t\t\t\tAll HTML documents start with a document type declaration &lt;!DOCTYPE html&gt;. An HTML document is enclosed by &lt;html&gt; and &lt;/html&gt;. The head element, denoted by &lt;head&gt; and &lt;/head&gt;, contains the metadata, which may include the title for the document. The visible part of an HTML document is between &lt;body&gt; and &lt;/body&gt;. \n",
       " \t\t\t</p>, '\\n', <h2>Basic Elements of an HTML Page</h2>, '\\n', <div>\n",
       " <p class=\"text first\" id=\"first\">\n",
       " \t\t\t\t\tAn HTML element is a component of an HTML document. Most HTML elements are written within an opening tag and a closing tag with content in between. <img alt=\"a tag demo\" src=\"tag.png\"/>\n",
       " </p>\n",
       " <p class=\"text second\" id=\"second\">\n",
       " \t\t\t\t\tThe basic elements include:\n",
       " \t\t\t\t</p>\n",
       " <ul>\n",
       " <li>\n",
       " \t\t\t\t\t\tText headers, denoted by tags <span class=\"tag\">h1</span>, <span class=\"tag\">h2</span>, \n",
       " \t\t\t\t\t\t<span class=\"tag\">h3</span>, <span class=\"tag\">h4</span>, \n",
       " \t\t\t\t\t\t<span class=\"tag\">h5</span>, and <span class=\"tag\">h6</span>\n",
       " </li>\n",
       " <li>\n",
       " \t\t\t\t\t\tParagraphs, denoted by the <span class=\"tag\" id=\"p_tag\">p</span> tag\n",
       " \t\t\t\t\t</li>\n",
       " <li>\n",
       " \t\t\t\t\t\tLinks, denoted by the <span class=\"tag\" id=\"a_tag\">a</span> tag\n",
       " \t\t\t\t\t</li>\n",
       " <li>\n",
       " \t\t\t\t\t\tImages, denoted by the <span class=\"tag\" id=\"img_tag\">img</span> tag\n",
       " \t\t\t\t\t</li>\n",
       " <li>\n",
       " \t\t\t\t\t\tDividers, denoted by the <span class=\"tag\" id=\"div_tag\">div</span> tag\n",
       " \t\t\t\t\t</li>\n",
       " <li>\n",
       " \t\t\t\t\t\tText spans, denoted by the <span class=\"tag\" id=\"span_tag\">span</span> tag\n",
       " \t\t\t\t\t</li>\n",
       " </ul>\n",
       " </div>, '\\n', <div>\n",
       " <p class=\"text third\" id=\"third\">\n",
       " \t\t\t\t\tElements can also contain attributes that define additional properties. The most common attributes are:\n",
       " \t\t\t\t</p>\n",
       " <ul>\n",
       " <li>\n",
       " <span class=\"attr\">id</span> - the unique id of an element in a page\n",
       " \t\t\t\t\t</li>\n",
       " <li>\n",
       " <span class=\"attr\">class</span> - the CSS class of an element\n",
       " \t\t\t\t\t</li>\n",
       " </ul>\n",
       " </div>, '\\n', <h2>Internal CSS</h2>, '\\n', <p>\n",
       " \t\t\t\tInternal CSS styles are defined within the &lt;style&gt; element inside the &lt;head&gt; section. A CSS-rule set consists of a selector and a declaration block. <img alt=\"a css rule set demo\" src=\"cssrule.png\"/>\n",
       " </p>, '\\n', <p>\n",
       " \t\t\t\tA selector finds the HTML elements you would like to style. The <b>element</b> selector selects HTML elements by name, such as <span class=\"tag\">p</span>, <span class=\"tag\">h1</span>, or <span class=\"tag\">li</span>. The <b>id</b> selector and the <b>class</b> selector use, respectively, the <span class=\"attr\">id</span> atrribute and the <span class=\"attr\">class</span> attribute to select an element. An <b>id</b> selector precedes an id of the element with a hash (#) character. To select elements of a specific class, write a period (.) character, followed by the class name. \n",
       " \t\t\t</p>, '\\n']"
      ]
     },
     "execution_count": 36,
     "metadata": {},
     "output_type": "execute_result"
    }
   ],
   "source": [
    "# all elements inside the body tag\n",
    "lst3 = list(lst2[3].children)\n",
    "lst3"
   ]
  },
  {
   "cell_type": "code",
   "execution_count": 37,
   "metadata": {},
   "outputs": [
    {
     "data": {
      "text/plain": [
       "['\\n', <p class=\"text first\" id=\"first\">\n",
       " \t\t\t\t\tAn HTML element is a component of an HTML document. Most HTML elements are written within an opening tag and a closing tag with content in between. <img alt=\"a tag demo\" src=\"tag.png\"/>\n",
       " </p>, '\\n', <p class=\"text second\" id=\"second\">\n",
       " \t\t\t\t\tThe basic elements include:\n",
       " \t\t\t\t</p>, '\\n', <ul>\n",
       " <li>\n",
       " \t\t\t\t\t\tText headers, denoted by tags <span class=\"tag\">h1</span>, <span class=\"tag\">h2</span>, \n",
       " \t\t\t\t\t\t<span class=\"tag\">h3</span>, <span class=\"tag\">h4</span>, \n",
       " \t\t\t\t\t\t<span class=\"tag\">h5</span>, and <span class=\"tag\">h6</span>\n",
       " </li>\n",
       " <li>\n",
       " \t\t\t\t\t\tParagraphs, denoted by the <span class=\"tag\" id=\"p_tag\">p</span> tag\n",
       " \t\t\t\t\t</li>\n",
       " <li>\n",
       " \t\t\t\t\t\tLinks, denoted by the <span class=\"tag\" id=\"a_tag\">a</span> tag\n",
       " \t\t\t\t\t</li>\n",
       " <li>\n",
       " \t\t\t\t\t\tImages, denoted by the <span class=\"tag\" id=\"img_tag\">img</span> tag\n",
       " \t\t\t\t\t</li>\n",
       " <li>\n",
       " \t\t\t\t\t\tDividers, denoted by the <span class=\"tag\" id=\"div_tag\">div</span> tag\n",
       " \t\t\t\t\t</li>\n",
       " <li>\n",
       " \t\t\t\t\t\tText spans, denoted by the <span class=\"tag\" id=\"span_tag\">span</span> tag\n",
       " \t\t\t\t\t</li>\n",
       " </ul>, '\\n']"
      ]
     },
     "execution_count": 37,
     "metadata": {},
     "output_type": "execute_result"
    }
   ],
   "source": [
    "# all elements inside the div element\n",
    "lst4 = list(lst3[9].children)\n",
    "lst4"
   ]
  },
  {
   "cell_type": "code",
   "execution_count": 51,
   "metadata": {},
   "outputs": [
    {
     "data": {
      "text/plain": [
       "['\\n\\t\\t\\t\\t\\t\\tText headers, denoted by tags ',\n",
       " <span class=\"tag\">h1</span>,\n",
       " ', ',\n",
       " <span class=\"tag\">h2</span>,\n",
       " ', \\n\\t\\t\\t\\t\\t\\t',\n",
       " <span class=\"tag\">h3</span>,\n",
       " ', ',\n",
       " <span class=\"tag\">h4</span>,\n",
       " ', \\n\\t\\t\\t\\t\\t\\t',\n",
       " <span class=\"tag\">h5</span>,\n",
       " ', and ',\n",
       " <span class=\"tag\">h6</span>,\n",
       " '\\n']"
      ]
     },
     "execution_count": 51,
     "metadata": {},
     "output_type": "execute_result"
    }
   ],
   "source": [
    "# siblings of the first li element\n",
    "lst5 = list(bs.li)\n",
    "lst5"
   ]
  },
  {
   "cell_type": "markdown",
   "metadata": {},
   "source": [
    "### Weather Data Retrieval"
   ]
  },
  {
   "cell_type": "code",
   "execution_count": null,
   "metadata": {},
   "outputs": [],
   "source": [
    "# connection\n",
    "page = requests.get('https://forecast.weather.gov/MapClick.php?lat=37.7772&lon=-122.4168#.XcroLFdKjb0')\n",
    "page.status_code"
   ]
  },
  {
   "cell_type": "code",
   "execution_count": 39,
   "metadata": {},
   "outputs": [
    {
     "name": "stdout",
     "output_type": "stream",
     "text": [
      "<title>National Weather Service</title>\n"
     ]
    }
   ],
   "source": [
    "# a BeautifulSoup object\n",
    "soup = BeautifulSoup(page.content, 'html.parser')\n",
    "print(soup.title)"
   ]
  },
  {
   "cell_type": "code",
   "execution_count": 54,
   "metadata": {},
   "outputs": [
    {
     "name": "stdout",
     "output_type": "stream",
     "text": [
      "<div class=\"tombstone-container\">\n",
      "<p class=\"period-name\">Tonight<br/><br/></p>\n",
      "<p><img alt=\"Tonight: Partly cloudy, with a low around 52. West wind 5 to 9 mph becoming calm  in the evening. \" class=\"forecast-icon\" src=\"newimages/medium/nsct.png\" title=\"Tonight: Partly cloudy, with a low around 52. West wind 5 to 9 mph becoming calm  in the evening. \"/></p><p class=\"short-desc\">Partly Cloudy</p><p class=\"temp temp-low\">Low: 52 °F</p></div>\n"
     ]
    },
    {
     "data": {
      "text/plain": [
       "<div class=\"tombstone-container\">\n",
       "<p class=\"period-name\">Sunday<br/><br/></p>\n",
       "<p><img alt=\"Sunday: Sunny, with a high near 72. North wind around 7 mph. \" class=\"forecast-icon\" src=\"newimages/medium/few.png\" title=\"Sunday: Sunny, with a high near 72. North wind around 7 mph. \"/></p><p class=\"short-desc\">Sunny</p><p class=\"temp temp-high\">High: 72 °F</p></div>"
      ]
     },
     "execution_count": 54,
     "metadata": {},
     "output_type": "execute_result"
    }
   ],
   "source": [
    "seven_day = soup.find(id = 'seven-day-forecast') \n",
    "daily_item = seven_day.find_all(class_ = 'tombstone-container')\n",
    "today = daily_item[0]\n",
    "print(today)\n",
    "daily_item[1]"
   ]
  },
  {
   "cell_type": "code",
   "execution_count": 41,
   "metadata": {},
   "outputs": [],
   "source": [
    "periods = [item.find(class_ = 'period-name').get_text() for item in daily_item]\n",
    "descs = [item.find('img')['title'] for item in daily_item]\n",
    "temps = [item.find(class_ = \"temp\").get_text() for item in daily_item]"
   ]
  },
  {
   "cell_type": "code",
   "execution_count": 42,
   "metadata": {},
   "outputs": [
    {
     "data": {
      "text/html": [
       "<div>\n",
       "<style scoped>\n",
       "    .dataframe tbody tr th:only-of-type {\n",
       "        vertical-align: middle;\n",
       "    }\n",
       "\n",
       "    .dataframe tbody tr th {\n",
       "        vertical-align: top;\n",
       "    }\n",
       "\n",
       "    .dataframe thead th {\n",
       "        text-align: right;\n",
       "    }\n",
       "</style>\n",
       "<table border=\"1\" class=\"dataframe\">\n",
       "  <thead>\n",
       "    <tr style=\"text-align: right;\">\n",
       "      <th></th>\n",
       "      <th>period</th>\n",
       "      <th>description</th>\n",
       "      <th>temperature</th>\n",
       "    </tr>\n",
       "  </thead>\n",
       "  <tbody>\n",
       "    <tr>\n",
       "      <th>0</th>\n",
       "      <td>Tonight</td>\n",
       "      <td>Tonight: Partly cloudy, with a low around 52. ...</td>\n",
       "      <td>Low: 52 °F</td>\n",
       "    </tr>\n",
       "    <tr>\n",
       "      <th>1</th>\n",
       "      <td>Sunday</td>\n",
       "      <td>Sunday: Sunny, with a high near 72. North wind...</td>\n",
       "      <td>High: 72 °F</td>\n",
       "    </tr>\n",
       "    <tr>\n",
       "      <th>2</th>\n",
       "      <td>SundayNight</td>\n",
       "      <td>Sunday Night: Mostly clear, with a low around ...</td>\n",
       "      <td>Low: 52 °F</td>\n",
       "    </tr>\n",
       "    <tr>\n",
       "      <th>3</th>\n",
       "      <td>Monday</td>\n",
       "      <td>Monday: Mostly sunny, with a high near 69. Nor...</td>\n",
       "      <td>High: 69 °F</td>\n",
       "    </tr>\n",
       "    <tr>\n",
       "      <th>4</th>\n",
       "      <td>MondayNight</td>\n",
       "      <td>Monday Night: Mostly cloudy, with a low around...</td>\n",
       "      <td>Low: 54 °F</td>\n",
       "    </tr>\n",
       "    <tr>\n",
       "      <th>5</th>\n",
       "      <td>Tuesday</td>\n",
       "      <td>Tuesday: Mostly sunny, with a high near 64.</td>\n",
       "      <td>High: 64 °F</td>\n",
       "    </tr>\n",
       "    <tr>\n",
       "      <th>6</th>\n",
       "      <td>TuesdayNight</td>\n",
       "      <td>Tuesday Night: Mostly clear, with a low around...</td>\n",
       "      <td>Low: 52 °F</td>\n",
       "    </tr>\n",
       "    <tr>\n",
       "      <th>7</th>\n",
       "      <td>Wednesday</td>\n",
       "      <td>Wednesday: Sunny, with a high near 66.</td>\n",
       "      <td>High: 66 °F</td>\n",
       "    </tr>\n",
       "    <tr>\n",
       "      <th>8</th>\n",
       "      <td>WednesdayNight</td>\n",
       "      <td>Wednesday Night: Clear, with a low around 50.</td>\n",
       "      <td>Low: 50 °F</td>\n",
       "    </tr>\n",
       "  </tbody>\n",
       "</table>\n",
       "</div>"
      ],
      "text/plain": [
       "           period                                        description  \\\n",
       "0         Tonight  Tonight: Partly cloudy, with a low around 52. ...   \n",
       "1          Sunday  Sunday: Sunny, with a high near 72. North wind...   \n",
       "2     SundayNight  Sunday Night: Mostly clear, with a low around ...   \n",
       "3          Monday  Monday: Mostly sunny, with a high near 69. Nor...   \n",
       "4     MondayNight  Monday Night: Mostly cloudy, with a low around...   \n",
       "5         Tuesday        Tuesday: Mostly sunny, with a high near 64.   \n",
       "6    TuesdayNight  Tuesday Night: Mostly clear, with a low around...   \n",
       "7       Wednesday             Wednesday: Sunny, with a high near 66.   \n",
       "8  WednesdayNight      Wednesday Night: Clear, with a low around 50.   \n",
       "\n",
       "   temperature  \n",
       "0   Low: 52 °F  \n",
       "1  High: 72 °F  \n",
       "2   Low: 52 °F  \n",
       "3  High: 69 °F  \n",
       "4   Low: 54 °F  \n",
       "5  High: 64 °F  \n",
       "6   Low: 52 °F  \n",
       "7  High: 66 °F  \n",
       "8   Low: 50 °F  "
      ]
     },
     "execution_count": 42,
     "metadata": {},
     "output_type": "execute_result"
    }
   ],
   "source": [
    "weather_df = pd.DataFrame({'period': periods, 'description': descs, 'temperature': temps})\n",
    "weather_df"
   ]
  },
  {
   "cell_type": "code",
   "execution_count": 55,
   "metadata": {},
   "outputs": [
    {
     "data": {
      "text/plain": [
       "200"
      ]
     },
     "execution_count": 55,
     "metadata": {},
     "output_type": "execute_result"
    }
   ],
   "source": [
    "page = requests.get('https://money.cnn.com/data/dow30/')\n",
    "page.status_code"
   ]
  },
  {
   "cell_type": "code",
   "execution_count": 142,
   "metadata": {},
   "outputs": [
    {
     "data": {
      "text/html": [
       "<div>\n",
       "<style scoped>\n",
       "    .dataframe tbody tr th:only-of-type {\n",
       "        vertical-align: middle;\n",
       "    }\n",
       "\n",
       "    .dataframe tbody tr th {\n",
       "        vertical-align: top;\n",
       "    }\n",
       "\n",
       "    .dataframe thead th {\n",
       "        text-align: right;\n",
       "    }\n",
       "</style>\n",
       "<table border=\"1\" class=\"dataframe\">\n",
       "  <thead>\n",
       "    <tr style=\"text-align: right;\">\n",
       "      <th></th>\n",
       "      <th>Ticker</th>\n",
       "      <th>Company</th>\n",
       "      <th>Price</th>\n",
       "      <th>Change</th>\n",
       "      <th>% Change</th>\n",
       "      <th>Volume</th>\n",
       "      <th>YTDchange</th>\n",
       "    </tr>\n",
       "  </thead>\n",
       "  <tbody>\n",
       "    <tr>\n",
       "      <th>MMM</th>\n",
       "      <td>MMM</td>\n",
       "      <td>3M</td>\n",
       "      <td>171.88</td>\n",
       "      <td>+0.95</td>\n",
       "      <td>+0.56%</td>\n",
       "      <td>2,617,186</td>\n",
       "      <td>-9.79%</td>\n",
       "    </tr>\n",
       "    <tr>\n",
       "      <th>AXP</th>\n",
       "      <td>AXP</td>\n",
       "      <td>American Express</td>\n",
       "      <td>120.76</td>\n",
       "      <td>-0.17</td>\n",
       "      <td>-0.14%</td>\n",
       "      <td>2,341,456</td>\n",
       "      <td>+26.69%</td>\n",
       "    </tr>\n",
       "    <tr>\n",
       "      <th>AAPL</th>\n",
       "      <td>AAPL</td>\n",
       "      <td>Apple</td>\n",
       "      <td>265.76</td>\n",
       "      <td>+3.12</td>\n",
       "      <td>+1.19%</td>\n",
       "      <td>25,093,666</td>\n",
       "      <td>+68.48%</td>\n",
       "    </tr>\n",
       "    <tr>\n",
       "      <th>BA</th>\n",
       "      <td>BA</td>\n",
       "      <td>Boeing</td>\n",
       "      <td>371.68</td>\n",
       "      <td>+4.24</td>\n",
       "      <td>+1.15%</td>\n",
       "      <td>5,496,784</td>\n",
       "      <td>+15.25%</td>\n",
       "    </tr>\n",
       "    <tr>\n",
       "      <th>CAT</th>\n",
       "      <td>CAT</td>\n",
       "      <td>Caterpillar</td>\n",
       "      <td>145.31</td>\n",
       "      <td>+1.87</td>\n",
       "      <td>+1.30%</td>\n",
       "      <td>2,827,466</td>\n",
       "      <td>+14.35%</td>\n",
       "    </tr>\n",
       "    <tr>\n",
       "      <th>CVX</th>\n",
       "      <td>CVX</td>\n",
       "      <td>Chevron</td>\n",
       "      <td>120.64</td>\n",
       "      <td>-0.13</td>\n",
       "      <td>-0.11%</td>\n",
       "      <td>5,589,793</td>\n",
       "      <td>+10.89%</td>\n",
       "    </tr>\n",
       "    <tr>\n",
       "      <th>CSCO</th>\n",
       "      <td>CSCO</td>\n",
       "      <td>Cisco</td>\n",
       "      <td>45.09</td>\n",
       "      <td>+0.18</td>\n",
       "      <td>+0.40%</td>\n",
       "      <td>32,387,644</td>\n",
       "      <td>+4.06%</td>\n",
       "    </tr>\n",
       "    <tr>\n",
       "      <th>KO</th>\n",
       "      <td>KO</td>\n",
       "      <td>Coca-Cola</td>\n",
       "      <td>52.67</td>\n",
       "      <td>+0.04</td>\n",
       "      <td>+0.08%</td>\n",
       "      <td>8,982,554</td>\n",
       "      <td>+11.24%</td>\n",
       "    </tr>\n",
       "    <tr>\n",
       "      <th>DIS</th>\n",
       "      <td>DIS</td>\n",
       "      <td>Disney</td>\n",
       "      <td>144.67</td>\n",
       "      <td>-2.48</td>\n",
       "      <td>-1.69%</td>\n",
       "      <td>13,749,344</td>\n",
       "      <td>+31.94%</td>\n",
       "    </tr>\n",
       "    <tr>\n",
       "      <th>DOW</th>\n",
       "      <td>DOW</td>\n",
       "      <td>Dow Chemical</td>\n",
       "      <td>54.86</td>\n",
       "      <td>+0.91</td>\n",
       "      <td>+1.69%</td>\n",
       "      <td>3,869,714</td>\n",
       "      <td>--</td>\n",
       "    </tr>\n",
       "    <tr>\n",
       "      <th>XOM</th>\n",
       "      <td>XOM</td>\n",
       "      <td>Exxon Mobil</td>\n",
       "      <td>69.19</td>\n",
       "      <td>+0.69</td>\n",
       "      <td>+1.01%</td>\n",
       "      <td>11,253,689</td>\n",
       "      <td>+1.47%</td>\n",
       "    </tr>\n",
       "    <tr>\n",
       "      <th>GS</th>\n",
       "      <td>GS</td>\n",
       "      <td>Goldman Sachs</td>\n",
       "      <td>220.25</td>\n",
       "      <td>+0.82</td>\n",
       "      <td>+0.37%</td>\n",
       "      <td>1,693,160</td>\n",
       "      <td>+31.85%</td>\n",
       "    </tr>\n",
       "    <tr>\n",
       "      <th>HD</th>\n",
       "      <td>HD</td>\n",
       "      <td>Home Depot</td>\n",
       "      <td>237.29</td>\n",
       "      <td>+0.74</td>\n",
       "      <td>+0.31%</td>\n",
       "      <td>3,526,672</td>\n",
       "      <td>+38.10%</td>\n",
       "    </tr>\n",
       "    <tr>\n",
       "      <th>IBM</th>\n",
       "      <td>IBM</td>\n",
       "      <td>IBM</td>\n",
       "      <td>134.40</td>\n",
       "      <td>+0.40</td>\n",
       "      <td>+0.30%</td>\n",
       "      <td>3,262,656</td>\n",
       "      <td>+18.24%</td>\n",
       "    </tr>\n",
       "    <tr>\n",
       "      <th>INTC</th>\n",
       "      <td>INTC</td>\n",
       "      <td>Intel</td>\n",
       "      <td>57.96</td>\n",
       "      <td>+0.15</td>\n",
       "      <td>+0.26%</td>\n",
       "      <td>16,112,991</td>\n",
       "      <td>+23.50%</td>\n",
       "    </tr>\n",
       "    <tr>\n",
       "      <th>JNJ</th>\n",
       "      <td>JNJ</td>\n",
       "      <td>Johnson &amp; Johnson</td>\n",
       "      <td>134.94</td>\n",
       "      <td>+3.98</td>\n",
       "      <td>+3.04%</td>\n",
       "      <td>10,495,624</td>\n",
       "      <td>+4.56%</td>\n",
       "    </tr>\n",
       "    <tr>\n",
       "      <th>JPM</th>\n",
       "      <td>JPM</td>\n",
       "      <td>JPMorgan Chase</td>\n",
       "      <td>129.53</td>\n",
       "      <td>+0.93</td>\n",
       "      <td>+0.72%</td>\n",
       "      <td>10,163,667</td>\n",
       "      <td>+32.69%</td>\n",
       "    </tr>\n",
       "    <tr>\n",
       "      <th>MCD</th>\n",
       "      <td>MCD</td>\n",
       "      <td>McDonald's</td>\n",
       "      <td>193.97</td>\n",
       "      <td>-0.03</td>\n",
       "      <td>-0.02%</td>\n",
       "      <td>2,991,719</td>\n",
       "      <td>+9.24%</td>\n",
       "    </tr>\n",
       "    <tr>\n",
       "      <th>MRK</th>\n",
       "      <td>MRK</td>\n",
       "      <td>Merck</td>\n",
       "      <td>84.90</td>\n",
       "      <td>+0.35</td>\n",
       "      <td>+0.41%</td>\n",
       "      <td>9,233,008</td>\n",
       "      <td>+11.11%</td>\n",
       "    </tr>\n",
       "    <tr>\n",
       "      <th>MSFT</th>\n",
       "      <td>MSFT</td>\n",
       "      <td>Microsoft</td>\n",
       "      <td>149.97</td>\n",
       "      <td>+1.91</td>\n",
       "      <td>+1.29%</td>\n",
       "      <td>23,508,807</td>\n",
       "      <td>+47.65%</td>\n",
       "    </tr>\n",
       "    <tr>\n",
       "      <th>NKE</th>\n",
       "      <td>NKE</td>\n",
       "      <td>Nike</td>\n",
       "      <td>93.04</td>\n",
       "      <td>+1.77</td>\n",
       "      <td>+1.94%</td>\n",
       "      <td>6,785,736</td>\n",
       "      <td>+25.49%</td>\n",
       "    </tr>\n",
       "    <tr>\n",
       "      <th>PFE</th>\n",
       "      <td>PFE</td>\n",
       "      <td>Pfizer</td>\n",
       "      <td>37.28</td>\n",
       "      <td>+0.73</td>\n",
       "      <td>+2.00%</td>\n",
       "      <td>34,515,591</td>\n",
       "      <td>-14.59%</td>\n",
       "    </tr>\n",
       "    <tr>\n",
       "      <th>PG</th>\n",
       "      <td>PG</td>\n",
       "      <td>Procter &amp; Gamble</td>\n",
       "      <td>120.54</td>\n",
       "      <td>+0.04</td>\n",
       "      <td>+0.03%</td>\n",
       "      <td>7,108,595</td>\n",
       "      <td>+31.14%</td>\n",
       "    </tr>\n",
       "    <tr>\n",
       "      <th>TRV</th>\n",
       "      <td>TRV</td>\n",
       "      <td>Travelers Companies Inc</td>\n",
       "      <td>133.57</td>\n",
       "      <td>-0.38</td>\n",
       "      <td>-0.28%</td>\n",
       "      <td>1,450,033</td>\n",
       "      <td>+11.54%</td>\n",
       "    </tr>\n",
       "    <tr>\n",
       "      <th>UTX</th>\n",
       "      <td>UTX</td>\n",
       "      <td>United Technologies</td>\n",
       "      <td>149.36</td>\n",
       "      <td>+1.25</td>\n",
       "      <td>+0.84%</td>\n",
       "      <td>1,989,150</td>\n",
       "      <td>+40.27%</td>\n",
       "    </tr>\n",
       "    <tr>\n",
       "      <th>UNH</th>\n",
       "      <td>UNH</td>\n",
       "      <td>UnitedHealth</td>\n",
       "      <td>269.40</td>\n",
       "      <td>+13.57</td>\n",
       "      <td>+5.30%</td>\n",
       "      <td>10,138,245</td>\n",
       "      <td>+8.14%</td>\n",
       "    </tr>\n",
       "    <tr>\n",
       "      <th>VZ</th>\n",
       "      <td>VZ</td>\n",
       "      <td>Verizon</td>\n",
       "      <td>59.51</td>\n",
       "      <td>+0.17</td>\n",
       "      <td>+0.29%</td>\n",
       "      <td>11,759,002</td>\n",
       "      <td>+5.85%</td>\n",
       "    </tr>\n",
       "    <tr>\n",
       "      <th>V</th>\n",
       "      <td>V</td>\n",
       "      <td>Visa</td>\n",
       "      <td>179.77</td>\n",
       "      <td>+0.02</td>\n",
       "      <td>+0.01%</td>\n",
       "      <td>7,809,545</td>\n",
       "      <td>+36.25%</td>\n",
       "    </tr>\n",
       "    <tr>\n",
       "      <th>WMT</th>\n",
       "      <td>WMT</td>\n",
       "      <td>Wal-Mart</td>\n",
       "      <td>118.87</td>\n",
       "      <td>-1.78</td>\n",
       "      <td>-1.48%</td>\n",
       "      <td>10,146,507</td>\n",
       "      <td>+27.61%</td>\n",
       "    </tr>\n",
       "    <tr>\n",
       "      <th>WBA</th>\n",
       "      <td>WBA</td>\n",
       "      <td>Walgreen</td>\n",
       "      <td>62.14</td>\n",
       "      <td>+0.66</td>\n",
       "      <td>+1.07%</td>\n",
       "      <td>5,321,153</td>\n",
       "      <td>-9.06%</td>\n",
       "    </tr>\n",
       "  </tbody>\n",
       "</table>\n",
       "</div>"
      ],
      "text/plain": [
       "     Ticker                  Company   Price  Change % Change      Volume  \\\n",
       "MMM     MMM                       3M  171.88   +0.95   +0.56%   2,617,186   \n",
       "AXP     AXP         American Express  120.76   -0.17   -0.14%   2,341,456   \n",
       "AAPL   AAPL                    Apple  265.76   +3.12   +1.19%  25,093,666   \n",
       "BA       BA                   Boeing  371.68   +4.24   +1.15%   5,496,784   \n",
       "CAT     CAT              Caterpillar  145.31   +1.87   +1.30%   2,827,466   \n",
       "CVX     CVX                  Chevron  120.64   -0.13   -0.11%   5,589,793   \n",
       "CSCO   CSCO                    Cisco   45.09   +0.18   +0.40%  32,387,644   \n",
       "KO       KO                Coca-Cola   52.67   +0.04   +0.08%   8,982,554   \n",
       "DIS     DIS                   Disney  144.67   -2.48   -1.69%  13,749,344   \n",
       "DOW     DOW             Dow Chemical   54.86   +0.91   +1.69%   3,869,714   \n",
       "XOM     XOM              Exxon Mobil   69.19   +0.69   +1.01%  11,253,689   \n",
       "GS       GS            Goldman Sachs  220.25   +0.82   +0.37%   1,693,160   \n",
       "HD       HD               Home Depot  237.29   +0.74   +0.31%   3,526,672   \n",
       "IBM     IBM                      IBM  134.40   +0.40   +0.30%   3,262,656   \n",
       "INTC   INTC                    Intel   57.96   +0.15   +0.26%  16,112,991   \n",
       "JNJ     JNJ        Johnson & Johnson  134.94   +3.98   +3.04%  10,495,624   \n",
       "JPM     JPM           JPMorgan Chase  129.53   +0.93   +0.72%  10,163,667   \n",
       "MCD     MCD               McDonald's  193.97   -0.03   -0.02%   2,991,719   \n",
       "MRK     MRK                    Merck   84.90   +0.35   +0.41%   9,233,008   \n",
       "MSFT   MSFT                Microsoft  149.97   +1.91   +1.29%  23,508,807   \n",
       "NKE     NKE                     Nike   93.04   +1.77   +1.94%   6,785,736   \n",
       "PFE     PFE                   Pfizer   37.28   +0.73   +2.00%  34,515,591   \n",
       "PG       PG         Procter & Gamble  120.54   +0.04   +0.03%   7,108,595   \n",
       "TRV     TRV  Travelers Companies Inc  133.57   -0.38   -0.28%   1,450,033   \n",
       "UTX     UTX      United Technologies  149.36   +1.25   +0.84%   1,989,150   \n",
       "UNH     UNH             UnitedHealth  269.40  +13.57   +5.30%  10,138,245   \n",
       "VZ       VZ                  Verizon   59.51   +0.17   +0.29%  11,759,002   \n",
       "V         V                     Visa  179.77   +0.02   +0.01%   7,809,545   \n",
       "WMT     WMT                 Wal-Mart  118.87   -1.78   -1.48%  10,146,507   \n",
       "WBA     WBA                 Walgreen   62.14   +0.66   +1.07%   5,321,153   \n",
       "\n",
       "     YTDchange  \n",
       "MMM     -9.79%  \n",
       "AXP    +26.69%  \n",
       "AAPL   +68.48%  \n",
       "BA     +15.25%  \n",
       "CAT    +14.35%  \n",
       "CVX    +10.89%  \n",
       "CSCO    +4.06%  \n",
       "KO     +11.24%  \n",
       "DIS    +31.94%  \n",
       "DOW         --  \n",
       "XOM     +1.47%  \n",
       "GS     +31.85%  \n",
       "HD     +38.10%  \n",
       "IBM    +18.24%  \n",
       "INTC   +23.50%  \n",
       "JNJ     +4.56%  \n",
       "JPM    +32.69%  \n",
       "MCD     +9.24%  \n",
       "MRK    +11.11%  \n",
       "MSFT   +47.65%  \n",
       "NKE    +25.49%  \n",
       "PFE    -14.59%  \n",
       "PG     +31.14%  \n",
       "TRV    +11.54%  \n",
       "UTX    +40.27%  \n",
       "UNH     +8.14%  \n",
       "VZ      +5.85%  \n",
       "V      +36.25%  \n",
       "WMT    +27.61%  \n",
       "WBA     -9.06%  "
      ]
     },
     "execution_count": 142,
     "metadata": {},
     "output_type": "execute_result"
    }
   ],
   "source": [
    "bs4 = BeautifulSoup(page.content, 'html.parser')\n",
    "dow = {}\n",
    "Symbols = bs4.find_all(class_ = 'wsod_firstCol')\n",
    "dow['Ticker'] = []\n",
    "dow['Company'] = []\n",
    "for s in Symbols[1:]:\n",
    "    txt = s.get_text()\n",
    "    dow['Ticker'].append(txt[:txt.find(u'\\xa0')])\n",
    "    dow['Company'].append(txt[txt.find(u'\\xa0'):].replace(u'\\xa0', u''))\n",
    "Header = bs4.find_all('th', {'class': 'wsod_aRight'})\n",
    "keys = [item.get_text() for item in Header]\n",
    "for k in keys:\n",
    "    dow[k] = []\n",
    "Data = bs4.find_all('td', class_ = 'wsod_aRight')\n",
    "i = 0\n",
    "for s in Data:\n",
    "    if i % 5 == 0 or i % 5 == 4:\n",
    "        dow[keys[i % 5]].append(s.find('span').get_text())\n",
    "    elif i % 5 == 3:\n",
    "        dow[keys[i % 5]].append(s.get_text())\n",
    "    else:\n",
    "        dow[keys[i % 5]].append(s.find('span').find('span').get_text())\n",
    "    i += 1\n",
    "dow\n",
    "dowDF = DataFrame(dow, index = dow['Ticker'])\n",
    "dowDF"
   ]
  },
  {
   "cell_type": "code",
   "execution_count": 106,
   "metadata": {},
   "outputs": [
    {
     "data": {
      "text/plain": [
       "[('MMM', '3M', '171.88'),\n",
       " ('AXP', 'American Express', '120.76'),\n",
       " ('AAPL', 'Apple', '265.76'),\n",
       " ('BA', 'Boeing', '371.68'),\n",
       " ('CAT', 'Caterpillar', '145.31'),\n",
       " ('CVX', 'Chevron', '120.64'),\n",
       " ('CSCO', 'Cisco', '45.09'),\n",
       " ('KO', 'Coca-Cola', '52.67'),\n",
       " ('DIS', 'Disney', '144.67'),\n",
       " ('DOW', 'Dow Chemical', '54.86'),\n",
       " ('XOM', 'Exxon Mobil', '69.19'),\n",
       " ('GS', 'Goldman Sachs', '220.25'),\n",
       " ('HD', 'Home Depot', '237.29'),\n",
       " ('IBM', 'IBM', '134.40'),\n",
       " ('INTC', 'Intel', '57.96'),\n",
       " ('JNJ', 'Johnson & Johnson', '134.94'),\n",
       " ('JPM', 'JPMorgan Chase', '129.53'),\n",
       " ('MCD', \"McDonald's\", '193.97'),\n",
       " ('MRK', 'Merck', '84.90'),\n",
       " ('MSFT', 'Microsoft', '149.97'),\n",
       " ('NKE', 'Nike', '93.04'),\n",
       " ('PFE', 'Pfizer', '37.28'),\n",
       " ('PG', 'Procter & Gamble', '120.54'),\n",
       " ('TRV', 'Travelers Companies Inc', '133.57'),\n",
       " ('UTX', 'United Technologies', '149.36'),\n",
       " ('UNH', 'UnitedHealth', '269.40'),\n",
       " ('VZ', 'Verizon', '59.51'),\n",
       " ('V', 'Visa', '179.77'),\n",
       " ('WMT', 'Wal-Mart', '118.87'),\n",
       " ('WBA', 'Walgreen', '62.14')]"
      ]
     },
     "execution_count": 106,
     "metadata": {},
     "output_type": "execute_result"
    }
   ],
   "source": [
    "import re\n",
    "search_pattern = re.compile('class=\"wsod_symbol\">(.*?)<\\/a>.*?<span.*?\">(.*?)<\\/span>.*?\\n.*?class=\"wsod_stream\">(.*?)<\\/span>')\n",
    "dji_list_in_text = re.findall(search_pattern, page.text)\n",
    "dji_list_in_text"
   ]
  },
  {
   "cell_type": "code",
   "execution_count": null,
   "metadata": {},
   "outputs": [],
   "source": []
  }
 ],
 "metadata": {
  "kernelspec": {
   "display_name": "Python 3",
   "language": "python",
   "name": "python3"
  },
  "language_info": {
   "codemirror_mode": {
    "name": "ipython",
    "version": 3
   },
   "file_extension": ".py",
   "mimetype": "text/x-python",
   "name": "python",
   "nbconvert_exporter": "python",
   "pygments_lexer": "ipython3",
   "version": "3.6.5"
  }
 },
 "nbformat": 4,
 "nbformat_minor": 2
}
